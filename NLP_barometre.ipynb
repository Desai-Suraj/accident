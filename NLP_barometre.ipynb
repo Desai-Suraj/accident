{
 "cells": [
  {
   "cell_type": "code",
   "execution_count": 1,
   "metadata": {},
   "outputs": [
    {
     "name": "stderr",
     "output_type": "stream",
     "text": [
      "C:\\Users\\sylva\\anaconda3\\lib\\site-packages\\IPython\\core\\interactiveshell.py:3146: DtypeWarning: Columns (1,3,68,70) have mixed types.Specify dtype option on import or set low_memory=False.\n",
      "  has_raised = await self.run_ast_nodes(code_ast.body, cell_name,\n"
     ]
    }
   ],
   "source": [
    "importation des packages\n",
    "import pandas as pd\n",
    "import re\n",
    "from nltk import sent_tokenize\n",
    "from nltk.corpus import stopwords\n",
    "from nltk.tokenize import word_tokenize\n",
    "from nltk.stem.snowball import SnowballStemmer\n",
    "import spacy\n",
    "from spacy import displacy\n",
    "import wordcloud\n",
    "import numpy as np\n",
    "import io\n",
    "import requests\n",
    "import PIL\n",
    "import matplotlib.pyplot as plt\n",
    "from transformers import pipeline\n",
    "# On importe les fonctions de tokenisation de mots, de POS-Tagging et de reconnaissance d'entités de NLTK\n",
    "from nltk.tokenize import word_tokenize\n",
    "from nltk.tag import pos_tag\n",
    "from nltk.chunk import ne_chunk\n",
    "df=pd.read_csv(\"C:/Users/sylva/OneDrive/Bureau/barometre/donnees_brutes_2021.csv\", sep=\";\")\n",
    "classifier = pipeline('sentiment-analysis', model=\"nlptown/bert-base-multilingual-uncased-sentiment\")\n"
   ]
  },
  {
   "cell_type": "code",
   "execution_count": 2,
   "metadata": {},
   "outputs": [],
   "source": [
    "nlp = spacy.load('fr_core_news_md')"
   ]
  },
  {
   "cell_type": "code",
   "execution_count": 3,
   "metadata": {},
   "outputs": [],
   "source": [
    "#on crée les coordonnées géographiques homogènes\n",
    "p=re.compile('(\\D*) \\(([0-9]{2,2})[0-9]{3,3}\\)')\n",
    "def yo_ville(x):\n",
    "    m=p.match(x)\n",
    "    return m.group(1)+' ' +m.group(2)\n",
    "df['Ville']=df['Commune'].apply(yo_ville)"
   ]
  },
  {
   "cell_type": "markdown",
   "metadata": {},
   "source": [
    "Exemple de Chalons : résumé et notation de positivité"
   ]
  },
  {
   "cell_type": "code",
   "execution_count": 18,
   "metadata": {},
   "outputs": [],
   "source": [
    "df_chalon=df[df['Commune']=='Châlons-en-Champagne (51000)']"
   ]
  },
  {
   "cell_type": "code",
   "execution_count": 19,
   "metadata": {},
   "outputs": [],
   "source": [
    "df_nlp_chalon=df_chalon[['Endroit_problematique_pieton',\n",
    "       'Endroit_le_plus_apprecie', 'Commentaires']]"
   ]
  },
  {
   "cell_type": "code",
   "execution_count": 71,
   "metadata": {},
   "outputs": [
    {
     "data": {
      "text/plain": [
       "5223                                                                                                                                                                                                                                                                                                                                                                                                                        Les jardins du jard\\r\\nRue piétonne du centre ville\\r\\nrue de marne\n",
       "5224                                                                                                                                                                                                                                                                                                                                                                                                  Parler \"appréciation\" sous-entend \"marche loisir\" que je pratique le long des cours d'eau\n",
       "5225                                                                                                                                                                                                                                                                                                                                                                                                                                                                                        NaN\n",
       "5226                                                                                                                                                                                                                                                                                                                                                                                                                                                              les jards et long de la marne\n",
       "5227                                                                                                                                                                                                                                                                                                                                                                                                                      le grand Jard , le jard anglais, le parcours de santé le centre ville\n",
       "5228                                                                                                                                                                                                                                                                                                                                                                                                                                                                         Jard canal environ\n",
       "5229                                                                                                                                                                                                                                                                                                                                                          Centre-ville (secteur place de la république élargi même si celle ci reste surrocupée par la voiture en stationnement), les jards\n",
       "5230                                                                                                                                                                                                                                                                                                                                                                                                                                                                              Rue d'Orfeuil\n",
       "5231                                                                                                                                                                                                                                                                                                                          Partir de chez moi en direction du Jard marcher le long du canal ou prendre la direction du bois qui longe la Marne ou bien le parcours santé qui longe la Marne.\n",
       "5232                                                                                                                                                                                                                                                                                                                                                                                                                                                                                        NaN\n",
       "5233                                                                                                                                                                                                                                                                                                                                                                                                        Parcours de sante (chemin du Pertuis) et le long du canal au niveau du Grand Jard. \n",
       "5234                                                                                                                                                                                                                                                                                                                                                                                                                           les jards, le canal et les bords de Marne, en plein centre ville\n",
       "5235                                                                                                                                                                                                                                                                                                                                                                                                                                                                                        NaN\n",
       "5236                                                                                                                                                                                                                                                                                                                                                                                                                                              l'hyper centre et le cheminement vers la gare\n",
       "5237                                                                                                                                                                                                                                                                                                                                                                                                                                                                                        NaN\n",
       "5238                                                                                                                                                                                                                                                                                                                                                                                                                                                                                        NaN\n",
       "5239                                                                                                                                                                                                                                                                                                                                                                                                                                                                                 Grand jard\n",
       "5240                                                                                                                                                                                                                                                                                                                                                                                                                                                                                        NaN\n",
       "5241                                                                                                                                                                                                                                                                                                                                                                                                Le bord de la Marne entre le Jard Anglais le Bois des Soeurs, les bords du canal, les Jards\n",
       "5242                                                                                                                                                                                                                                                                                                                                                                                                                              avenue du parc des expositions,\\r\\nBoulevard Croix Dampierre,\n",
       "5243                                                                                                                                                                                                                                                                                                                                                                                                                                                          les jards et la ville en générale\n",
       "5244                                                                                                                                                                                                                                                                                                                                                                                                                                                                                       jard\n",
       "5245                                                                                                                                                                                                                                                                                                                                                                                                                                                                                        NaN\n",
       "5246                                                                                                                                                                                                                                                                                                                                                                                                  Petit et Grand Jards, Jard Anglais, Bords de Marne, Voie Verte, tout le centre-ville, ...\n",
       "5247                                                                                                                                                                                                                                                                                                                                                                                                                         Les Jards. 3 Zones avec arbres et pelouses au milieu de la ville. \n",
       "5248                                                                                                                                                                                                                                                                                                                                                                                                                                                                       Le chemin de halage \n",
       "5249                                                                                                                                                                                                                                                                                                                                                                                                                                    les allées des parcs , et les zones les mojns passantes\n",
       "5250                                                                                                                                                                                                                                                                                                                                                                                                                                                                Le long du canal, les jards\n",
       "5251                                                                                                                                                                                                                                                                                                                                                                    Le centre ville\\r\\nles abords de l'hôtel de ville\\r\\nLa rue de la marne\\r\\nla rue Juliette recamier\\r\\nla rue des jards\n",
       "5252                                                                                                                                                                                                                                                                                                                                                                                                                                                                         Les bords du canal\n",
       "5253                                                                                                                                                                                                                                                                                                                                                                                                                                               rue Emile Zola, promenades le long du canal \n",
       "5254                                                                                                                                                                                                                                                                                                                                                                                                                                                            Jard, Rue d'Orfeuil, Place Foch\n",
       "5255                                                                                                                                                                                                                                                                                                                                                                                                                                                                                        NaN\n",
       "5256                                                                                                                                                                                                                                                                                                                                                                                                                                                                                       Jard\n",
       "5257                                                                                                                                                                                                                                                                                                                                                                                                                                                                                        NaN\n",
       "5258                                                                                                                                                                                                                                                                                                                                                                                                             Les jards, certaines rues de l’hyper centre peux fréquentées par les voitures.\n",
       "5259                                                                                                                                                                                                                                                                                                                                                                                                                                                                             Avenue leclerc\n",
       "5260                                                                                                                                                                                                                                                                                                                                                                                                                                                                        Les jardins publics\n",
       "5261                                                                                                                                                                                                                                                                                                                                                                                                                                                          aucune rue - le canal- les jards-\n",
       "5262                                                                                                                                                                                                                                                                                                                                                                                                                                                          Contre allées pour aller en ville\n",
       "5263                                                                                                                                                                                                                                                                                                                                                                                                                                                                                       Jard\n",
       "5264                                                                                                                                                                                                                                                                                                                                                                                                       Le centre ville car espaces 30 pas ou peu de voitures, l'espace est propre et apaisé\n",
       "5265                                                                                                                                                                                                                                                                                                                                                                                                                                                                        Les jardins publics\n",
       "5266                                                                                                                                                                                                                                                                                                                                                                                                                                                                                        NaN\n",
       "5267                                                                                                                                                                                                                                                                                                                                     hors espace urbain : les Jards, bords du canal / Espace Urbain : rue Juliette Récamier, rue d'Orfeuil, Chaussée du port côté sentier, allée de forêts.\n",
       "5268                                                                                                                                                                                                                                                                                                                                                                                                                les jards, lieux de promenade exceptionnels et très proches du centre ville\n",
       "5269                                                                                                                                                                                                                                                                                                                                                                                                                                                                                        NaN\n",
       "5270                                                                                                   Centre ville piétonnier ainsi que les quelques liaisons réalisées au travers d'espaces \"verdis\" tel que le passage entre rue Croix Milson et quartier vallée saint-Pierre ou l'aménagement entre les jards et les efforts réalisés dans le réaménagement des chemins présents entre les différents bâtiments des grands espaces d'habitat collectifs (notamment aux abords des crèches).\n",
       "5271                                                                                                                                                                                                                                                                           Sur les trottoirs larges (ex. rue Jean Jaurès ou avenue du général Leclerc)\\r\\nDans les parcs bien aménagés pour les piétons (grand jard, jard anglais) mais uniquement de jour. Parcs très mal éclairés la nuit\n",
       "5272                                                                                                                                                                                                                                                                                                                                                                                                                                                            zones piétonnes du centre ville\n",
       "5273                                                                                                                                                                                                                                                                                                                                                                                                                                                                           le long du canal\n",
       "5274                                                                                                                                                                                                                                                                                                                                                                                                                                               Rue du camp d'Attila\\r\\nChemin de l'épine...\n",
       "5275                                                                                                                                                                                                                                                                                                                                                                                                                                                  Piste verte au bord du canal et les Jards\n",
       "5276                                                                                                                                                                                                                                                                                                                                                                                                                                                  Les parcs que nous appelons : les jards. \n",
       "5277                                                                                                                                                                                                                                                                                                                                                                                                                                                                           Avenue de Paris \n",
       "5278                                                                                                                                                                                                                                                                                                                                                                                                                                                                                        NaN\n",
       "5279                                                                                                                                                                                                                                                                                                                                                                                                                                                                          le long du canal.\n",
       "5280                                                                                                                                                                                                                                                                                                                                                                                                                                          Rue arborées et espaces verts et le long du canal\n",
       "5281                                                                                                                                                                                                                                                                                                                                                                                                                                                                                        NaN\n",
       "5282                                                                                                                                                                                                                                                                                                                                                                                                                                                                                  les jards\n",
       "5283                                                                                                                                                                                                                                                                                                                                                                                                                                                                              Le grand Jard\n",
       "5284                                                                                                                                                                                                                                                                                                                                                                                                                                                            Les espaces verts nommés Jards.\n",
       "5285                                                                                                                                                                                                                                                                                                                                                                                                                                                                                      Aucun\n",
       "5286                                                                                   Je suis une piétonne dans Châlons depuis très longtemps et j'aime marcher dans ma ville. Mes lieux préférés : le grand jard, la rue de Jessaint, rue des Augustins, rue de Chastillon, Cours d'Ormesson, rue Carnot, rue Pasteur, etc... quai des Arts, boulevard Victor Hugo, rue du Cirque, les Allées de Forêts, rue du Canal Louis XII etc... et toujours le long des canaux à toutes les saisons...\n",
       "5287                                                                                                                                                                                                                                                                                                                                                                                        Les lieux sans voiture : Petit Jard, Grand Jard, Jard Anglais, le long du canal latéral de la Marne\n",
       "5288                                                                                                                                                                                                                                                                                                                                                                                                                                                                                        NaN\n",
       "5289                                                                                                                                                                                                                                                                                                                                                                                                                                                                                \"Les Jards\"\n",
       "5290                                                                                                                                                                                                                                                                                                                                                                                          Le long du canal, le passage par les nards, et généralement le long des voies d’eau dans Chalons.\n",
       "5291                                                                                                                                                                                                                                                                                                                                     Les Jards (petit jard / jard anglais / grand jard), piste le long du canal (attention toutefois cohabitation cyclistes / piétons pas toujours facile).\n",
       "5292                                                                                                                                                                                                                                                                                                                                                                                                                                                                               Parc du jard\n",
       "5293                                                                                                                                                                                                                                                                                                                                                                                                                                 Le long du canal, de la Marne et dans les parcs chalonnais\n",
       "5294                                                                                                                                                                                                                                                                                                                                                                                      Allées de Forêts, Halages, grand jard, Jard Anglais...\\r\\nBords de Marne Rive droite ou rive gauche..\n",
       "5295                                                                                                                                                                                                                                                                                                                                                                                                                                                             les bords du canal - les jards\n",
       "5296                                                                                                                                                                                                                                                                                                                                                                                                                                     Le long du canal de la Marne au Rhin ,partie urbaine. \n",
       "5297                                                                                                                                                                                                                                                                                                                                                                                                                              l'hypercentre, le petit jard, le grand jard, le jard anglais.\n",
       "5298                                                                                                                                                                                                                                                                                                                                                                                                                                                                     place de la république\n",
       "5299                                                                                                                                                                                                                                                                                                                                                                                                                                                            Les rues piétonnes et les Jards\n",
       "5300                                                                                                                                                                                                                                                                                                                                                                                                                                                                                        NaN\n",
       "5301                                                                                                                                                                                                                                                                                                                                                              jardins publiques du centre ville et rues adjacentes.également,vers le square Antral et bien évidemment ,les rues piétonnes .\n",
       "5302                                                                                                                                                                                                                                                                                                                                                                                                                                  Bords de Marne, Jards, centre-ville, bords du canal, ....\n",
       "5303                                                                                                                                                                                                                                                                                                                                                                                            voie verte du bord du canal, centre-ville, bords de marne, jards, parcours de santé du Perthuis\n",
       "5304                                                                                                                                                                                                                                                                                                                                                                               Centre-ville, Petit Jard, Grand Jard, Jard anglais, bords de Marne, bords des canaux, parc du Perthuis, ....\n",
       "5305                                                                                                                                                                                                                                                                                                                                                                                                                                                                                        NaN\n",
       "5306                                                                                                                                                                                                                                                                                                                                                                                                                                                                Jards ; Centre ville piéton\n",
       "5307                                                                                                                                                                                                                                                                                                                                                                                                                                          L'Avenue de Valmy bordée de magnifiques platanes.\n",
       "5308    La commune limitrophe de Compertrix, dont le Maire a sû faire preuve de suffisamment de discernement pendant le confinement du printemps 2020 (c'est plus facile quand on connait bien sa commune et les habitudes de ses habitants) pour ne pas interdire l'accès des espaces verts aux piétons et promeneurs de chiens ; ces espaces verts sont constamment tondus avec soin, et de nombreuses poubelles, régulièrement vidées, permettent d'y déposer les sacs à déjections canines.\n",
       "5309                                                                                                                                                                                                           avenue de Paris : les trottoirs sont si larges et les piétons si rares qu'on se demande pourquoi ces trottoirs ont pris une bonne place au dépend de la chaussée trop étroite pour 3 voies dont une pour les bus qu'ils ne peuvent pas utiliser correctement vu leur étroitesse.\n",
       "5310                                                                                                                                                                                                                                                                                                                                                                                                                                                     les bords de marne et le bord du canal\n",
       "5311                                                                                                                                                                                                                                                                                                                                                                                                                      Les espaces verts   Jards petit, grand et anglais\\r\\nLe long du canal\n",
       "5312                                                                                                                                                                                                                                                                                                                                                                                     Rue de la Marne (mais mal fréquentée), place Foch, place de la République, avenue du Maréchal Leclerc.\n",
       "5313                                                                                                                                                                                                                                                                                                                                                                                                          Les jards. Le long du canal. Les rues du centre ville où il y a peu de commerces.\n",
       "5314                                                                                                                                                                                                                                                                                                                                                                                                                                                                                  Les jards\n",
       "5315                                                                                                                                                                                                                                                                                                                                                                                                           La traversée du grand Jard et la rue du maréchal Leclerc et les allées de Forêt \n",
       "5316                                                                                                                                                                                                                                                                                                                                                                                                                 les espaces verts : petit jard, grand jard, tard anglais, allées de forêts\n",
       "5317                                                                                                                                                                                                                                                                                                                                                                                                                                                                               Centre ville\n",
       "5318                                                                                                                                                                                                                                                                                                                                                                                                                                                                 les jards le long du canal\n",
       "5319                                                                                                                                                                                                                                                                                                                                                                                                                                                                        bvd Croix Dampierre\n",
       "5320                                                                                                                                                                                                                                                                                                                                                                                                                                                             Les Jards, le long du canal...\n",
       "5321                                                                                                                                                                                                                                                                                                                                                                                                                                         Avenue du Général de Gaulle\\r\\nRue de la Marne\\r\\n\n",
       "5322                                                                                                                                                                                                                                                                                                                                                                                                                                                                                        NaN\n",
       "5323                                                                                                                                                                                                                                                                                                                                                                                                                                                                      Les nards. Magnifique\n",
       "Name: Endroit_le_plus_apprecie, dtype: object"
      ]
     },
     "metadata": {},
     "output_type": "display_data"
    }
   ],
   "source": [
    "pd.set_option('display.width', None)\n",
    "pd.set_option('display.max_rows', None)\n",
    "\n",
    "display(df_nlp_chalon.Endroit_le_plus_apprecie)"
   ]
  },
  {
   "cell_type": "code",
   "execution_count": 18,
   "metadata": {},
   "outputs": [
    {
     "data": {
      "text/plain": [
       "['Faire respecter les lois et obligations: vitesse, stationnement des véhicules de livraison; priorité au piéton sur les passages.',\n",
       " 'globalement satisfaisant. Très bonne cohabitation entre les usagers (voitures, trottinette vélos,...). Les conducteurs laissent facilement les piétons traverser.\\r\\nÇa manque de communication incitative (à la marche) et valorisante (comportements vertueux des automobilistes par exemple).\\r\\n',\n",
       " \"Eviter de partager l'espace avec vélos et interdire stationnement sur trottoirs\",\n",
       " 'pas assez de verbalisation pour les véhicules sur les trottoirs , le non respect des passages piétons',\n",
       " 'Ce n\\'est pas la catastrophe dans la mesure où les trottoirs ne sont pas surencombrés comme dans des villes plus grandes et où il y a un relatif respect entre usagers. Les marges de progrès restent cependant énormes, que ce soit au niveau de la réduction des vitesses automobiles, l\\'amélioration des traversées des carrefours/rond-point (et sans détours demesurés) ou encore le \"cadre paysager\" de la marche. Le problème de fond est que la marche n\\'est aucunement perçue comme un mode de déplacement à part entière alors même qu\\'elle a de nombreux atouts, même en matière de requalification d\\'un centre-ville encore très marqué par le stationnement automobile (et le stationnement auto, très consommateur d\\'espace public, semble être sacré. Et même le vélo, qui commence tout juste à être reconnu à sa juste valeur comme mode de déplacement, se développe au détriment de l\\'espace dédié à la marche et jamais sur l\\'espace dédié à la voiture (on va mettre des arceaux vélos sur un trottoir étroit alors même qu\\'il suffit de prendre une place voiture à côté, ou encore créer une piste cyclable sur un trottoir fort fréquenté et déjà peu large, plutôt que de toucher à la 2 fois 2 voies...). La marche devrait aussi être le mode prédominant des enfants pour aller à l\\'école: la réalité est tout autre et aucune communication/sensibilisation n\\'est initiée pour tenter de casser ce cercle vicieux de la dépose des enfants en voiture. La problématique est assez similaire pour le vélo et je n\\'ose même pas parler des PMR. Au niveau des traversées piétonnes, l\\'aspect visibilité/sécurité n\\'est pour ainsi dire jamais pris en compte à l\\'image des véhicules en stationnement qu\\'on laisse au plus près des passages piétons et qui cachent la visibilité. Défenseur de la marche, j\\'angoisse toujours par rapport à mes enfants qui doivent rejoindre l\\'école en passant par ces traversées à risque.\\r\\nSur la marche sportive, elle est à peine plus prise en compte. La commune est pourtant desservie par deux itinéraires emblématiques: chemin de Saint-Jacques de Compostelle et Via Francigena. Bravo pour l\\'initiative de ce baromètre de la marche. L\\'équivalent pour le vélo a permis de commencer à faire grandir la prise en compte du mode vélo. Et n\\'oublions pas que le cycliste est un piéton véloce!',\n",
       " \"Que notre Maire sonde les habitants de ça ville non pas par le journal l'Union mais en nos envoyant un courrier pour nous demander notre avis afin de pouvoir améliorer la vie des piétons comme des marcheurs.\",\n",
       " 'De nombreuses actions ont été faites mais il reste encore des endroits à sécuriser et mettre en place une signalétique plus importante pour les circuits pédestres. ',\n",
       " \"les conducteurs sont très repecteux des passages piétons par rapport à ce qu'on constate dans biend 'autres villes. Cela surprent généralement les visiteurs occasionnels.\\r\\nEnfin les derniers aménagement on facilité le lien vers les grands espace vers et la MArne.\\r\\ncordialement\",\n",
       " \"Les voitures ne respectent pas les piétons sur les passages protégés. Même si le piéton a un pied sur la route au niveau d'un passage protégé, il passe souvent 3 ou 4 véhicules avant qu'un ne s'arrête. Les véhicules sont trop souvent garés sur les trottoirs, par exemple rue Kennedy, les piétons avec poussettes doivent descendre sur la route, alors que des parkings sont disponibles.\",\n",
       " 'non',\n",
       " \"Ville à taille humaine, circulation cycliste encouragée, aménagement du parvis de Notre-Dame-en-Vaux pour donner plus de place aux piétons va commencer en mars 2021, pas d'association portant la parole des piétons urbains.\",\n",
       " 'ville avec peu de relief donc circulation aisée pour la marche de tous;\\r\\nquel est le lieu idéal de ballade avec poussette et trottinette enfants: rarement en ville. il faut aller dans les parcs',\n",
       " \"J'aime me promener à pied dans Chalons-en-Champagne, c'est une ville agréable pour les piétons, le maire actuel favorise ce mode de déplacements, et je lui en suis reconnaissant de voir un tel engouement pour la mobilité dans notre ville\",\n",
       " 'Non',\n",
       " 'Non',\n",
       " 'Bcp trop de joggers traverssent la route en courant sans regarder ',\n",
       " \"La situation est plutôt bien, mais il y a de petites choses (retracer le marquage au sol et surtout des lampadaires) pour la visibilité et la sécurité des piétons. Et éduquer les vélos et trottinettes, qui préfèrent se prendre pour des rois sur le trottoir plutôt que d'utiliser les pistes cyclables toutes neuves juste à côté!\",\n",
       " \"besoin de réduire la vitesse des véhicules sur voiries, zones 20 km/h à étendre par exemple\\r\\nextension également des zones piétonnes ou semi-piétonnes\\r\\nréflexion et actions pourraient se poursuivre sur la problématique de la qualité de l'air. \\r\\nMerci.\\r\\n \",\n",
       " 'non',\n",
       " \"Il faudrait davantage de ramassages des feuilles sur les trottoirs à l'automne\",\n",
       " 'Il faut plus de végétation surtout que nous aurons de plus en plus de jours de canicules. Les arbres sur les trottoirs sont nécessaires.',\n",
       " 'Entretien des trottoirs à améliorer ',\n",
       " 'RAS',\n",
       " \"Il faut reconnaitre que des piétons sont aussi peu disciplinés et se mettent en danger en traversant n'importe où, surtout ceux qui téléphonent ou écoutent de la musique en marchant.\",\n",
       " 'Comme signalé dans mon commentaire la Ville de Châlons ne se préoccupe pas des véhicules stationnés sur les trottoirs et parfois les passages piétons ou stationnent aussi des automobiles, a quand les patrouilles de Police municipale vont elle verbaliser toutes ces infractions préjudiciables aux piétons et aux cyclistes?',\n",
       " 'Les piétons ne sont plus en sécurité même sur les trottoirs',\n",
       " 'Je trouve que la Ville de Châlons a fait beaucoup de progrès depuis que j\\'habite dans cette ville (1963) Un point noir pour les piétons, rue Prieur de la Marne, là c\\'est totalement dangereux pour les \"marcheurs\"...',\n",
       " 'La situation de la marche doit être envisagée en lien avec les modes de déplacements doux (vélos et autres moyens de déplacement non motorisés...). Si possible à chaque mode de déplacement son espace délimité et sécurisé !',\n",
       " 'Chalons reste une commune de taille moyenne où la circulation n’est pas trop importante et où il est aisé de circuler',\n",
       " \"Les conducteurs de voiture ne mesurent pas à quel point les piétons sont vulnérables : pédagogie à faire. \\r\\nLa planéité des trottoirs est un problème : si vous avez mal aux chevilles ou aux genoux, marcher dans cette commune est un vrai défi car les trottoirs sont souvent bombés, jonchés d'obstacles. Les trottoirs pavés sont désagréables pour les pieds : à éviter svp.\",\n",
       " 'Étant également cycliste, le principal danger est le nom respect des autres par certains automobilistes stationnement notamment',\n",
       " 'Globalement, c\\'est une ville \"confortable\" pour les déplacement pédestres...\\r\\nSauf lorsque des utilisateurs de certains engins deviennent dangereux pour les piétons...\\r\\nChaque chose à sa place...',\n",
       " \"Revégétaliser la ville comme en cours Place monseigneur Tissier. Interdire les vélos sur les trottoirs qu'ils prennent les pistes cyclables. Finir de repenser les déplacements piétons, vélos, voitures et autres moyens de déplacement.\",\n",
       " 'La cohabitation fait appel à beaucoup de notions de civisme. Des efforts ont été faits.',\n",
       " \"bilan assez bien; peut vraiment mieux faire....à condition d'avoir la volonté;si volonté, les moyens financiers suivront.\",\n",
       " 'Ville calme à taille humaine',\n",
       " 'Tous les quartiers sont accessibles en une heure maxi. sans problème',\n",
       " 'Stationnement sur les trottoirs accepte par la police municipale. Les voies réservées pour les piétons sont remplacées par des pistes cyclables donc il faut marcher sur la route.... la mairie reste muette.....',\n",
       " 'Les usagers les plus vulnérables que sont les piétons sont très peu respectés par les autres usagers, notamment les automobilistes, et très peu pris en compte par la municipalité, malgré plusieurs accidents, dont un mortel. Pourtant, nous sommes TOUS, à un moment ou un autre, piétons !',\n",
       " \" les vélos ,trottinettes ,et autres n'ont rien à faire sur les trottoirs\",\n",
       " \"Traversée des rues par les passages protégés: il faut admettre que les automobilistes se sont révélés de plus en plus prudents en laissant la priorité aux piétons engagés. (Ce qui est la réglementation). Mais malheureusement subsiste encore une petite minorité d'automobilistes dangereux qui ne respectent pas cette règle. Une sévérité accrue s'imposerait vis à vis d'eux.\",\n",
       " \"L'avenir est à la piétonisation des centres-villes des villes françaises et à l'incitation à prendre les transports en commun au lieu des voitures pour aller faire les courses.\\r\\nCertains voudront freiner cet avenir mais il est heureusement inévitable après des décennies de tout voiture.\",\n",
       " 'Dans l’ensemble ,la situation des piétons n’est pas trop mal .Le point noir reste le non respect des piétons par les voitures sur les passages piétons et le manque de passages piétons à certains endroits nous obligeant à faire de grands détours.',\n",
       " 'progressivement, après avoir cédé la ville aux voitures, puis dans un second  temps  aux bicyclettes (circulation en sens interdit autorisés et sur les trottoirs) et maintenant les trottoirs cédés aux engins électriques giropodes, trottinettes..\\r\\nRendons les trottoirs tout ou partie aux piétons.',\n",
       " \"Beaucoup trop d'axes structurants ne sont pas sécurisés et présentent des espaces piétons peu larges\",\n",
       " 'Nous souffrons beaucoup de l’incivilité des vélos et des trottinettes qui nous rasent sur les trottoirs ',\n",
       " 'A mort les voitures']"
      ]
     },
     "execution_count": 18,
     "metadata": {},
     "output_type": "execute_result"
    }
   ],
   "source": [
    "df_nlp_chalon['Commentaires'].dropna().tolist()"
   ]
  },
  {
   "cell_type": "code",
   "execution_count": 35,
   "metadata": {},
   "outputs": [
    {
     "data": {
      "text/plain": [
       "'4 stars'"
      ]
     },
     "execution_count": 35,
     "metadata": {},
     "output_type": "execute_result"
    }
   ],
   "source": [
    "com=df_nlp_chalon['Commentaires'].dropna().tolist()[0]\n",
    "classifier(com)[0]['label']"
   ]
  },
  {
   "cell_type": "code",
   "execution_count": 40,
   "metadata": {},
   "outputs": [
    {
     "data": {
      "text/plain": [
       "['4 stars',\n",
       " '4 stars',\n",
       " '1 star',\n",
       " '5 stars',\n",
       " '3 stars',\n",
       " '4 stars',\n",
       " '2 stars',\n",
       " '1 star',\n",
       " '4 stars',\n",
       " '4 stars',\n",
       " '5 stars',\n",
       " '1 star',\n",
       " '1 star',\n",
       " '1 star',\n",
       " '3 stars',\n",
       " '3 stars',\n",
       " '1 star',\n",
       " '3 stars',\n",
       " '3 stars',\n",
       " '4 stars',\n",
       " '5 stars',\n",
       " '2 stars',\n",
       " '2 stars',\n",
       " '2 stars',\n",
       " '2 stars',\n",
       " '4 stars',\n",
       " '3 stars',\n",
       " '2 stars',\n",
       " '3 stars',\n",
       " '3 stars',\n",
       " '5 stars',\n",
       " '5 stars',\n",
       " '3 stars',\n",
       " '5 stars',\n",
       " '5 stars',\n",
       " '3 stars',\n",
       " '1 star',\n",
       " '2 stars',\n",
       " '3 stars',\n",
       " '2 stars',\n",
       " '3 stars',\n",
       " '1 star',\n",
       " '2 stars',\n",
       " '2 stars',\n",
       " '1 star']"
      ]
     },
     "execution_count": 40,
     "metadata": {},
     "output_type": "execute_result"
    }
   ],
   "source": [
    "#on regarde les notations\n",
    "l=[]\n",
    "for com in df_nlp_chalon['Commentaires'].dropna().tolist()[:3]:\n",
    "    l.append(classifier(com)[0]['label'])\n",
    "for com in df_nlp_chalon['Commentaires'].dropna().tolist()[5:]:\n",
    "    l.append(classifier(com)[0]['label'])\n",
    "l\n"
   ]
  },
  {
   "cell_type": "code",
   "execution_count": 29,
   "metadata": {},
   "outputs": [
    {
     "data": {
      "text/plain": [
       "'4 stars'"
      ]
     },
     "execution_count": 29,
     "metadata": {},
     "output_type": "execute_result"
    }
   ],
   "source": [
    "classifier(com)[0][\"label\"]"
   ]
  },
  {
   "cell_type": "code",
   "execution_count": 56,
   "metadata": {},
   "outputs": [
    {
     "data": {
      "application/vnd.jupyter.widget-view+json": {
       "model_id": "fcef8e6fe0c94dd5b7e02362c6713d0b",
       "version_major": 2,
       "version_minor": 0
      },
      "text/plain": [
       "HBox(children=(HTML(value='Downloading'), FloatProgress(value=0.0, max=1465.0), HTML(value='')))"
      ]
     },
     "metadata": {},
     "output_type": "display_data"
    },
    {
     "name": "stdout",
     "output_type": "stream",
     "text": [
      "\n"
     ]
    },
    {
     "data": {
      "application/vnd.jupyter.widget-view+json": {
       "model_id": "ecc181c026f1453faef74b7d954f587e",
       "version_major": 2,
       "version_minor": 0
      },
      "text/plain": [
       "HBox(children=(HTML(value='Downloading'), FloatProgress(value=0.0, max=557190519.0), HTML(value='')))"
      ]
     },
     "metadata": {},
     "output_type": "display_data"
    },
    {
     "name": "stdout",
     "output_type": "stream",
     "text": [
      "\n"
     ]
    },
    {
     "data": {
      "application/vnd.jupyter.widget-view+json": {
       "model_id": "8af19a6de1924d1a8ce71ae9289da1d5",
       "version_major": 2,
       "version_minor": 0
      },
      "text/plain": [
       "HBox(children=(HTML(value='Downloading'), FloatProgress(value=0.0, max=1115393.0), HTML(value='')))"
      ]
     },
     "metadata": {},
     "output_type": "display_data"
    },
    {
     "name": "stdout",
     "output_type": "stream",
     "text": [
      "\n"
     ]
    },
    {
     "data": {
      "application/vnd.jupyter.widget-view+json": {
       "model_id": "baa1687761264524ba26fc473d034489",
       "version_major": 2,
       "version_minor": 0
      },
      "text/plain": [
       "HBox(children=(HTML(value='Downloading'), FloatProgress(value=0.0, max=2630980.0), HTML(value='')))"
      ]
     },
     "metadata": {},
     "output_type": "display_data"
    },
    {
     "name": "stdout",
     "output_type": "stream",
     "text": [
      "\n"
     ]
    }
   ],
   "source": [
    "classifier3=pipeline('summarization',model='moussaKam/barthez-orangesum-abstract')"
   ]
  },
  {
   "cell_type": "code",
   "execution_count": 57,
   "metadata": {},
   "outputs": [
    {
     "name": "stderr",
     "output_type": "stream",
     "text": [
      "Your max_length is set to 100, but you input_length is only 42. You might consider decreasing max_length manually, e.g. summarizer('...', max_length=50)\n"
     ]
    },
    {
     "data": {
      "text/plain": [
       "[{'summary_text': \"C'est une démarche citoyenne qui ne passe pas inaperçue. Alors que les piétons et les cyclistes sont de plus en plus nombreux à déambuler dans les rues de la cité phocéenne, c'est au tour de la maire Anne Hidalgo de lancer un appel à l'aide.\"}]"
      ]
     },
     "execution_count": 57,
     "metadata": {},
     "output_type": "execute_result"
    }
   ],
   "source": [
    "com=df_nlp_chalon['Commentaires'].dropna().tolist()[5]\n",
    "classifier3(com)"
   ]
  },
  {
   "cell_type": "code",
   "execution_count": 58,
   "metadata": {},
   "outputs": [
    {
     "name": "stderr",
     "output_type": "stream",
     "text": [
      "Your max_length is set to 100, but you input_length is only 55. You might consider decreasing max_length manually, e.g. summarizer('...', max_length=50)\n"
     ]
    },
    {
     "data": {
      "text/plain": [
       "[{'summary_text': 'Certains voudront freiner cet avenir mais il est heureusement inévitable après des décennies de tout voiture.'}]"
      ]
     },
     "execution_count": 58,
     "metadata": {},
     "output_type": "execute_result"
    }
   ],
   "source": [
    "classifier3(\"L'avenir est à la piétonisation des centres-villes des villes françaises et à l'incitation à prendre les transports en commun au lieu des voitures pour aller faire les courses.\\r\\nCertains voudront freiner cet avenir mais il est heureusement inévitable après des décennies de tout voiture.\")"
   ]
  },
  {
   "cell_type": "code",
   "execution_count": 59,
   "metadata": {},
   "outputs": [
    {
     "name": "stderr",
     "output_type": "stream",
     "text": [
      "Your max_length is set to 512, but you input_length is only 488. You might consider decreasing max_length manually, e.g. summarizer('...', max_length=50)\n"
     ]
    },
    {
     "data": {
      "text/plain": [
       "[{'summary_text': \"Le baromètre de la marche publié mercredi par le Corriere della Sera révèle que la ville de Florence (Italie) n'est pas perçue comme un mode de déplacement à part entière alors qu'elle dispose de nombreux atouts.\"}]"
      ]
     },
     "execution_count": 59,
     "metadata": {},
     "output_type": "execute_result"
    }
   ],
   "source": [
    "classifier3(\"\"\"Ce n\\'est pas la catastrophe dans la mesure où les trottoirs ne sont pas surencombrés comme dans des villes plus grandes et où il y a un relatif respect entre usagers. Les marges de progrès restent cependant énormes, que ce soit au niveau de la réduction des vitesses automobiles, l\\'amélioration des traversées des carrefours/rond-point (et sans détours demesurés) ou encore le \"cadre paysager\" de la marche. Le problème de fond est que la marche n\\'est aucunement perçue comme un mode de déplacement à part entière alors même qu\\'elle a de nombreux atouts, même en matière de requalification d\\'un centre-ville encore très marqué par le stationnement automobile (et le stationnement auto, très consommateur d\\'espace public, semble être sacré. Et même le vélo, qui commence tout juste à être reconnu à sa juste valeur comme mode de déplacement, se développe au détriment de l\\'espace dédié à la marche et jamais sur l\\'espace dédié à la voiture (on va mettre des arceaux vélos sur un trottoir étroit alors même qu\\'il suffit de prendre une place voiture à côté, ou encore créer une piste cyclable sur un trottoir fort fréquenté et déjà peu large, plutôt que de toucher à la 2 fois 2 voies...). La marche devrait aussi être le mode prédominant des enfants pour aller à l\\'école: la réalité est tout autre et aucune communication/sensibilisation n\\'est initiée pour tenter de casser ce cercle vicieux de la dépose des enfants en voiture. La problématique est assez similaire pour le vélo et je n\\'ose même pas parler des PMR. Au niveau des traversées piétonnes, l\\'aspect visibilité/sécurité n\\'est pour ainsi dire jamais pris en compte à l\\'image des véhicules en stationnement qu\\'on laisse au plus près des passages piétons et qui cachent la visibilité. Défenseur de la marche, j\\'angoisse toujours par rapport à mes enfants qui doivent rejoindre l\\'école en passant par ces traversées à risque.\\r\\nSur la marche sportive, elle est à peine plus prise en compte. La commune est pourtant desservie par deux itinéraires emblématiques: chemin de Saint-Jacques de Compostelle et Via Francigena. Bravo pour l\\'initiative de ce baromètre de la marche. L\\'équivalent pour le vélo a permis de commencer à faire grandir la prise en compte du mode vélo. Et n\\'oublions pas que le cycliste est un piéton véloce!\"\"\", max_length=512)"
   ]
  },
  {
   "cell_type": "code",
   "execution_count": 60,
   "metadata": {},
   "outputs": [
    {
     "name": "stderr",
     "output_type": "stream",
     "text": [
      "Your max_length is set to 100, but you input_length is only 6. You might consider decreasing max_length manually, e.g. summarizer('...', max_length=50)\n"
     ]
    },
    {
     "data": {
      "text/plain": [
       "[{'summary_text': 'A mort les voitures, vive la solidarité !'}]"
      ]
     },
     "execution_count": 60,
     "metadata": {},
     "output_type": "execute_result"
    }
   ],
   "source": [
    "classifier3('A mort les voitures')"
   ]
  },
  {
   "cell_type": "code",
   "execution_count": 62,
   "metadata": {},
   "outputs": [
    {
     "name": "stderr",
     "output_type": "stream",
     "text": [
      "Your max_length is set to 100, but you input_length is only 73. You might consider decreasing max_length manually, e.g. summarizer('...', max_length=50)\n"
     ]
    },
    {
     "data": {
      "text/plain": [
       "[{'summary_text': 'Traversée des rues par les passages protégés: il faut admettre que les automobilistes se sont révélés de plus en plus prudents.'}]"
      ]
     },
     "execution_count": 62,
     "metadata": {},
     "output_type": "execute_result"
    }
   ],
   "source": [
    "classifier3(\"Traversée des rues par les passages protégés: il faut admettre que les automobilistes se sont révélés de plus en plus prudents en laissant la priorité aux piétons engagés. (Ce qui est la réglementation). Mais malheureusement subsiste encore une petite minorité d'automobilistes dangereux qui ne respectent pas cette règle. Une sévérité accrue s'imposerait vis à vis d'eux.\",)"
   ]
  },
  {
   "cell_type": "code",
   "execution_count": 63,
   "metadata": {},
   "outputs": [
    {
     "name": "stderr",
     "output_type": "stream",
     "text": [
      "Your max_length is set to 100, but you input_length is only 24. You might consider decreasing max_length manually, e.g. summarizer('...', max_length=50)\n",
      "Your max_length is set to 100, but you input_length is only 54. You might consider decreasing max_length manually, e.g. summarizer('...', max_length=50)\n",
      "Your max_length is set to 100, but you input_length is only 16. You might consider decreasing max_length manually, e.g. summarizer('...', max_length=50)\n",
      "Your max_length is set to 100, but you input_length is only 20. You might consider decreasing max_length manually, e.g. summarizer('...', max_length=50)\n",
      "Your max_length is set to 100, but you input_length is only 42. You might consider decreasing max_length manually, e.g. summarizer('...', max_length=50)\n",
      "Your max_length is set to 100, but you input_length is only 29. You might consider decreasing max_length manually, e.g. summarizer('...', max_length=50)\n",
      "Your max_length is set to 100, but you input_length is only 56. You might consider decreasing max_length manually, e.g. summarizer('...', max_length=50)\n",
      "Your max_length is set to 100, but you input_length is only 82. You might consider decreasing max_length manually, e.g. summarizer('...', max_length=50)\n",
      "Your min_length is set to 10, but you input_length is only 3. You might consider decreasing min_length manually, e.g. summarizer('...', min_length=10)\n",
      "Your max_length is set to 100, but you input_length is only 3. You might consider decreasing max_length manually, e.g. summarizer('...', max_length=50)\n",
      "Your max_length is set to 100, but you input_length is only 47. You might consider decreasing max_length manually, e.g. summarizer('...', max_length=50)\n",
      "Your max_length is set to 100, but you input_length is only 41. You might consider decreasing max_length manually, e.g. summarizer('...', max_length=50)\n",
      "Your max_length is set to 100, but you input_length is only 54. You might consider decreasing max_length manually, e.g. summarizer('...', max_length=50)\n",
      "Your min_length is set to 10, but you input_length is only 3. You might consider decreasing min_length manually, e.g. summarizer('...', min_length=10)\n",
      "Your max_length is set to 100, but you input_length is only 3. You might consider decreasing max_length manually, e.g. summarizer('...', max_length=50)\n",
      "Your min_length is set to 10, but you input_length is only 3. You might consider decreasing min_length manually, e.g. summarizer('...', min_length=10)\n",
      "Your max_length is set to 100, but you input_length is only 3. You might consider decreasing max_length manually, e.g. summarizer('...', max_length=50)\n",
      "Your max_length is set to 100, but you input_length is only 17. You might consider decreasing max_length manually, e.g. summarizer('...', max_length=50)\n",
      "Your max_length is set to 100, but you input_length is only 71. You might consider decreasing max_length manually, e.g. summarizer('...', max_length=50)\n",
      "Your max_length is set to 100, but you input_length is only 53. You might consider decreasing max_length manually, e.g. summarizer('...', max_length=50)\n",
      "Your min_length is set to 10, but you input_length is only 3. You might consider decreasing min_length manually, e.g. summarizer('...', min_length=10)\n",
      "Your max_length is set to 100, but you input_length is only 3. You might consider decreasing max_length manually, e.g. summarizer('...', max_length=50)\n",
      "Your max_length is set to 100, but you input_length is only 18. You might consider decreasing max_length manually, e.g. summarizer('...', max_length=50)\n",
      "Your max_length is set to 100, but you input_length is only 30. You might consider decreasing max_length manually, e.g. summarizer('...', max_length=50)\n",
      "Your max_length is set to 100, but you input_length is only 7. You might consider decreasing max_length manually, e.g. summarizer('...', max_length=50)\n",
      "Your min_length is set to 10, but you input_length is only 4. You might consider decreasing min_length manually, e.g. summarizer('...', min_length=10)\n",
      "Your max_length is set to 100, but you input_length is only 4. You might consider decreasing max_length manually, e.g. summarizer('...', max_length=50)\n",
      "Your max_length is set to 100, but you input_length is only 39. You might consider decreasing max_length manually, e.g. summarizer('...', max_length=50)\n",
      "Your max_length is set to 100, but you input_length is only 57. You might consider decreasing max_length manually, e.g. summarizer('...', max_length=50)\n",
      "Your max_length is set to 100, but you input_length is only 13. You might consider decreasing max_length manually, e.g. summarizer('...', max_length=50)\n",
      "Your max_length is set to 100, but you input_length is only 51. You might consider decreasing max_length manually, e.g. summarizer('...', max_length=50)\n",
      "Your max_length is set to 100, but you input_length is only 44. You might consider decreasing max_length manually, e.g. summarizer('...', max_length=50)\n",
      "Your max_length is set to 100, but you input_length is only 26. You might consider decreasing max_length manually, e.g. summarizer('...', max_length=50)\n",
      "Your max_length is set to 100, but you input_length is only 76. You might consider decreasing max_length manually, e.g. summarizer('...', max_length=50)\n",
      "Your max_length is set to 100, but you input_length is only 20. You might consider decreasing max_length manually, e.g. summarizer('...', max_length=50)\n",
      "Your max_length is set to 100, but you input_length is only 38. You might consider decreasing max_length manually, e.g. summarizer('...', max_length=50)\n",
      "Your max_length is set to 100, but you input_length is only 50. You might consider decreasing max_length manually, e.g. summarizer('...', max_length=50)\n",
      "Your max_length is set to 100, but you input_length is only 20. You might consider decreasing max_length manually, e.g. summarizer('...', max_length=50)\n",
      "Your max_length is set to 100, but you input_length is only 27. You might consider decreasing max_length manually, e.g. summarizer('...', max_length=50)\n",
      "Your max_length is set to 100, but you input_length is only 7. You might consider decreasing max_length manually, e.g. summarizer('...', max_length=50)\n",
      "Your max_length is set to 100, but you input_length is only 14. You might consider decreasing max_length manually, e.g. summarizer('...', max_length=50)\n",
      "Your max_length is set to 100, but you input_length is only 39. You might consider decreasing max_length manually, e.g. summarizer('...', max_length=50)\n",
      "Your max_length is set to 100, but you input_length is only 58. You might consider decreasing max_length manually, e.g. summarizer('...', max_length=50)\n",
      "Your max_length is set to 100, but you input_length is only 21. You might consider decreasing max_length manually, e.g. summarizer('...', max_length=50)\n",
      "Your max_length is set to 100, but you input_length is only 73. You might consider decreasing max_length manually, e.g. summarizer('...', max_length=50)\n",
      "Your max_length is set to 100, but you input_length is only 55. You might consider decreasing max_length manually, e.g. summarizer('...', max_length=50)\n",
      "Your max_length is set to 100, but you input_length is only 51. You might consider decreasing max_length manually, e.g. summarizer('...', max_length=50)\n",
      "Your max_length is set to 100, but you input_length is only 59. You might consider decreasing max_length manually, e.g. summarizer('...', max_length=50)\n",
      "Your max_length is set to 100, but you input_length is only 21. You might consider decreasing max_length manually, e.g. summarizer('...', max_length=50)\n",
      "Your max_length is set to 100, but you input_length is only 26. You might consider decreasing max_length manually, e.g. summarizer('...', max_length=50)\n",
      "Your max_length is set to 100, but you input_length is only 6. You might consider decreasing max_length manually, e.g. summarizer('...', max_length=50)\n"
     ]
    },
    {
     "data": {
      "text/plain": [
       "['La priorité est donnée aux piétons, aux cyclistes et aux personnes âgées.',\n",
       " 'Bonne cohabitation entre les usagers de la route et les piétons. Les premiers résultats sont (beaucoup) positifs.',\n",
       " \"Eviter de partager l'espace avec vélos et interdire stationnement sur trottoirs\",\n",
       " 'Pas assez de verbalisation pour les véhicules sur les trottoirs, le non respect des passages piétons',\n",
       " \"Le baromètre de la marche publié mercredi par le Corriere della Sera révèle que la ville de Florence (Italie) n'est pas perçue comme un mode de déplacement à part entière alors qu'elle dispose de nombreux atouts.\",\n",
       " \"C'est une démarche citoyenne qui ne passe pas inaperçue. Alors que les piétons et les cyclistes sont de plus en plus nombreux à déambuler dans les rues de la cité phocéenne, c'est au tour de la maire Anne Hidalgo de lancer un appel à l'aide.\",\n",
       " 'De nombreuses actions ont été menées mais il reste encore des endroits à sécuriser et une signalétique plus importante pour les circuits pédestres.',\n",
       " 'Bonne nouvelle pour les piétons et les cyclistes. Avec la mise en place des grands axes routiers et cyclables,',\n",
       " 'Les piétons et les poussettes doivent descendre sur la route, alors que des parkings sont disponibles.',\n",
       " \"non, ce n'est pas l'amour fou !\",\n",
       " \"Le parvis de Notre-Dame-en-Vaux n'ouvrira pas avant 2021 faute de place aux piétons, selon la mairie de Paris.\",\n",
       " 'En ville avec peu de relief et circulation aisée pour la marche de tous; quel est le lieu idéal de ballade avec poussette et trottinette enfants.',\n",
       " '\"J\\'aime me promener à pied dans Chalons-en-Champagne, c\\'est une ville agréable pour les piétons, le maire actuel favorise ce mode de déplacements\", a-t-il déclaré.',\n",
       " \"Non, ce n'est pas l'inverse qui s'appelle tomber dans le piège.\",\n",
       " \"Non, ce n'est pas l'inverse qui s'appelle tomber dans le piège.\",\n",
       " 'Bcp trop de joggers traverssent la route en courant sans regarder.',\n",
       " \"C'est l'une des pistes cyclables les plus cyclables au monde, et pourtant, elles sont loin de faire l'unanimité. Alors que le nombre de morts sur les routes a doublé ces dernières semaines, les cyclistes et les trottinettes sont de moins en moins nombreux sur les trottoirs.\",\n",
       " \"Votre expérience est-elle concluante? Si oui, quelles mesures pourraient être prises pour améliorer la qualité de l'air dans les rues de Paris ?\",\n",
       " \"non, ce n'est pas l'amour fou !\",\n",
       " 'La Ville de Paris veut faire la chasse aux mauvaises herbes cet été, selon un responsable municipal.',\n",
       " 'De plus en plus de canicules. Il faut faire attention à la végétation.',\n",
       " 'Entretien des trottoirs et des voies ferrées à améliorer',\n",
       " \"RGLES D'ORGANISATION\",\n",
       " 'Des piétons sont plus susceptibles de se mettre en danger en traversant un passage piéton, surtout en marchant.',\n",
       " 'La Ville de Châlons ne se préoccupe pas des véhicules stationnés sur les trottoirs et parfois les passages piétons ou stationnent aussi des automobiles.',\n",
       " 'Les piétons ne sont plus en sécurité même sur les trottoirs.',\n",
       " \"C'est un point noir pour les piétons dans la ville de Châlons-sur-Marne.\",\n",
       " 'La marche est un moyen de locomotion particulièrement adapté aux piétons et aux cyclistes.',\n",
       " \"Chalons reste une commune de taille moyenne où la circulation n'est pas trop importante et où il est aisé de circuler.\",\n",
       " \"La commune de Saint-Denis (Seine-Saint-Denis) est la première ville de France à se doter d'un système de prévention contre les risques de chutes.\",\n",
       " 'Étant également cycliste, le respect des autres est un des principaux risques auxquels sont confrontés les Français.',\n",
       " 'C\\'est une ville \"confortable\" pour les piétons mais dangereuse pour les autres pour les cyclistes.',\n",
       " 'Finir de repenser les déplacements piétons, vélos, voitures et autres moyens de déplacement.',\n",
       " \"C'est une ville qui ne dort pas, mais où l'on fait respecter les règles de civisme.\",\n",
       " \"Peut mieux faire. C'est ce que l'on appelle un bilan encourageant.\",\n",
       " 'Ville calme à taille humaine, le calme est de mise.',\n",
       " 'Tous les quartiers de la capitale sont accessibles en une heure maxi.',\n",
       " 'Les voies réservées pour les piétons sont remplacées par des pistes cyclables. La mairie reste muette.',\n",
       " 'Les piétons sont les plus vulnérables des autres usagers, notamment les automobilistes. Pourtant, nous sommes TOUS, à un moment ou un autre, piétons !',\n",
       " 'La mairie de Paris a interdit aux voitures de stationner sur les trottoirs pour laisser passer la lumière.',\n",
       " 'Traversée des rues par les passages protégés: il faut admettre que les automobilistes se sont révélés de plus en plus prudents.',\n",
       " 'Certains voudront freiner cet avenir mais il est heureusement inévitable après des décennies de tout voiture.',\n",
       " 'Bonne nouvelle pour les piétons et les cyclistes. La mairie de Paris a publié une étude sur la situation des piétons dans le quartier de la gare Montparnasse.',\n",
       " 'Rendons les trottoirs tout ou partie aux piétons. La ville de Paris a fait le choix de laisser la place aux voitures et aux vélos.',\n",
       " \"Beaucoup trop d'axes structurants ne sont pas sécurisés et présentent des espaces piétons peu larges.\",\n",
       " \"Nous sommes nombreux à nous plaindre de l'incivilité des vélos et des trottinettes sur les trottoirs.\",\n",
       " 'A mort les voitures, vive la solidarité !']"
      ]
     },
     "execution_count": 63,
     "metadata": {},
     "output_type": "execute_result"
    }
   ],
   "source": [
    "l=[]\n",
    "for com in df_nlp_chalon['Commentaires'].dropna().tolist():\n",
    "    l.append(classifier3(com)[0]['summary_text'])\n",
    "l"
   ]
  },
  {
   "cell_type": "code",
   "execution_count": 64,
   "metadata": {},
   "outputs": [
    {
     "name": "stderr",
     "output_type": "stream",
     "text": [
      "Your max_length is set to 100, but you input_length is only 15. You might consider decreasing max_length manually, e.g. summarizer('...', max_length=50)\n",
      "Your max_length is set to 100, but you input_length is only 26. You might consider decreasing max_length manually, e.g. summarizer('...', max_length=50)\n",
      "Your max_length is set to 100, but you input_length is only 62. You might consider decreasing max_length manually, e.g. summarizer('...', max_length=50)\n",
      "Your max_length is set to 100, but you input_length is only 61. You might consider decreasing max_length manually, e.g. summarizer('...', max_length=50)\n",
      "Your max_length is set to 100, but you input_length is only 8. You might consider decreasing max_length manually, e.g. summarizer('...', max_length=50)\n",
      "Your max_length is set to 100, but you input_length is only 29. You might consider decreasing max_length manually, e.g. summarizer('...', max_length=50)\n",
      "Your max_length is set to 100, but you input_length is only 48. You might consider decreasing max_length manually, e.g. summarizer('...', max_length=50)\n",
      "Your max_length is set to 100, but you input_length is only 31. You might consider decreasing max_length manually, e.g. summarizer('...', max_length=50)\n",
      "Your max_length is set to 100, but you input_length is only 11. You might consider decreasing max_length manually, e.g. summarizer('...', max_length=50)\n",
      "Your max_length is set to 100, but you input_length is only 6. You might consider decreasing max_length manually, e.g. summarizer('...', max_length=50)\n",
      "Your max_length is set to 100, but you input_length is only 16. You might consider decreasing max_length manually, e.g. summarizer('...', max_length=50)\n",
      "Your max_length is set to 100, but you input_length is only 19. You might consider decreasing max_length manually, e.g. summarizer('...', max_length=50)\n",
      "Your max_length is set to 100, but you input_length is only 7. You might consider decreasing max_length manually, e.g. summarizer('...', max_length=50)\n",
      "Your max_length is set to 100, but you input_length is only 56. You might consider decreasing max_length manually, e.g. summarizer('...', max_length=50)\n",
      "Your max_length is set to 100, but you input_length is only 8. You might consider decreasing max_length manually, e.g. summarizer('...', max_length=50)\n",
      "Your max_length is set to 100, but you input_length is only 14. You might consider decreasing max_length manually, e.g. summarizer('...', max_length=50)\n",
      "Your max_length is set to 100, but you input_length is only 5. You might consider decreasing max_length manually, e.g. summarizer('...', max_length=50)\n",
      "Your max_length is set to 100, but you input_length is only 17. You might consider decreasing max_length manually, e.g. summarizer('...', max_length=50)\n",
      "Your max_length is set to 100, but you input_length is only 7. You might consider decreasing max_length manually, e.g. summarizer('...', max_length=50)\n",
      "Your max_length is set to 100, but you input_length is only 42. You might consider decreasing max_length manually, e.g. summarizer('...', max_length=50)\n",
      "Your max_length is set to 100, but you input_length is only 7. You might consider decreasing max_length manually, e.g. summarizer('...', max_length=50)\n",
      "Your max_length is set to 100, but you input_length is only 14. You might consider decreasing max_length manually, e.g. summarizer('...', max_length=50)\n",
      "Your max_length is set to 100, but you input_length is only 38. You might consider decreasing max_length manually, e.g. summarizer('...', max_length=50)\n",
      "Your max_length is set to 100, but you input_length is only 21. You might consider decreasing max_length manually, e.g. summarizer('...', max_length=50)\n",
      "Your max_length is set to 100, but you input_length is only 93. You might consider decreasing max_length manually, e.g. summarizer('...', max_length=50)\n",
      "Your max_length is set to 100, but you input_length is only 17. You might consider decreasing max_length manually, e.g. summarizer('...', max_length=50)\n",
      "Your max_length is set to 100, but you input_length is only 32. You might consider decreasing max_length manually, e.g. summarizer('...', max_length=50)\n",
      "Your max_length is set to 100, but you input_length is only 25. You might consider decreasing max_length manually, e.g. summarizer('...', max_length=50)\n",
      "Your max_length is set to 100, but you input_length is only 55. You might consider decreasing max_length manually, e.g. summarizer('...', max_length=50)\n",
      "Your max_length is set to 100, but you input_length is only 6. You might consider decreasing max_length manually, e.g. summarizer('...', max_length=50)\n",
      "Your max_length is set to 100, but you input_length is only 72. You might consider decreasing max_length manually, e.g. summarizer('...', max_length=50)\n",
      "Your max_length is set to 100, but you input_length is only 35. You might consider decreasing max_length manually, e.g. summarizer('...', max_length=50)\n",
      "Your max_length is set to 100, but you input_length is only 77. You might consider decreasing max_length manually, e.g. summarizer('...', max_length=50)\n",
      "Your max_length is set to 100, but you input_length is only 20. You might consider decreasing max_length manually, e.g. summarizer('...', max_length=50)\n",
      "Your max_length is set to 100, but you input_length is only 19. You might consider decreasing max_length manually, e.g. summarizer('...', max_length=50)\n",
      "Your max_length is set to 100, but you input_length is only 87. You might consider decreasing max_length manually, e.g. summarizer('...', max_length=50)\n",
      "Your max_length is set to 100, but you input_length is only 6. You might consider decreasing max_length manually, e.g. summarizer('...', max_length=50)\n",
      "Your max_length is set to 100, but you input_length is only 66. You might consider decreasing max_length manually, e.g. summarizer('...', max_length=50)\n",
      "Your max_length is set to 100, but you input_length is only 85. You might consider decreasing max_length manually, e.g. summarizer('...', max_length=50)\n",
      "Your max_length is set to 100, but you input_length is only 9. You might consider decreasing max_length manually, e.g. summarizer('...', max_length=50)\n",
      "Your min_length is set to 10, but you input_length is only 4. You might consider decreasing min_length manually, e.g. summarizer('...', min_length=10)\n",
      "Your max_length is set to 100, but you input_length is only 4. You might consider decreasing max_length manually, e.g. summarizer('...', max_length=50)\n",
      "Your max_length is set to 100, but you input_length is only 39. You might consider decreasing max_length manually, e.g. summarizer('...', max_length=50)\n",
      "Your max_length is set to 100, but you input_length is only 64. You might consider decreasing max_length manually, e.g. summarizer('...', max_length=50)\n",
      "Your max_length is set to 100, but you input_length is only 66. You might consider decreasing max_length manually, e.g. summarizer('...', max_length=50)\n",
      "Your max_length is set to 100, but you input_length is only 80. You might consider decreasing max_length manually, e.g. summarizer('...', max_length=50)\n",
      "Your max_length is set to 100, but you input_length is only 9. You might consider decreasing max_length manually, e.g. summarizer('...', max_length=50)\n",
      "Your max_length is set to 100, but you input_length is only 37. You might consider decreasing max_length manually, e.g. summarizer('...', max_length=50)\n",
      "Your max_length is set to 100, but you input_length is only 16. You might consider decreasing max_length manually, e.g. summarizer('...', max_length=50)\n",
      "Your max_length is set to 100, but you input_length is only 8. You might consider decreasing max_length manually, e.g. summarizer('...', max_length=50)\n",
      "Your max_length is set to 100, but you input_length is only 17. You might consider decreasing max_length manually, e.g. summarizer('...', max_length=50)\n",
      "Your max_length is set to 100, but you input_length is only 21. You might consider decreasing max_length manually, e.g. summarizer('...', max_length=50)\n",
      "Your max_length is set to 100, but you input_length is only 9. You might consider decreasing max_length manually, e.g. summarizer('...', max_length=50)\n",
      "Your max_length is set to 100, but you input_length is only 22. You might consider decreasing max_length manually, e.g. summarizer('...', max_length=50)\n"
     ]
    },
    {
     "name": "stderr",
     "output_type": "stream",
     "text": [
      "Your max_length is set to 100, but you input_length is only 21. You might consider decreasing max_length manually, e.g. summarizer('...', max_length=50)\n",
      "Your max_length is set to 100, but you input_length is only 31. You might consider decreasing max_length manually, e.g. summarizer('...', max_length=50)\n",
      "Your max_length is set to 100, but you input_length is only 19. You might consider decreasing max_length manually, e.g. summarizer('...', max_length=50)\n",
      "Your max_length is set to 100, but you input_length is only 48. You might consider decreasing max_length manually, e.g. summarizer('...', max_length=50)\n",
      "Your max_length is set to 100, but you input_length is only 24. You might consider decreasing max_length manually, e.g. summarizer('...', max_length=50)\n",
      "Your max_length is set to 100, but you input_length is only 9. You might consider decreasing max_length manually, e.g. summarizer('...', max_length=50)\n",
      "Your max_length is set to 100, but you input_length is only 22. You might consider decreasing max_length manually, e.g. summarizer('...', max_length=50)\n",
      "Your max_length is set to 100, but you input_length is only 61. You might consider decreasing max_length manually, e.g. summarizer('...', max_length=50)\n",
      "Your max_length is set to 100, but you input_length is only 8. You might consider decreasing max_length manually, e.g. summarizer('...', max_length=50)\n",
      "Your max_length is set to 100, but you input_length is only 28. You might consider decreasing max_length manually, e.g. summarizer('...', max_length=50)\n",
      "Your max_length is set to 100, but you input_length is only 74. You might consider decreasing max_length manually, e.g. summarizer('...', max_length=50)\n",
      "Your max_length is set to 100, but you input_length is only 14. You might consider decreasing max_length manually, e.g. summarizer('...', max_length=50)\n",
      "Your max_length is set to 100, but you input_length is only 5. You might consider decreasing max_length manually, e.g. summarizer('...', max_length=50)\n"
     ]
    },
    {
     "data": {
      "text/plain": [
       "[\"Rond point de l'hémicycle Rond point du jet d'eau\",\n",
       " 'Le bvd hippolythe faure est mal éclairé. Les piétons ne voient pas les voitures qui arrivent de leur droite (préfecture), traverser ici est périlleux.',\n",
       " 'Pas de sonnette pour prévenir lespiétons difficultés en centre ville',\n",
       " \"En venant de la place de Verdun et en se dirigeant avenue Sarrail , à l 'entrée de la rue les voitures sont tout le temps sur le trottoir , rajouter à cela les poubelles !! piétons , et surtout fauteuil roulant.\",\n",
       " \"La plupart des entrées de ville et secteurs des écoles seront fermés aux heures de rentrée et de sortie d'école, selon les prévisions du ministère de l'Education nationale.\",\n",
       " 'Rue Prieur de la Marne, dans le 11e arrondissement de Paris.',\n",
       " \"Les cyclistes et les trottinettes sont rois en ce qui concerne l'avenue Jean Jaurès.\",\n",
       " \"Tous les centres commerciaux de Jardiland sont interdits aux piétons et aux cyclistes. C'est la consigne donnée par la mairie dans le cadre du projet de loi Mobilités 2020, qui a été adopté cette semaine.\",\n",
       " \"La préfecture de police de Paris, la mairie, la préfecture, le ministère de l'Intérieur ou encore la mairie sont intervenus dans la nuit de dimanche à lundi.\",\n",
       " 'traverser le rond point de la place tissier pour rejoindre la place de la Nation.',\n",
       " 'rue de marne (Hauts-de-Seine)',\n",
       " 'Rue Prieur-de-la-Marne, Porte Sainte-Croix.',\n",
       " 'La place de la République a été refaite mais il y a trop de voitures dans la capitale.',\n",
       " 'Rue prieur de la Marne, dans le 11e arrondissement de Paris',\n",
       " \"pavés non uniformes, qui s'enfoncent ou se soulèvent au gré des travaux , des intempéries...\",\n",
       " 'Rue Prieur de la Marne, dans le 11e arrondissement de Paris.',\n",
       " 'Rond point Tissier, Place de la République côté parking.',\n",
       " \"Avenue de l'Assomption, à Paris\",\n",
       " 'La place de verdun, la rue grande étape, porte st croix....',\n",
       " 'Trottoirs abîmés, traces de morsures...',\n",
       " 'Pas de centre ville, pas de centre-ville, trop de voitures et trop de bruit.',\n",
       " \"Je n en vois pas l'intérêt pour le moment.\",\n",
       " 'Aux abords des ecoles et colleges du centre ville.',\n",
       " 'Les bords de Seine sont particulièrement encombrés ces derniers jours par les déjections canines.',\n",
       " 'La ville ne semble pas prête à aménager rapidement les places de stationnement à proximité des passages piétons pour accroître la visibilité des piétons par les véhicules.',\n",
       " \"L'éclairage des grands carrefours à Paris doit être revu et améliorer l'accessibilité aux fauteuils roulants.\",\n",
       " \"La circulation s'améliore sur le boulevard MacDonald, à Paris, ce jeudi matin.\",\n",
       " 'La question des passages piétons se pose en ce qui concerne les ronds points et les intersections entre les voies ferrées.',\n",
       " 'quartier gare rue Carnot rue Prieur d ela Marne Place Tissier',\n",
       " 'La Croix Jean Robert est en travaux dans le quartier sensible de la Croix Saint-Robert à Paris.',\n",
       " \"Rues bordées d'arbres dont les grosses racines déforment les trottoirs\",\n",
       " \"La Place de la République n'a pas de sièges, ni d'ombre. Elle est très minérale.\",\n",
       " 'Rue jacquesson (Pas-de-Calais)',\n",
       " \"Rue CARNOT, dans le 16e arrondissement de Paris, les piétons sont nombreux à être gênés. Serait-ce possible d'installer des zones à 30 pour les automobilistes ?\",\n",
       " 'Les piétons sont de plus en plus nombreux à circuler sur les trottoirs. La situation est particulièrement préoccupante.',\n",
       " 'Le passage à 30 kms heure sur ce tronçon a été une bonne chose mais cette rue reste compliquée pour les piétons.',\n",
       " 'Allée saint Jean; intersection rue Garinet et rue Prieur de la marne',\n",
       " 'Le long de la Marne, trois voies débouchent dans la commune de Saint-Maur-sur-Marne.',\n",
       " \"Dans ma rue ou certains stationnent sur le trottoir avec leurs véhicules obligeant les piétons à descendre sur la chaussée, c'est récurent et JAMAIS verbalisé.\",\n",
       " 'Rue sainte marguerite (Pas-de-Calais)',\n",
       " \"Le trottoir n'est pas recouvert de macadam, c'est un damage de petites mosaïques très glissantes, et si nos chausssures ne sont pas plates, quelle galère avec les talons...\",\n",
       " \"L'Observatoire de l'aménagement des voies publiques (Aménagement du territoire) a publié un rapport sur la situation des voies et trottoirs dans la ville de Saint-Maur (Val-de-Marne). Il recommande d'interdire les voitures aux abords des écoles pour les enfants de moins de 6 ans.\",\n",
       " \"Le long des axes de circulation importants, la circulation s'améliore et les embouteillages se multiplient.\",\n",
       " 'Rue Carnot (XIXe arrondissement de Paris)',\n",
       " 'La circulation était très difficile ce jeudi matin sur la commune de Saint-Quentin.',\n",
       " \"C'est la première fois qu'on mélange piétons, voitures, trottinettes électriques et vélos dans un quartier piéton de Paris. La ville est particulièrement touchée par cette situation.\",\n",
       " \"Devant le collège Pierrot d'Ablancourt, rue de gaulle, les élèves sont en très grande insécurité.\",\n",
       " \"Ils sont partout, se foutent de tout, font n'importe quoi... Et en silence...\",\n",
       " 'Place de Verdun - Porte Sainte Croix.',\n",
       " 'Rue prieur de la marne Du haut ,au bas de la rue Rue léon Bourgeois',\n",
       " \"Télétravail, télétravail, autofinancement... Voici les principaux endroits où l'on peut trouver de l'eau.\",\n",
       " 'rue prieur de la marne dans le XIIe arrondissement de Paris',\n",
       " 'Avec la circulation de plus en plus de véhicules électriques, cet espace piéton devient dangereux.',\n",
       " 'rue Prieur de la Marne.trottoirs très étroits et circulation importante',\n",
       " 'Porte St-Jean, Porte Ste-Croix, rue Prieur-de-la-Marne.',\n",
       " 'Avenue Carnot ; Place Tissier (Ier arrondissement de Paris)',\n",
       " \"Il n'y a pas de voitures sur les trottoirs, mais il y a des vélos.\",\n",
       " 'La municipalité ignore ce quartier périphérique, qualifié de \"délaissé\" par le journal local \"l\\'Union\" dans un compte-rendu de réunion de quartier.',\n",
       " 'Les trottoirs sont très étroits et le trafic intense -avec bus !',\n",
       " 'La rue jean jacques rousseau poubelles sur le trottoir 365 jours /ans voitures sont garées 24h/24.',\n",
       " 'Rue Prieur de la Marne Axe important de passage mais trottoirs ridiculement étroits !',\n",
       " \"C'est une rue particulièrement escarpée qu'il ne faut pas manquer de traverser.\",\n",
       " 'Promenades à vélo et trottoirs encombrés. Promenades avec chiens et chats errants.',\n",
       " 'Rue Prieur de la marne (Pas-de-Calais)',\n",
       " \"Rue Carnot,passages piétons pour traverser entre les deux Jards et cours d'Ormesson.\",\n",
       " \"Le boulevard Emile Zola a été refait entièrement à l'identique.\",\n",
       " \"Rond point de l'hémicycle pour les questions au gouvernement.\",\n",
       " 'Rue Prieur dans le 16e arrondissement de Paris mais aussi dans les quartiers résidentiels, Croix Jean Robert dans le 17e arrondissement.',\n",
       " \"- Rond Point de l'Hémicycle - Rond point de Valmy\",\n",
       " 'Tous les endroits ou les vélos et trottinettes sont interdits.',\n",
       " 'Les zones commerciales sont particulièrement visées.']"
      ]
     },
     "execution_count": 64,
     "metadata": {},
     "output_type": "execute_result"
    }
   ],
   "source": [
    "l=[]\n",
    "for com in df_nlp_chalon['Endroit_problematique_pieton'].dropna().tolist():\n",
    "    l.append(classifier3(com)[0]['summary_text'])\n",
    "l"
   ]
  },
  {
   "cell_type": "code",
   "execution_count": 21,
   "metadata": {},
   "outputs": [
    {
     "name": "stdout",
     "output_type": "stream",
     "text": [
      "(S\n",
      "  (PERSON Mark/NNP)\n",
      "  (PERSON Elliot/NNP Zuckerberg/NNP)\n",
      "  (/(\n",
      "  born/VBN\n",
      "  May/NNP\n",
      "  14/CD\n",
      "  ,/,\n",
      "  1984/CD\n",
      "  )/)\n",
      "  is/VBZ\n",
      "  a/DT\n",
      "  co-founder/NN\n",
      "  of/IN\n",
      "  (GPE Facebook/NNP)\n",
      "  in/IN\n",
      "  (GPE San/NNP Francisco/NNP)\n",
      "  ./.)\n"
     ]
    }
   ],
   "source": [
    "#tetative pour voir si la reconnaissance de lieu est possible\n",
    "\n",
    "# On crée une phrase en anglais\n",
    "text_en = \"Mark Elliot Zuckerberg (born May 14, 1984) is a co-founder of Facebook in San Francisco.\"\n",
    "\n",
    "# On tokenise la phrase\n",
    "tokens_en = word_tokenize(text_en)\n",
    "\n",
    "# On tague les tokens\n",
    "tags_en = pos_tag(tokens_en)\n",
    "\n",
    "# On applique la fonction de reconnaissance d’entités\n",
    "ner_en = ne_chunk(tags_en)\n",
    "\n",
    "# On affiche le résultat\n",
    "print (ner_en)"
   ]
  },
  {
   "cell_type": "code",
   "execution_count": 23,
   "metadata": {},
   "outputs": [],
   "source": [
    "df_nlp_chalon_pb=df_chalon['Endroit_problematique_pieton']"
   ]
  },
  {
   "cell_type": "code",
   "execution_count": 112,
   "metadata": {},
   "outputs": [
    {
     "ename": "NameError",
     "evalue": "name 'df_nlp_chalon_pb' is not defined",
     "output_type": "error",
     "traceback": [
      "\u001b[1;31m---------------------------------------------------------------------------\u001b[0m",
      "\u001b[1;31mNameError\u001b[0m                                 Traceback (most recent call last)",
      "\u001b[1;32m<ipython-input-112-90f554fa9c9d>\u001b[0m in \u001b[0;36m<module>\u001b[1;34m\u001b[0m\n\u001b[1;32m----> 1\u001b[1;33m \u001b[1;32mfor\u001b[0m \u001b[0mcommentaire\u001b[0m \u001b[1;32min\u001b[0m \u001b[0mdf_nlp_chalon_pb\u001b[0m \u001b[1;33m:\u001b[0m\u001b[1;33m\u001b[0m\u001b[1;33m\u001b[0m\u001b[0m\n\u001b[0m\u001b[0;32m      2\u001b[0m     \u001b[1;32mif\u001b[0m \u001b[0mcommentaire\u001b[0m\u001b[1;33m==\u001b[0m\u001b[0mstr\u001b[0m\u001b[1;33m(\u001b[0m\u001b[0mcommentaire\u001b[0m\u001b[1;33m)\u001b[0m \u001b[1;33m:\u001b[0m\u001b[1;33m\u001b[0m\u001b[1;33m\u001b[0m\u001b[0m\n\u001b[0;32m      3\u001b[0m         \u001b[0mtokens_en\u001b[0m \u001b[1;33m=\u001b[0m \u001b[0mword_tokenize\u001b[0m\u001b[1;33m(\u001b[0m\u001b[0mcommentaire\u001b[0m\u001b[1;33m)\u001b[0m\u001b[1;33m\u001b[0m\u001b[1;33m\u001b[0m\u001b[0m\n\u001b[0;32m      4\u001b[0m         \u001b[0mtags_en\u001b[0m \u001b[1;33m=\u001b[0m \u001b[0mpos_tag\u001b[0m\u001b[1;33m(\u001b[0m\u001b[0mtokens_en\u001b[0m\u001b[1;33m)\u001b[0m\u001b[1;33m\u001b[0m\u001b[1;33m\u001b[0m\u001b[0m\n\u001b[0;32m      5\u001b[0m         \u001b[0mner_en\u001b[0m \u001b[1;33m=\u001b[0m \u001b[0mne_chunk\u001b[0m\u001b[1;33m(\u001b[0m\u001b[0mtags_en\u001b[0m\u001b[1;33m)\u001b[0m\u001b[1;33m\u001b[0m\u001b[1;33m\u001b[0m\u001b[0m\n",
      "\u001b[1;31mNameError\u001b[0m: name 'df_nlp_chalon_pb' is not defined"
     ]
    }
   ],
   "source": [
    "for commentaire in df_nlp_chalon_pb :\n",
    "    if commentaire==str(commentaire) :\n",
    "        tokens_en = word_tokenize(commentaire)\n",
    "        tags_en = pos_tag(tokens_en)\n",
    "        ner_en = ne_chunk(tags_en)\n",
    "        print (ner_en)"
   ]
  },
  {
   "cell_type": "code",
   "execution_count": null,
   "metadata": {},
   "outputs": [],
   "source": [
    "df_nlp_chalon_commentaire=df_nlp_chalon['Commentaires']"
   ]
  },
  {
   "cell_type": "markdown",
   "metadata": {},
   "source": [
    "Une partie plus intéressante : recherche de champs lexical"
   ]
  },
  {
   "cell_type": "code",
   "execution_count": 4,
   "metadata": {},
   "outputs": [],
   "source": [
    "df_marseille=df[df['Ville']=='Marseille 13']"
   ]
  },
  {
   "cell_type": "code",
   "execution_count": 5,
   "metadata": {},
   "outputs": [],
   "source": [
    "df_nlp_marseille=df_marseille[['Endroit_problematique_pieton',\n",
    "       'Endroit_le_plus_apprecie', 'Commentaires']]"
   ]
  },
  {
   "cell_type": "code",
   "execution_count": 7,
   "metadata": {},
   "outputs": [],
   "source": [
    "df_nlp_marseille_commentaire=df_nlp_marseille['Commentaires']\n",
    "df_nlp_marseille_pb=df_nlp_marseille['Endroit_problematique_pieton']\n",
    "df_nlp_marseille_appr=df_nlp_marseille['Endroit_le_plus_apprecie']"
   ]
  },
  {
   "cell_type": "code",
   "execution_count": 8,
   "metadata": {},
   "outputs": [
    {
     "name": "stdout",
     "output_type": "stream",
     "text": [
      "nombre commentaire où apparait 125 nombre total de commentaires 1373 3.0616438356164384 292\n"
     ]
    }
   ],
   "source": [
    "def freq_velo(df_commentaire, liste_racine):\n",
    "    freq=0\n",
    "    nbre_occurrence=0\n",
    "    a=0\n",
    "    liste=[]\n",
    "    phrase_concernant_theme=[]\n",
    "    liste_re=[]\n",
    "    for racine in liste_racine :\n",
    "        liste_re.append(re.compile(racine))\n",
    "    for commentaire in df_commentaire :\n",
    "        phrase_concernant=[]\n",
    "        a+=1\n",
    "        if commentaire==str(commentaire) :\n",
    "            compteur=True\n",
    "            for regex in liste_re :\n",
    "                if compteur and (regex.search(commentaire) != None)  :\n",
    "                    freq+=1\n",
    "                    comm=sent_tokenize(commentaire)\n",
    "                    compteur=False\n",
    "                    for com in comm :\n",
    "                        compteur_phrase=True\n",
    "                        for reg in liste_re :\n",
    "                            if compteur_phrase and reg.search(commentaire) != None :\n",
    "                                compteur_phrase=False\n",
    "                                liste.append(classifier(comm)[0]['label'])\n",
    "                                nbre_occurrence+=1\n",
    "                                phrase_concernant.append(com)\n",
    "        phrase_concernant_theme.append(phrase_concernant)\n",
    "    note_liste=[]\n",
    "    for note in liste :\n",
    "        note_liste.append(float(note[0]))\n",
    "\n",
    "    print('nombre commentaire où apparait',freq, 'nombre total de commentaires', a, sum(note_liste)/len(note_liste), nbre_occurrence)\n",
    "freq_velo(df_nlp_marseille_commentaire, ['vél','cycl','velo'])"
   ]
  },
  {
   "cell_type": "code",
   "execution_count": 9,
   "metadata": {},
   "outputs": [],
   "source": [
    "stop_words = set(stopwords.words('french')) \n",
    "texte_epure=[]\n",
    "for commentaire in df_nlp_marseille_commentaire :    \n",
    "    if commentaire==str(commentaire) :\n",
    "        commentaire=commentaire.lower()\n",
    "        words = word_tokenize(commentaire) \n",
    "        new_sentence = []\n",
    "        \n",
    "        for word in words:\n",
    "            if word not in stop_words:\n",
    "                new_sentence.append(word) \n",
    "        texte_epure+=new_sentence\n",
    "texte_epure=str(texte_epure)"
   ]
  },
  {
   "cell_type": "code",
   "execution_count": 10,
   "metadata": {},
   "outputs": [],
   "source": [
    "def frequence(texte):\n",
    "    words = re.findall(r'(\\b[A-Za-z][a-z]{2,9}\\b)', texte)\n",
    "    frequency  = {}\n",
    "    for word in words:\n",
    "        word = word.lower()\n",
    "        count = frequency.get(word,0)\n",
    "        frequency[word] = count + 1\n",
    "    df = pd.DataFrame(list(frequency.items()), columns=['Word', 'Frequency'])\n",
    "    return df\n",
    "df_marseille=frequence(str(texte_epure))"
   ]
  },
  {
   "cell_type": "code",
   "execution_count": 11,
   "metadata": {},
   "outputs": [
    {
     "data": {
      "text/html": [
       "<div>\n",
       "<style scoped>\n",
       "    .dataframe tbody tr th:only-of-type {\n",
       "        vertical-align: middle;\n",
       "    }\n",
       "\n",
       "    .dataframe tbody tr th {\n",
       "        vertical-align: top;\n",
       "    }\n",
       "\n",
       "    .dataframe thead th {\n",
       "        text-align: right;\n",
       "    }\n",
       "</style>\n",
       "<table border=\"1\" class=\"dataframe\">\n",
       "  <thead>\n",
       "    <tr style=\"text-align: right;\">\n",
       "      <th></th>\n",
       "      <th>Word</th>\n",
       "      <th>Frequency</th>\n",
       "      <th>Rang</th>\n",
       "    </tr>\n",
       "  </thead>\n",
       "  <tbody>\n",
       "    <tr>\n",
       "      <th>3</th>\n",
       "      <td>ville</td>\n",
       "      <td>285</td>\n",
       "      <td>1.0</td>\n",
       "    </tr>\n",
       "    <tr>\n",
       "      <th>9</th>\n",
       "      <td>trottoirs</td>\n",
       "      <td>245</td>\n",
       "      <td>2.0</td>\n",
       "    </tr>\n",
       "    <tr>\n",
       "      <th>10</th>\n",
       "      <td>marseille</td>\n",
       "      <td>177</td>\n",
       "      <td>3.0</td>\n",
       "    </tr>\n",
       "    <tr>\n",
       "      <th>38</th>\n",
       "      <td>est</td>\n",
       "      <td>150</td>\n",
       "      <td>4.0</td>\n",
       "    </tr>\n",
       "    <tr>\n",
       "      <th>82</th>\n",
       "      <td>plus</td>\n",
       "      <td>131</td>\n",
       "      <td>5.0</td>\n",
       "    </tr>\n",
       "  </tbody>\n",
       "</table>\n",
       "</div>"
      ],
      "text/plain": [
       "         Word  Frequency  Rang\n",
       "3       ville        285   1.0\n",
       "9   trottoirs        245   2.0\n",
       "10  marseille        177   3.0\n",
       "38        est        150   4.0\n",
       "82       plus        131   5.0"
      ]
     },
     "execution_count": 11,
     "metadata": {},
     "output_type": "execute_result"
    }
   ],
   "source": [
    "df_marseille['Rang'] = df_marseille.Frequency.rank(ascending=False)\n",
    "df_marseille.sort_values('Rang', inplace = True)\n",
    "df_marseille.head(5)"
   ]
  },
  {
   "cell_type": "code",
   "execution_count": 5,
   "metadata": {},
   "outputs": [],
   "source": [
    "def epure_texte(question, df=df) :\n",
    "    stop_words = set(stopwords.words('french')) \n",
    "    texte_epure=[]\n",
    "    for commentaire in df[question] :    \n",
    "        if commentaire==str(commentaire) :\n",
    "            commentaire=commentaire.lower()\n",
    "            words = word_tokenize(commentaire) \n",
    "            new_sentence = []\n",
    "\n",
    "            for word in words:\n",
    "                if word not in stop_words:\n",
    "                    new_sentence.append(word) \n",
    "            texte_epure+=new_sentence\n",
    "    texte_epure=str(texte_epure)\n",
    "    return texte_epure\n",
    "texte_epure=epure_texte('Endroit_problematique_pieton', df[df['Lors_de_vos_deplacements']=='Une personne a mobilité réduite'])"
   ]
  },
  {
   "cell_type": "code",
   "execution_count": 4,
   "metadata": {},
   "outputs": [
    {
     "data": {
      "text/plain": [
       "array([\"Un cycliste ou un utilisateur d'engin de déplacement personnel (vélo, trottinette, skate, roller…)\",\n",
       "       'Un marcheur, un piéton',\n",
       "       'Un utilisateur des transports en commun',\n",
       "       'Un utilisateur de véhicule motorisé (moto et autres deux roues, voitures à moteur à essence, gasoil...)',\n",
       "       \"Un utilisateur d'engin de déplacement personnel à assistance électrique (vélo, trottinette, skate électrique...)\",\n",
       "       'Une personne a mobilité réduite', nan], dtype=object)"
      ]
     },
     "execution_count": 4,
     "metadata": {},
     "output_type": "execute_result"
    }
   ],
   "source": [
    "df['Lors_de_vos_deplacements'].unique()"
   ]
  },
  {
   "cell_type": "markdown",
   "metadata": {},
   "source": [
    "fonction pour créer des nuages de mots"
   ]
  },
  {
   "cell_type": "code",
   "execution_count": 7,
   "metadata": {},
   "outputs": [
    {
     "data": {
      "image/png": "[encoded data removed]",
      "text/plain": [
       "<Figure size 432x288 with 1 Axes>"
      ]
     },
     "metadata": {
      "needs_background": "light"
     },
     "output_type": "display_data"
    }
   ],
   "source": [
    "def make_wordcloud(corpus):\n",
    "    wc = wordcloud.WordCloud( max_words=2000,background_color='white')\n",
    "    wc.generate(corpus) #crée le nuage de mots\n",
    "    return wc\n",
    "def nuage (texte_epure):\n",
    "    plt.imshow(make_wordcloud(str(texte_epure)), interpolation='bilinear')\n",
    "    plt.axis(\"off\")\n",
    "    plt.show()\n",
    "nuage(epure_texte('Endroit_problematique_pieton', df[df['Lors_de_vos_deplacements']=='Une personne a mobilité réduite']))\n"
   ]
  },
  {
   "cell_type": "code",
   "execution_count": 8,
   "metadata": {},
   "outputs": [
    {
     "data": {
      "image/png": "[encoded data removed]",
      "text/plain": [
       "<Figure size 432x288 with 1 Axes>"
      ]
     },
     "metadata": {
      "needs_background": "light"
     },
     "output_type": "display_data"
    }
   ],
   "source": [
    "nuage(epure_texte('Endroit_problematique_pieton', df))"
   ]
  },
  {
   "cell_type": "code",
   "execution_count": 14,
   "metadata": {},
   "outputs": [],
   "source": [
    "words = re.findall(r'(\\b[A-Za-z][a-z]{2,9}\\b)', texte_epure)\n",
    "\n",
    "stemmer = SnowballStemmer(language='french')\n",
    "\n",
    "stemmed = [stemmer.stem(word) for word in words]"
   ]
  },
  {
   "cell_type": "code",
   "execution_count": 15,
   "metadata": {},
   "outputs": [
    {
     "data": {
      "text/html": [
       "<div>\n",
       "<style scoped>\n",
       "    .dataframe tbody tr th:only-of-type {\n",
       "        vertical-align: middle;\n",
       "    }\n",
       "\n",
       "    .dataframe tbody tr th {\n",
       "        vertical-align: top;\n",
       "    }\n",
       "\n",
       "    .dataframe thead th {\n",
       "        text-align: right;\n",
       "    }\n",
       "</style>\n",
       "<table border=\"1\" class=\"dataframe\">\n",
       "  <thead>\n",
       "    <tr style=\"text-align: right;\">\n",
       "      <th></th>\n",
       "      <th>Word</th>\n",
       "      <th>Frequency</th>\n",
       "      <th>Rang</th>\n",
       "    </tr>\n",
       "  </thead>\n",
       "  <tbody>\n",
       "    <tr>\n",
       "      <th>30</th>\n",
       "      <td>parc</td>\n",
       "      <td>325</td>\n",
       "      <td>1.0</td>\n",
       "    </tr>\n",
       "    <tr>\n",
       "      <th>1</th>\n",
       "      <td>cornich</td>\n",
       "      <td>293</td>\n",
       "      <td>2.0</td>\n",
       "    </tr>\n",
       "    <tr>\n",
       "      <th>20</th>\n",
       "      <td>port</td>\n",
       "      <td>226</td>\n",
       "      <td>3.0</td>\n",
       "    </tr>\n",
       "    <tr>\n",
       "      <th>19</th>\n",
       "      <td>vieux</td>\n",
       "      <td>205</td>\n",
       "      <td>4.0</td>\n",
       "    </tr>\n",
       "    <tr>\n",
       "      <th>23</th>\n",
       "      <td>calanqu</td>\n",
       "      <td>197</td>\n",
       "      <td>5.0</td>\n",
       "    </tr>\n",
       "    <tr>\n",
       "      <th>18</th>\n",
       "      <td>prado</td>\n",
       "      <td>118</td>\n",
       "      <td>6.0</td>\n",
       "    </tr>\n",
       "    <tr>\n",
       "      <th>62</th>\n",
       "      <td>mer</td>\n",
       "      <td>113</td>\n",
       "      <td>7.0</td>\n",
       "    </tr>\n",
       "    <tr>\n",
       "      <th>109</th>\n",
       "      <td>bord</td>\n",
       "      <td>105</td>\n",
       "      <td>8.0</td>\n",
       "    </tr>\n",
       "    <tr>\n",
       "      <th>14</th>\n",
       "      <td>longchamp</td>\n",
       "      <td>93</td>\n",
       "      <td>9.0</td>\n",
       "    </tr>\n",
       "    <tr>\n",
       "      <th>63</th>\n",
       "      <td>vill</td>\n",
       "      <td>91</td>\n",
       "      <td>10.0</td>\n",
       "    </tr>\n",
       "    <tr>\n",
       "      <th>57</th>\n",
       "      <td>plag</td>\n",
       "      <td>74</td>\n",
       "      <td>11.0</td>\n",
       "    </tr>\n",
       "    <tr>\n",
       "      <th>52</th>\n",
       "      <td>mucem</td>\n",
       "      <td>71</td>\n",
       "      <td>12.0</td>\n",
       "    </tr>\n",
       "    <tr>\n",
       "      <th>21</th>\n",
       "      <td>borely</td>\n",
       "      <td>70</td>\n",
       "      <td>13.0</td>\n",
       "    </tr>\n",
       "    <tr>\n",
       "      <th>37</th>\n",
       "      <td>quarti</td>\n",
       "      <td>68</td>\n",
       "      <td>14.0</td>\n",
       "    </tr>\n",
       "    <tr>\n",
       "      <th>8</th>\n",
       "      <td>boulevard</td>\n",
       "      <td>61</td>\n",
       "      <td>15.0</td>\n",
       "    </tr>\n",
       "    <tr>\n",
       "      <th>135</th>\n",
       "      <td>centr</td>\n",
       "      <td>57</td>\n",
       "      <td>16.0</td>\n",
       "    </tr>\n",
       "    <tr>\n",
       "      <th>140</th>\n",
       "      <td>kennedy</td>\n",
       "      <td>56</td>\n",
       "      <td>17.0</td>\n",
       "    </tr>\n",
       "    <tr>\n",
       "      <th>51</th>\n",
       "      <td>pani</td>\n",
       "      <td>47</td>\n",
       "      <td>18.0</td>\n",
       "    </tr>\n",
       "    <tr>\n",
       "      <th>41</th>\n",
       "      <td>trottoir</td>\n",
       "      <td>42</td>\n",
       "      <td>19.5</td>\n",
       "    </tr>\n",
       "    <tr>\n",
       "      <th>58</th>\n",
       "      <td>avenu</td>\n",
       "      <td>42</td>\n",
       "      <td>19.5</td>\n",
       "    </tr>\n",
       "    <tr>\n",
       "      <th>22</th>\n",
       "      <td>bas</td>\n",
       "      <td>40</td>\n",
       "      <td>21.0</td>\n",
       "    </tr>\n",
       "    <tr>\n",
       "      <th>89</th>\n",
       "      <td>cour</td>\n",
       "      <td>39</td>\n",
       "      <td>22.0</td>\n",
       "    </tr>\n",
       "    <tr>\n",
       "      <th>28</th>\n",
       "      <td>espac</td>\n",
       "      <td>38</td>\n",
       "      <td>23.0</td>\n",
       "    </tr>\n",
       "    <tr>\n",
       "      <th>80</th>\n",
       "      <td>long</td>\n",
       "      <td>37</td>\n",
       "      <td>24.0</td>\n",
       "    </tr>\n",
       "    <tr>\n",
       "      <th>65</th>\n",
       "      <td>voitur</td>\n",
       "      <td>35</td>\n",
       "      <td>25.5</td>\n",
       "    </tr>\n",
       "    <tr>\n",
       "      <th>17</th>\n",
       "      <td>saint</td>\n",
       "      <td>35</td>\n",
       "      <td>25.5</td>\n",
       "    </tr>\n",
       "    <tr>\n",
       "      <th>90</th>\n",
       "      <td>julien</td>\n",
       "      <td>34</td>\n",
       "      <td>27.5</td>\n",
       "    </tr>\n",
       "    <tr>\n",
       "      <th>165</th>\n",
       "      <td>autour</td>\n",
       "      <td>34</td>\n",
       "      <td>27.5</td>\n",
       "    </tr>\n",
       "    <tr>\n",
       "      <th>114</th>\n",
       "      <td>collin</td>\n",
       "      <td>33</td>\n",
       "      <td>29.0</td>\n",
       "    </tr>\n",
       "    <tr>\n",
       "      <th>0</th>\n",
       "      <td>chav</td>\n",
       "      <td>30</td>\n",
       "      <td>31.0</td>\n",
       "    </tr>\n",
       "    <tr>\n",
       "      <th>137</th>\n",
       "      <td>huveaun</td>\n",
       "      <td>30</td>\n",
       "      <td>31.0</td>\n",
       "    </tr>\n",
       "    <tr>\n",
       "      <th>15</th>\n",
       "      <td>promenad</td>\n",
       "      <td>30</td>\n",
       "      <td>31.0</td>\n",
       "    </tr>\n",
       "    <tr>\n",
       "      <th>25</th>\n",
       "      <td>est</td>\n",
       "      <td>29</td>\n",
       "      <td>33.5</td>\n",
       "    </tr>\n",
       "    <tr>\n",
       "      <th>45</th>\n",
       "      <td>marseil</td>\n",
       "      <td>29</td>\n",
       "      <td>33.5</td>\n",
       "    </tr>\n",
       "    <tr>\n",
       "      <th>153</th>\n",
       "      <td>jardin</td>\n",
       "      <td>27</td>\n",
       "      <td>37.0</td>\n",
       "    </tr>\n",
       "    <tr>\n",
       "      <th>88</th>\n",
       "      <td>tout</td>\n",
       "      <td>27</td>\n",
       "      <td>37.0</td>\n",
       "    </tr>\n",
       "    <tr>\n",
       "      <th>5</th>\n",
       "      <td>plus</td>\n",
       "      <td>27</td>\n",
       "      <td>37.0</td>\n",
       "    </tr>\n",
       "    <tr>\n",
       "      <th>128</th>\n",
       "      <td>march</td>\n",
       "      <td>27</td>\n",
       "      <td>37.0</td>\n",
       "    </tr>\n",
       "    <tr>\n",
       "      <th>42</th>\n",
       "      <td>aucun</td>\n",
       "      <td>27</td>\n",
       "      <td>37.0</td>\n",
       "    </tr>\n",
       "    <tr>\n",
       "      <th>64</th>\n",
       "      <td>peu</td>\n",
       "      <td>26</td>\n",
       "      <td>40.0</td>\n",
       "    </tr>\n",
       "    <tr>\n",
       "      <th>122</th>\n",
       "      <td>car</td>\n",
       "      <td>24</td>\n",
       "      <td>41.0</td>\n",
       "    </tr>\n",
       "    <tr>\n",
       "      <th>348</th>\n",
       "      <td>joliet</td>\n",
       "      <td>23</td>\n",
       "      <td>42.0</td>\n",
       "    </tr>\n",
       "    <tr>\n",
       "      <th>412</th>\n",
       "      <td>national</td>\n",
       "      <td>22</td>\n",
       "      <td>45.0</td>\n",
       "    </tr>\n",
       "    <tr>\n",
       "      <th>179</th>\n",
       "      <td>point</td>\n",
       "      <td>22</td>\n",
       "      <td>45.0</td>\n",
       "    </tr>\n",
       "    <tr>\n",
       "      <th>9</th>\n",
       "      <td>part</td>\n",
       "      <td>22</td>\n",
       "      <td>45.0</td>\n",
       "    </tr>\n",
       "    <tr>\n",
       "      <th>40</th>\n",
       "      <td>larg</td>\n",
       "      <td>22</td>\n",
       "      <td>45.0</td>\n",
       "    </tr>\n",
       "    <tr>\n",
       "      <th>326</th>\n",
       "      <td>bien</td>\n",
       "      <td>22</td>\n",
       "      <td>45.0</td>\n",
       "    </tr>\n",
       "    <tr>\n",
       "      <th>95</th>\n",
       "      <td>entre</td>\n",
       "      <td>21</td>\n",
       "      <td>50.5</td>\n",
       "    </tr>\n",
       "    <tr>\n",
       "      <th>250</th>\n",
       "      <td>campagn</td>\n",
       "      <td>21</td>\n",
       "      <td>50.5</td>\n",
       "    </tr>\n",
       "    <tr>\n",
       "      <th>12</th>\n",
       "      <td>jean</td>\n",
       "      <td>21</td>\n",
       "      <td>50.5</td>\n",
       "    </tr>\n",
       "  </tbody>\n",
       "</table>\n",
       "</div>"
      ],
      "text/plain": [
       "          Word  Frequency  Rang\n",
       "30        parc        325   1.0\n",
       "1      cornich        293   2.0\n",
       "20        port        226   3.0\n",
       "19       vieux        205   4.0\n",
       "23     calanqu        197   5.0\n",
       "18       prado        118   6.0\n",
       "62         mer        113   7.0\n",
       "109       bord        105   8.0\n",
       "14   longchamp         93   9.0\n",
       "63        vill         91  10.0\n",
       "57        plag         74  11.0\n",
       "52       mucem         71  12.0\n",
       "21      borely         70  13.0\n",
       "37      quarti         68  14.0\n",
       "8    boulevard         61  15.0\n",
       "135      centr         57  16.0\n",
       "140    kennedy         56  17.0\n",
       "51        pani         47  18.0\n",
       "41    trottoir         42  19.5\n",
       "58       avenu         42  19.5\n",
       "22         bas         40  21.0\n",
       "89        cour         39  22.0\n",
       "28       espac         38  23.0\n",
       "80        long         37  24.0\n",
       "65      voitur         35  25.5\n",
       "17       saint         35  25.5\n",
       "90      julien         34  27.5\n",
       "165     autour         34  27.5\n",
       "114     collin         33  29.0\n",
       "0         chav         30  31.0\n",
       "137    huveaun         30  31.0\n",
       "15    promenad         30  31.0\n",
       "25         est         29  33.5\n",
       "45     marseil         29  33.5\n",
       "153     jardin         27  37.0\n",
       "88        tout         27  37.0\n",
       "5         plus         27  37.0\n",
       "128      march         27  37.0\n",
       "42       aucun         27  37.0\n",
       "64         peu         26  40.0\n",
       "122        car         24  41.0\n",
       "348     joliet         23  42.0\n",
       "412   national         22  45.0\n",
       "179      point         22  45.0\n",
       "9         part         22  45.0\n",
       "40        larg         22  45.0\n",
       "326       bien         22  45.0\n",
       "95       entre         21  50.5\n",
       "250    campagn         21  50.5\n",
       "12        jean         21  50.5"
      ]
     },
     "execution_count": 15,
     "metadata": {},
     "output_type": "execute_result"
    }
   ],
   "source": [
    "df_marseille_orth=frequence(str(stemmed))\n",
    "df_marseille_orth['Rang'] = df_marseille_orth.Frequency.rank(ascending=False)\n",
    "df_marseille_orth.sort_values('Rang', inplace = True)\n",
    "df_marseille_orth.head(50)"
   ]
  },
  {
   "cell_type": "code",
   "execution_count": 16,
   "metadata": {},
   "outputs": [
    {
     "data": {
      "text/html": [
       "<span class=\"tex2jax_ignore\"><div class=\"entities\" style=\"line-height: 2.5; direction: ltr\">11582                                          rue ferrari</br>11584    Dans cet arrondissement où les rues sont étroi...</br>11585                                     Il y en a trop. </br>11586                     le carrefour \n",
       "<mark class=\"entity\" style=\"background: #ddd; padding: 0.45em 0.6em; margin: 0 0.25em; line-height: 1; border-radius: 0.35em;\">\n",
       "    Canebière\n",
       "    <span style=\"font-size: 0.8em; font-weight: bold; line-height: 1; border-radius: 0.35em; vertical-align: middle; margin-left: 0.5rem\">PER</span>\n",
       "</mark>\n",
       "/garibaldi</br>11587    Hors Prado, \n",
       "<mark class=\"entity\" style=\"background: #ff9561; padding: 0.45em 0.6em; margin: 0 0.25em; line-height: 1; border-radius: 0.35em;\">\n",
       "    Corniche\n",
       "    <span style=\"font-size: 0.8em; font-weight: bold; line-height: 1; border-radius: 0.35em; vertical-align: middle; margin-left: 0.5rem\">LOC</span>\n",
       "</mark>\n",
       ", \n",
       "<mark class=\"entity\" style=\"background: #ff9561; padding: 0.45em 0.6em; margin: 0 0.25em; line-height: 1; border-radius: 0.35em;\">\n",
       "    Vieux Por\n",
       "    <span style=\"font-size: 0.8em; font-weight: bold; line-height: 1; border-radius: 0.35em; vertical-align: middle; margin-left: 0.5rem\">LOC</span>\n",
       "</mark>\n",
       ", toutes les ru...</br>                               ...                        </br>12949    L'ensemble de la ville est une catastrophe pou...</br>12950    aux abords des écoles, grande dangerosité pour...</br>12951    Toute la moitié nord de la ville est dangereus...</br>12952    Toutes les petites rues du centre ville avec d...</br>12954                                      Le centre-ville</br>\n",
       "<mark class=\"entity\" style=\"background: #ddd; padding: 0.45em 0.6em; margin: 0 0.25em; line-height: 1; border-radius: 0.35em;\">\n",
       "    Name: Endroit_problematique_pieton\n",
       "    <span style=\"font-size: 0.8em; font-weight: bold; line-height: 1; border-radius: 0.35em; vertical-align: middle; margin-left: 0.5rem\">MISC</span>\n",
       "</mark>\n",
       ", \n",
       "<mark class=\"entity\" style=\"background: #ddd; padding: 0.45em 0.6em; margin: 0 0.25em; line-height: 1; border-radius: 0.35em;\">\n",
       "    Length\n",
       "    <span style=\"font-size: 0.8em; font-weight: bold; line-height: 1; border-radius: 0.35em; vertical-align: middle; margin-left: 0.5rem\">MISC</span>\n",
       "</mark>\n",
       ": 997, dtype: object</div></span>"
      ],
      "text/plain": [
       "<IPython.core.display.HTML object>"
      ]
     },
     "metadata": {},
     "output_type": "display_data"
    }
   ],
   "source": [
    "\n",
    "\n",
    "doc = nlp(str(df_nlp_marseille_pb.dropna()))\n",
    "displacy.render(doc, style=\"ent\", jupyter=True)"
   ]
  },
  {
   "cell_type": "code",
   "execution_count": 18,
   "metadata": {},
   "outputs": [
    {
     "data": {
      "text/plain": [
       "[('Canebière', 'PER'),\n",
       " ('Corniche', 'LOC'),\n",
       " ('Vieux Por', 'LOC'),\n",
       " ('Name: Endroit_problematique_pieton', 'MISC'),\n",
       " ('Length', 'MISC')]"
      ]
     },
     "execution_count": 18,
     "metadata": {},
     "output_type": "execute_result"
    }
   ],
   "source": [
    "def return_NER(sentence):\n",
    "    # Tokeniser la phrase\n",
    "    doc = nlp(sentence)\n",
    "    # Retourner le texte et le label pour chaque entité\n",
    "    return [(X.text, X.label_) for X in doc.ents]\n",
    "return_NER(str(df_nlp_marseille_pb.dropna()))\n",
    "\n",
    "\n"
   ]
  },
  {
   "cell_type": "markdown",
   "metadata": {},
   "source": [
    "récupération de noms de voies"
   ]
  },
  {
   "cell_type": "code",
   "execution_count": 48,
   "metadata": {},
   "outputs": [],
   "source": [
    "#on liste des types de voie\n",
    "reg_rue=re.compile(r'(rue\\s[^,.;!\\n\\r+:\\(\\)/]{3,20})')\n",
    "reg_avenue=re.compile(r'(avenue\\s[^,.;!\\n\\r+:\\(\\)/\\\\]{3,20})')\n",
    "reg_cours=re.compile(r'(cours\\s[^,.;!\\n\\r+:\\(\\)/]{3,20})')\n",
    "reg_boulevard=re.compile(r'(boulevard\\s[^,.;!\\n\\r+:\\(\\)/]{3,20})')\n",
    "reg_traverse=re.compile(r'(traverse\\s[^,.;!\\n\\r+:\\(\\)/]{3,20})')\n",
    "reg_impasse=re.compile(r'(impasse\\s[^,.;!\\n\\r+:\\(\\)/]{3,20})')\n",
    "reg_rond=re.compile(r'(rond-point\\s[^,.;!\\n\\r+:\\(\\)/]{3,20})')\n",
    "reg_quartier=re.compile(r'(quartier\\s[^,.;!\\n\\r+:\\(\\)/]{3,20})')\n",
    "reg_allee=re.compile(r'(allée\\s[^,.;!\\n\\r+:\\(\\)/]{3,20})')\n",
    "reg_route=re.compile(r'(route\\s[^,.;!\\n\\r+:\\(\\)/]{3,20})')\n",
    "reg_chemin=re.compile(r'(chemin\\s[^,.;!\\n\\r+:\\(\\)/]{3,20})')\n",
    "reg_quai=re.compile(r'(quai\\s[^,.;!\\n\\r+:\\(\\)/]{3,20})')\n",
    "reg_place=re.compile(r'(place\\s[^,.;!\\n\\r+:\\(\\)/]{3,20})')\n",
    "#puis on récupère les noms de voie\n",
    "nom_voie=[reg_rue, reg_avenue, reg_cours, reg_boulevard, reg_traverse, reg_impasse, reg_rond, reg_quartier, reg_allee,\n",
    "         reg_route, reg_chemin, reg_quai]\n",
    "def standardiser(i) : \n",
    "    i=i.lower()#on harmonise les notations\n",
    "    i=i.replace('bd ', 'boulevard ')\n",
    "    i=i.replace('blv ', 'boulevard ')\n",
    "    i=i.replace('bld ', 'boulevard ')\n",
    "    i=i.replace('av ', 'avenue ')\n",
    "    i=i.replace('rte ', 'route ')\n",
    "    i=i.replace('st ', 'saint ')\n",
    "    i=i.replace('st-', 'saint ')\n",
    "    i=i.replace('saint-', 'saint ')\n",
    "    i=i.replace('ste ', 'sainte ')\n",
    "    i=i.replace('ste-', 'sainte')\n",
    "    i=i.replace('sainte-', 'sainte ')\n",
    "    i=i.replace('é', 'e')\n",
    "    i=i.replace('è', 'e')\n",
    "    i=i.replace('ê', 'e')\n",
    "    return i\n",
    "def chercher_rue (df, nbre_occurence=2):\n",
    "    #reg_place,\n",
    "    liste=[]\n",
    "    for i in df.dropna() :\n",
    "        i=standardiser(i) \n",
    "        for reg in nom_voie :\n",
    "            new_lieux=reg.findall(i)\n",
    "            for new_lieu in new_lieux:\n",
    "                if new_lieu!=[] and new_lieu[len(new_lieu)-1]==' ':\n",
    "                    new_lieu=[new_lieu[:len(new_lieu)-1]]\n",
    "                    liste+=new_lieu\n",
    "                else:\n",
    "                    liste+=[new_lieu]\n",
    "    lieux={}\n",
    "    nbre_lieu=[]\n",
    "    liste_deslieux=[]\n",
    "    for lieu in liste :\n",
    "        liste_celieu=[]\n",
    "        if lieu not in liste_deslieux :\n",
    "            liste_deslieux.append(lieu)\n",
    "            if len(lieu)>5:\n",
    "                nb_lieu=0\n",
    "                p=re.compile(lieu)\n",
    "                iteration=0\n",
    "                for comment in df.dropna() :# liste : \n",
    "                    comment=standardiser(comment)\n",
    "                    if p.search(comment.lower()) !=None :\n",
    "                        nb_lieu+=1\n",
    "                        liste_celieu.append((comment,df.dropna().index[iteration]))\n",
    "                    iteration+=1\n",
    "                nbre_lieu.append((nb_lieu, lieu))\n",
    "                lieux[lieu]=(liste_celieu)\n",
    "    grd_nbre_lieu=[]\n",
    "    for lieu in nbre_lieu :\n",
    "        if lieu[0]>=nbre_occurence:\n",
    "            grd_nbre_lieu.append(lieu)\n",
    "    for lieu in return_NER(str(df.dropna())):\n",
    "        lieu=standardiser(lieu[0])\n",
    "        p=re.compile(lieu)\n",
    "        nb_lieu=0\n",
    "        iteration=0\n",
    "        for comment in df.dropna():\n",
    "            comment=standardiser(comment)\n",
    "            if p.search(comment.lower()) != None :\n",
    "                nb_lieu+=1\n",
    "                liste_celieu.append((comment,df.dropna().index[iteration]))\n",
    "            iteration+=1\n",
    "        if nb_lieu>=nbre_occurence :\n",
    "            grd_nbre_lieu.append((nb_lieu,lieu))\n",
    "            lieux[lieu]=liste_celieu\n",
    "    grd_nbre_lieu.sort(reverse=True)\n",
    "    return grd_nbre_lieu, lieux#, index_lieux\n",
    "(liste_marseille, lieux)=chercher_rue(df_nlp_marseille_pb)#, index_lieux"
   ]
  },
  {
   "cell_type": "code",
   "execution_count": 54,
   "metadata": {},
   "outputs": [
    {
     "data": {
      "text/plain": [
       "[(55, 'canebiere'),\n",
       " (39, 'corniche'),\n",
       " (37, 'avenue du prado'),\n",
       " (35, 'vieux por'),\n",
       " (32, 'cours lieutaud'),\n",
       " (26, 'rue paradis'),\n",
       " (21, 'rue breteuil'),\n",
       " (17, 'rue de rome'),\n",
       " (15, 'cours julien'),\n",
       " (15, 'boulevard national'),\n",
       " (14, 'cours pierre puget'),\n",
       " (14, 'boulevard de la liberation'),\n",
       " (13, 'boulevard michelet'),\n",
       " (13, 'boulevard chave'),\n",
       " (12, 'boulevard baille'),\n",
       " (10, 'rue saint pierre'),\n",
       " (10, 'rue du rouet'),\n",
       " (10, 'boulevard sakakini'),\n",
       " (10, 'avenue de la corse'),\n",
       " (9, 'boulevard de la corderie'),\n",
       " (9, 'boulevard charles livon'),\n",
       " (8, 'rue saint ferreol'),\n",
       " (8, \"boulevard d'athenes\"),\n",
       " (7, 'rue fort notre dame'),\n",
       " (7, 'boulevard notre dame'),\n",
       " (7, 'boulevard longchamp'),\n",
       " (7, 'avenue de mazargues'),\n",
       " (6, 'rue sainte'),\n",
       " (6, 'rue de lyon'),\n",
       " (5, 'rue saint savournin'),\n",
       " (5, 'rue de bruys'),\n",
       " (5, 'rue de breteuil'),\n",
       " (5, \"rue d'italie\"),\n",
       " (5, 'rue consolat'),\n",
       " (5, 'boulevard voltaire'),\n",
       " (5, 'boulevard sainte marguerite'),\n",
       " (5, 'boulevard perier'),\n",
       " (5, 'boulevard du prado'),\n",
       " (5, 'boulevard des dames'),\n",
       " (4, 'rue saint michel'),\n",
       " (4, 'rue marx dormoy'),\n",
       " (4, 'rue esperandieu'),\n",
       " (4, 'rue de la grande armee'),\n",
       " (4, \"rue d'endoume\"),\n",
       " (4, 'quartier vauban'),\n",
       " (4, 'cours puget'),\n",
       " (4, 'cours du combattant'),\n",
       " (4, 'boulevard du sablier'),\n",
       " (4, 'avenue des chartreux'),\n",
       " (4, 'avenue de montredon'),\n",
       " (3, 'rue horace bertin'),\n",
       " (3, 'rue fontange'),\n",
       " (3, 'rue ferrari'),\n",
       " (3, 'rue etienne dolet'),\n",
       " (3, 'rue du camas'),\n",
       " (3, 'rue de lodi'),\n",
       " (3, 'rue bernex'),\n",
       " (3, 'rue adolphe thiers'),\n",
       " (3, 'route des goudes'),\n",
       " (3, 'route comment'),\n",
       " (3, 'quartier endoum'),\n",
       " (3, 'quartier de la plaine'),\n",
       " (3, 'quartier de la gare'),\n",
       " (3, 'chemin de morgiou'),\n",
       " (3, 'boulevard rabatau'),\n",
       " (3, 'boulevard liberation'),\n",
       " (3, 'boulevard d’athene'),\n",
       " (3, 'boulevard de la liberation et'),\n",
       " (3, 'avenue des roches'),\n",
       " (3, 'avenue de la madrague de mo'),\n",
       " (2, 'rue tres passante'),\n",
       " (2, 'rue thiers'),\n",
       " (2, 'rue terrusse'),\n",
       " (2, 'rue sylvabelle'),\n",
       " (2, 'rue pietonne'),\n",
       " (2, 'rue musso'),\n",
       " (2, 'rue montaigne'),\n",
       " (2, 'rue jaubert'),\n",
       " (2, 'rue du fort notre dame'),\n",
       " (2, 'rue du docteur escat'),\n",
       " (2, 'rue du coq'),\n",
       " (2, 'rue du centre ville'),\n",
       " (2, 'rue du cambodge'),\n",
       " (2, 'rue des 3 mages'),\n",
       " (2, 'rue de la republique'),\n",
       " (2, 'rue chape'),\n",
       " (2, 'rue caisserie'),\n",
       " (2, 'rue belle de mai'),\n",
       " (2, \"rue abbe de l'epee\"),\n",
       " (2, 'route circulation'),\n",
       " (2, 'quartier du panier'),\n",
       " (2, 'quartier du camas'),\n",
       " (2, 'quartier de mazargues'),\n",
       " (2, 'quartier de la valentine'),\n",
       " (2, 'quartier de la belle de mai'),\n",
       " (2, 'quartier castellane'),\n",
       " (2, 'quai de rive neuve'),\n",
       " (2, 'cours joseph thierry'),\n",
       " (2, 'cours gouffe'),\n",
       " (2, 'cours belsunce'),\n",
       " (2, 'chemin du roucas blanc'),\n",
       " (2, 'chemin du littoral'),\n",
       " (2, 'chemin du four de buze'),\n",
       " (2, 'chemin des goudes'),\n",
       " (2, 'chemin des bessons'),\n",
       " (2, 'boulevard tellene'),\n",
       " (2, 'boulevard françoise duparc'),\n",
       " (2, 'boulevard eugene pierre'),\n",
       " (2, 'boulevard dugommier'),\n",
       " (2, 'boulevard de la liberte'),\n",
       " (2, 'boulevard bompart'),\n",
       " (2, 'avenue saint just'),\n",
       " (2, 'avenue prado'),\n",
       " (2, 'avenue pierre mendes france'),\n",
       " (2, 'avenue jules cantini'),\n",
       " (2, 'avenue du prado et boulevar'),\n",
       " (2, 'avenue des caillols'),\n",
       " (2, 'avenue de saint antoine'),\n",
       " (2, 'avenue de la croix rouge'),\n",
       " (2, 'avenue de hambourg'),\n",
       " (2, 'avenue cantini')]"
      ]
     },
     "execution_count": 54,
     "metadata": {},
     "output_type": "execute_result"
    }
   ],
   "source": [
    "liste_marseille"
   ]
  },
  {
   "cell_type": "code",
   "execution_count": 37,
   "metadata": {},
   "outputs": [
    {
     "data": {
      "text/plain": [
       "[(\"C'est à peine croyable, rien n'est aménagé pour les piétons, les personnes à mobilités réduites, les poussettes, les vélos, toute cette magnifique ville, je dis bien toute la ville, est aménagée pour la voiture privée individuelle jusqu'à aujourd'hui.\\r\\nNous sommes toujours bloqués dans un éco-musée des années 70-80 (Exemples non exhaustifs: Boulevard Baille, Boulevard des Dames, Boulevard de la Corderie, Cours Pierre Puget, Boulevard André Aune, Boulevard National, Avenue du Prado, Boulevard Michelet, Boulevard d'Athènes, Allées Meillan, rue du rouet, rue Belle de Mai, Place Sébastopol, le quartier du Chapitre, rue Consolat, rue Flégier, quartier des Catalans, partout, etc...)\\r\\nIl est autorisé par arrêté municipal de se garer à cheval sur les trottoirs, les trottoirs ne sont pas aux normes, les intersections non réglementaires, les passages piétons sont souvent très peu visibles, les réglages des feux circulations sont réglés uniquement pour les voitures privées individuelles, les rues des écoles sont toutes très dangereuses dans toute la ville.\\r\\nLes automobilistes créent eux-même leur place pour garer leur voiture, selon l'adage local (trottoirs, passages piétons, double file, zone piétone)\\r\\nPour résumer les étudiants en urbanisme de France devraient tous avoir un stage obligatoire de terrain dans la ville de Marseille, ce qui leurs permettraient d'observer tout ce qu'il ne faut pas faire.\\r\\n\\r\\n\",\n",
       "  11616),\n",
       " (\"L'avenue du Prado Vers la Place Castellane -Le bord de mer à partir de la plage des Catalans - Certaines rue de quartiers sont très étroites et difficiles d'accès aux piétons. Dans le quartier de Mazargues il en existe plusieurs<;\",\n",
       "  11645),\n",
       " ('Rue Edmond Rostand\\r\\nAvenue du Prado\\r\\nRue Paradis', 11661),\n",
       " ('Avenue du Prado ', 11681),\n",
       " (\"Sur l'avenue du Prado. Si la circulation est encombrée les motards utilisent très souvent les trottoirs pour y circuler,ils servent aussi de parking motos surtout aux abords des bateaux dans le prolongement du passage piétons.   \",\n",
       "  11756),\n",
       " (\"Sur l'avenue du Prado, les pistes cyclables sont au milieu des trottoirs . De nombreuses trottinettes les empruntent à vive allure.\\r\\nLa rue du Rouet est très mal éclairée de nuit, les trottoirs mal entretenus (trous, branches, détritus...)\\r\\nLe passage piétons au croisement des allées Turcat-méry et contre allée du Prado n'est pas toujours respecté par les voitures.\\r\\n\",\n",
       "  11780),\n",
       " (\"Avenue du Prado il y a trop de trottinettes\\r\\nLes deux pour piétons sont longs .\\r\\nAvenue Cantini le piéton n'a pas sa place car les voitures circulent sur les passages piétons. \\r\\nSur la Corniche il y a trop de vélos sur les trottoirs c'est dangereux \\r\\n\\r\\n\",\n",
       "  11784),\n",
       " ('avenue du Prado, la cohabitation piétons / vélo est génante', 11800),\n",
       " ('Centre ville,place Castellane,place des réformés,avenue du Prado, quartier Timone.',\n",
       "  11930),\n",
       " (\"L'avenue du Prado, comme beaucoup de rue à Marseille, sert de parking aux deux roues motorisés.\\r\\nLe reste du trottoir est réservé à une piste cyclable séparée de la place réservée aux piétons par un coup de peinture.\\r\\nLes conflits d'usage sont donc nombreux.\\r\\nCe n'est pourtant pas la place qui manque : dans chaque sens, on a 2 voies pour les voitures, 1 voie pour les bus, 1 à 2 voie comme contre allée, soit 4 à 5 x 2 voies !\\r\\n(vérifiable sur google earth)\",\n",
       "  11993),\n",
       " (\"Les trottoirs sont souvent trop étroits pour les piétons, par exemple sur la corniche Kennedy lorsqu'elle longe le parc et palais du pharo.\\r\\nLa voie cyclable de l'avenue du Prado est impraticable pour les cyclistes car trop de piétons et il faut régulièrement monter et descendre des trottoirs. A l'inverse, le croisement des cyclistes est dangereux pour les pietons qui sont nombreux sur cette avenue. La piste cyclable étant peu visible (et lespace de marche limité sur le trottoir a cause de cette piste) les piétons marchent dessus et sont donc régulièrement confrontés au cycliste mécontents (et ils me semble que tous ont raison d'être mécontent, piétons comme cycliste).\\r\\nDernier exemple, le trottoir de la rue Saint Pierre lorsqu'elle part de la place Jean Jaurès et pendant plus d'un kilomètre est extrêmement étroit en plus d'être semé d'embûches (trous multiples) mais comment font les gens en pousettes ou les personnes âgées !? Elles utilisent un autre chemin...\\r\\nD'une façon générale, de nombreux anciens panneaux de signalisation ont été coupés au ras du sol dans la ville mais il en reste un petit bout très tranchant sur lequel je me suis déjà blessée moi-même l'été en sandales. Autre problème majeur, des scooters roulent régulièrement sur les espaces réservés aux piétons... et j'ai malheureusement déjà assisté a un accident ou un jeune en scooter emprunte la rue Saint Ferreol (rue très fréquentée et piétonne en journée) et renverse une dame âgée qui ne l'a pas entendu venir...\",\n",
       "  12009),\n",
       " ('Avenue du prado. Pistes cyclables partagées avec les piétons ce qui est dangereux à la fois pour les piétons et les cyclotouristes.',\n",
       "  12017),\n",
       " ('avenue du Prado soit il y a des voitures garées sur les trottoirs soit il y a une piste cyclable. Où est-il possible de marcher ?',\n",
       "  12055),\n",
       " (\"toutes les rues où une piste cyclable a été installée sur le trottoir, à côté des piétons : cours lieutaud, avenue du prado...\\r\\nsaletés, encombrants, trottoirs trop petits : rue du rouet, rue d'italie, cours gouffé, \\r\\nune piste cyclable sur la route a été installée rue paradis : elle est en sens inverse de la circulation des voitures, aucun panneau ne le précise, je me suis faite renversée par un vélo qui ne regardait pas devant lui tandis que j'ignorais l'existence de cette piste installée en dépit du bon sens\\r\\npas de trottoir ou presque, encombrants, règne de la voiture : toutes les charmantes petites rue du quartier de la plage (boulevard des joncs, certaines portions du boulevard du sablier), autour du vieux port\\r\\nmanque de transports en commun dans de nombreux quartiers\\r\\n\",\n",
       "  12061),\n",
       " (\"Je vis et travaille en centre villee de Marseille, entre Castellane et le Vieux Port :  Aucun passage piéton n est respecté par les voitures, les scooter roulent sur les trottoirs rue de Rome, le mobilier urbain gêne le passage des piétons rue Paradis, les nombreux travaux de ravalement obligent à marcher sur la rue, les scooters et vélos empruntent la rue St Ferréol qui est piétonne, et avenue du Prado les vélos et les piétons sont mélangés car la piste cyclable sur trottoir est simplement peinte. Marseille à pieds, c'est dangereux !\",\n",
       "  12092),\n",
       " ('Boulevard Michelet\\r\\nAvenue du prado\\r\\nRue paradis\\r\\nAvenue de mazargueso',\n",
       "  12117),\n",
       " ('Intersection entre avenue de Montolivet , Bd de Roux prolongée et rue Elzeard Rougier; rue de la Clinique ; rue Pautrier et rue Isidore Dagnan; Bd Cassini au niveau du petit parking avant le pont; Bd Longchamp; Bd Voltaire et accès à la gare St Charles ;la plupart des rue de Belsunce; avenue du Prado le long des magasins de Castellane au Prado; chemin du four de Buze ( camions); boulevard Guigou; traverser sous le viaduc de Plombières; rond-point Pierre Paraf , chemin St Joseph à Ste Marthe; les alentours du Merlan, etc',\n",
       "  12160),\n",
       " ('Avenue du Prado ', 12165),\n",
       " (\"Rue Breteuil (un enfer)\\r\\nRue Paradis, entre Place Estrangin et Avenue du Prado\\r\\nCours Pierre Puget\\r\\nRue Armény, entre place Félix Baret et Rue Paradis\\r\\nRue Fort Notre Dame\\r\\nQuai de Rive Neuve, au niveau des entrées/sorties du tunnel du vieux port\\r\\nAvenue du Prado (piste cyclable ou trottoir ? On n'y comprend rien)\\r\\nIntersection Avenue du Prado et Rue Paradis\\r\\nIntersection Avenue du Prado et Boulevard Périer\",\n",
       "  12231),\n",
       " ('Rue d’Aix, rue Jean-François Leca (et généralement les abords de l’école Francois moisson), boulevard des Dames, avenue du Prado (place réservée aux transports doux très limitée vs place dévolue à la voiture), rue Saint-Michel ',\n",
       "  12236),\n",
       " ('toutes les voies où les pistes cyclables sont sur les trottoirs : avenue du Prado, par exemple,\\r\\nles quartiers anciens (Vauban, le Roucas...)où les trottoirs sont très étroits et contraignent à descendre sur la chaussée quand on doit croiser un autre piéton',\n",
       "  12254),\n",
       " ('Cours Pierre Puget et ses trottoirs étroits, la rue Paradis et l’absence totale de respect des passages pour piétons par les automobilistes, l’avenue du Prado et la juxtaposition des voies piétonnes et cyclistes, le vieux port refait récemment mais peu de bancs disponibles',\n",
       "  12300),\n",
       " (\"Quand on veut traverser l'Avenue du Prado, il vous suffit de remettre le tramway qui irait jusqu'à Luminy et des pistes cyclables parce que c'est infernale toute la journée d'entendre klaxonner. Je regrette presque le premier confinement où s'était calme !\",\n",
       "  12381),\n",
       " ('Avenue du prado', 12418),\n",
       " ('Me concernant avenue du prado empruntée quotidiennement pour aller travailler : trottoirs larges mais piste cyclables mal signalees rendant donc la circulation des velos et trotinettes sur le trottoir anarchique et mal adaptées + circulation fréquente de motos et scooters sur les trottoirs ou même carrément garés devant certains restaurants tous les jours (entrecôte du 8eme......) ',\n",
       "  12474),\n",
       " ('Certaines pistes cyclables sont aux mêmes endroits que les trottoirs piétons. Exemple : avenue du Prado',\n",
       "  12525),\n",
       " ('Castellane 13006\\r\\nAvenue Jules Cantini \\r\\nAvenue du prado', 12527),\n",
       " ('avenue du prado, abord du parc du 26eme centenaire côté passerelle Rabatau, Place de Pologne sous les passerelles (pour accès à la cité de la musique Baille)\\r\\n',\n",
       "  12625),\n",
       " (\"La majorité de la commune est problématique. Les trottoirs sont généralement hyper étroits, pas droits, des crottes de chiens partout (la ville n'y peux pas grand chose...), des voitures garées sur les trottoirs (il y a très peu de parking à Marseille), les voitures grillent les priorités aux piétons (si les automobilistes pouvaient nous écraser, ils le feraient) et roulent très vite. Il faut monter et descendre les trottoirs tout le temps. C'est un enfer pour les personnes en fauteuil ou les poussettes. D'ailleurs, je crois que depuis que j'habite la ville (2 ans et demi), je n'ai jamais croisé de personne en fauteuil roulant... Les pistes cyclables sont parfois sur les trottoirs avec des arbres en plein milieu et les voitures qui se garent en débordant sur la piste (Avenue du Prado).  \",\n",
       "  12688),\n",
       " ('Rue paradis les trottoirs sont très étroits car places de voitures sur trottoir, sur cours lieutaud les magasins de réparations moto/voiture prennent toute la place, sur avenue du prado pas de délimitation bien entretenu entre vélo et piétons, boulevard de maillane les voitures se garent sur le trottoir',\n",
       "  12695),\n",
       " (\"Les plus problématiques et surtout les plus dangereux sont les trottoirs dit aménagés avec piste cyclable et piétons. Les pistes cyclables ne sont jamais bien positionnées, du bon côté. Les trottinettes électriques et les vélos arrivent à très vive allure sortent des pistes cyclables et les piétons ne savent plus où marcher au risque de se faire renverser à tout instant. Les cyclistes ne respectent absolument pas le code de la route, brulent les feux, et bien sûr ne respectent pas les piétons, exemple avenue du Prado 1 et 2 , le Bd Longchamp où la piste cyclable n'est même plus visible, les vélos et souvent les motos sont sur les trottoirs piétons et longent les façades. Il est dangereux de sortir d'un coup de son immeuble. Ce sont des exemples vécus !! Mais pour les 2 roues zéro policiers, ils ne sont là que pour verbaliser le stationnement,\",\n",
       "  12717),\n",
       " (\"C'est problématique partout mais par exemple : avenue du Prado (trottoirs soi disant piétons appropriés par 2 roues, dont vélos, et trottinettes), quartier de la Plaine (place Jean Jaurès et quartier du Camas, où la réfection n'a rien arrangé), cours Lieutaud, la Canebière et le Vieux Port (trottinettes envahissantes sans aucun respect des piétons), etc... L'élargissement des trottoirs soi disant piétonniers (sur les plans) ne fait que les transformer en pistes de vitesse pour vélos et trottinettes, une calamité dans le centre ville où le piéton est toujours en danger.\\r\\nMARRE de la dictature idéologique du vélo par des pseudos écolos, inapproprié dès que l'on a un bagage ou pour les personnes âgées. \\r\\nIl est aussi indispensable de maintenir un usage correct de la voiture, inévitable pour tout trajet avec chargement (valise...) faute de maillage des transports en commun et de leur arrêt à 20h au plus tard pour la plupart. \",\n",
       "  12847),\n",
       " ('Avenue du Prado carrefour des 5 avenues la corniche(en travaux en ce moment)',\n",
       "  12853),\n",
       " ('1) Rond Point \"de David\" à l\\'extrémité de l\\'avenue du Prado. Le temps de passage pour les piétons est inférieur à 10 secondes pour une largeur de chaussée d\\'au moins 20 mètres. Une personne agée s\\'engage \"au vert\" et arrive \"au rouge\".\\r\\n2) Intersections rue Paradis - avenue du Prado et avenue de  Mazargues. \\r\\n2) Intersection du Bd Perier et de l\\'avenue du Prado. Espace piétons du trottoir très insuffisant.\\r\\n3) Intersections Boulevard de Hambourg - avenue d\\'Haifa et Boulevard de Hambourg - Avenue André Zenatti. La grande dimension des rond points autorise une vitesse élevée des véhicules et donc souvent l\\'impossibilité pour eux de laisser passer les piètons\\r\\n',\n",
       "  12907),\n",
       " ('Quartiers : Notre Dame du Mont, Camas, Thiers, belle de Mai, avenue du Prado Castellane, Canebiére, Préfecture, Conception, Timone',\n",
       "  12909)]"
      ]
     },
     "execution_count": 37,
     "metadata": {},
     "output_type": "execute_result"
    }
   ],
   "source": [
    "lieux['avenue du prado']"
   ]
  },
  {
   "cell_type": "code",
   "execution_count": 103,
   "metadata": {},
   "outputs": [],
   "source": [
    "reg_bd=re.compile(r'(bd\\s[^,.;!\\n\\r+:\\(\\)/]{0,20})')\n",
    "reg_rue=re.compile(r'(rue\\s[^,.;!\\n\\r+:\\(\\)/]{0,20})')#[,\\s]$\n",
    "reg_avenue=re.compile(r'(avenue\\s[^,.;!\\n\\r+:\\(\\)/\\\\]{0,20})')\n",
    "reg_cours=re.compile(r'(cours\\s[^,.;!\\n\\r+:\\(\\)/]{0,20})')\n",
    "reg_boulevard=re.compile(r'(boulevard\\s[^,.;!\\n\\r+:\\(\\)/]{0,20})')\n",
    "reg_traverse=re.compile(r'(traverse\\s[^,.;!\\n\\r+:\\(\\)/]{0,20})')\n",
    "reg_impasse=re.compile(r'(impasse\\s[^,.;!\\n\\r+:\\(\\)/]{0,20})')\n",
    "\n",
    "#reg_place=re.compile(r'(place\\s[^,.;!\\n:\\(\\)/-]{0,20})')\n",
    "reg_rond=re.compile(r'(rond-point\\s[^,.;!\\n\\r+:\\(\\)/]{0,20})')\n",
    "reg_quartier=re.compile(r'(quartier\\s[^,.;!\\n\\r+:\\(\\)/]{0,20})')\n",
    "nom_voie=[reg_rue, reg_avenue, reg_cours, reg_boulevard, reg_traverse, reg_impasse, reg_bd,  reg_rond, reg_quartier]#reg_place,\n",
    "liste=[]\n",
    "for i in df_nlp_marseille_pb.dropna() :\n",
    "    i=i.lower()\n",
    "    i=i.replace('bd ', 'boulevard ')\n",
    "    for reg in nom_voie :\n",
    "        new_lieux=reg.findall(i)\n",
    "        for new_lieu in new_lieux:\n",
    "            if new_lieu!=[] and new_lieu[len(new_lieu)-1]==' ':\n",
    "                print(new_lieu)\n",
    "                new_lieu=[new_lieu[:len(new_lieu)-1]]\n",
    "                liste+=new_lieu\n",
    "            else:\n",
    "                liste+=[new_lieu]    "
   ]
  },
  {
   "cell_type": "code",
   "execution_count": 38,
   "metadata": {},
   "outputs": [
    {
     "data": {
      "text/plain": [
       "[(44, 'Canebière'),\n",
       " (39, 'Corniche'),\n",
       " (35, 'avenue du prado'),\n",
       " (35, 'Vieux Por'),\n",
       " (32, 'cours lieutaud'),\n",
       " (26, 'rue paradis'),\n",
       " (21, 'rue breteuil'),\n",
       " (17, 'rue de rome'),\n",
       " (15, 'cours julien'),\n",
       " (14, 'cours pierre puget'),\n",
       " (10, 'rue du rouet'),\n",
       " (10, 'boulevard national'),\n",
       " (10, 'boulevard de la libération'),\n",
       " (10, 'boulevard chave'),\n",
       " (10, 'avenue de la corse'),\n",
       " (8, 'boulevard michelet'),\n",
       " (7, 'rue saint pierre'),\n",
       " (7, 'rue fort notre dame'),\n",
       " (7, 'boulevard sakakini'),\n",
       " (7, 'boulevard de la corderie'),\n",
       " (7, 'boulevard charles livon'),\n",
       " (7, 'avenue de mazargues'),\n",
       " (6, 'rue sainte'),\n",
       " (6, 'rue de lyon'),\n",
       " (6, \"boulevard d'athènes\"),\n",
       " (6, 'boulevard baille'),\n",
       " (5, 'rue de bruys'),\n",
       " (5, 'rue de breteuil'),\n",
       " (5, \"rue d'italie\"),\n",
       " (5, 'rue consolat'),\n",
       " (5, 'boulevard notre dame'),\n",
       " (4, 'rue marx dormoy'),\n",
       " (4, 'rue de la grande armée'),\n",
       " (4, \"rue d'endoume\"),\n",
       " (4, 'quartier vauban'),\n",
       " (4, 'cours puget'),\n",
       " (4, 'cours du combattant'),\n",
       " (4, 'boulevard des dames'),\n",
       " (4, 'avenue des chartreux'),\n",
       " (3, 'rue saint savournin'),\n",
       " (3, 'rue horace bertin'),\n",
       " (3, 'rue fontange'),\n",
       " (3, 'rue ferrari'),\n",
       " (3, 'rue du camas'),\n",
       " (3, 'rue de lodi'),\n",
       " (3, 'rue bernex'),\n",
       " (3, 'rue adolphe thiers'),\n",
       " (3, 'route des goudes'),\n",
       " (3, 'quartier endoum'),\n",
       " (3, 'quartier de la plaine'),\n",
       " (3, 'quartier de la gare'),\n",
       " (3, 'chemin de morgiou'),\n",
       " (3, 'boulevard voltaire'),\n",
       " (3, 'boulevard du prado'),\n",
       " (3, 'boulevard de la libération et'),\n",
       " (3, 'avenue des roches'),\n",
       " (3, 'avenue de montredon'),\n",
       " (2, 'rue très passante'),\n",
       " (2, 'rue thiers'),\n",
       " (2, 'rue terrusse'),\n",
       " (2, 'rue sylvabelle'),\n",
       " (2, 'rue saint michel'),\n",
       " (2, 'rue piétonne'),\n",
       " (2, 'rue musso'),\n",
       " (2, 'rue montaigne'),\n",
       " (2, 'rue jaubert'),\n",
       " (2, 'rue etienne dolet'),\n",
       " (2, 'rue espérandieu'),\n",
       " (2, 'rue esperandieu'),\n",
       " (2, 'rue du fort notre dame'),\n",
       " (2, 'rue du docteur escat'),\n",
       " (2, 'rue du coq'),\n",
       " (2, 'rue du centre ville'),\n",
       " (2, 'rue du cambodge'),\n",
       " (2, 'rue des 3 mages'),\n",
       " (2, 'rue de la république'),\n",
       " (2, 'rue chape'),\n",
       " (2, 'rue caisserie'),\n",
       " (2, 'rue belle de mai'),\n",
       " (2, 'quartier du panier'),\n",
       " (2, 'quartier du camas'),\n",
       " (2, 'quartier de mazargues'),\n",
       " (2, 'quartier de la valentine'),\n",
       " (2, 'quartier de la belle de mai'),\n",
       " (2, 'quartier castellane'),\n",
       " (2, 'quai de rive neuve'),\n",
       " (2, 'cours joseph thierry'),\n",
       " (2, 'cours gouffé'),\n",
       " (2, 'cours belsunce'),\n",
       " (2, 'chemin du roucas blanc'),\n",
       " (2, 'chemin du littoral'),\n",
       " (2, 'chemin du four de buze'),\n",
       " (2, 'chemin des goudes'),\n",
       " (2, 'chemin des bessons'),\n",
       " (2, 'boulevard sainte marguerite'),\n",
       " (2, 'boulevard longchamp'),\n",
       " (2, 'boulevard libération'),\n",
       " (2, 'boulevard dugommier'),\n",
       " (2, 'boulevard de la liberté'),\n",
       " (2, 'boulevard bompart'),\n",
       " (2, 'avenue saint just'),\n",
       " (2, 'avenue prado'),\n",
       " (2, 'avenue pierre mendes france'),\n",
       " (2, 'avenue jules cantini'),\n",
       " (2, 'avenue des caillols'),\n",
       " (2, 'avenue de la madrague de mo'),\n",
       " (2, 'avenue de la croix rouge'),\n",
       " (2, 'avenue de hambourg'),\n",
       " (2, 'avenue cantini')]"
      ]
     },
     "execution_count": 38,
     "metadata": {},
     "output_type": "execute_result"
    }
   ],
   "source": [
    "\n",
    "liste_marseille"
   ]
  },
  {
   "cell_type": "code",
   "execution_count": 168,
   "metadata": {},
   "outputs": [
    {
     "data": {
      "text/plain": [
       "11582                                          rue ferrari\n",
       "11583                                                  NaN\n",
       "11584    Dans cet arrondissement où les rues sont étroi...\n",
       "11585                                     Il y en a trop. \n",
       "11586                     le carrefour Canebière/garibaldi\n",
       "                               ...                        \n",
       "12950    aux abords des écoles, grande dangerosité pour...\n",
       "12951    Toute la moitié nord de la ville est dangereus...\n",
       "12952    Toutes les petites rues du centre ville avec d...\n",
       "12953                                                  NaN\n",
       "12954                                      Le centre-ville\n",
       "Name: Endroit_problematique_pieton, Length: 1373, dtype: object"
      ]
     },
     "execution_count": 168,
     "metadata": {},
     "output_type": "execute_result"
    }
   ],
   "source": [
    "df_nlp_marseille_pb"
   ]
  },
  {
   "cell_type": "code",
   "execution_count": 177,
   "metadata": {},
   "outputs": [
    {
     "data": {
      "text/plain": [
       "55"
      ]
     },
     "execution_count": 177,
     "metadata": {},
     "output_type": "execute_result"
    }
   ],
   "source": [
    "u=re.compile('(canebi.re)')\n",
    "canebiere=0\n",
    "for com in df_nlp_marseille_pb :\n",
    "    if com==str(com):\n",
    "        yest=u.findall(com.lower())\n",
    "        if yest!=[]:\n",
    "            canebiere+=1\n",
    "        \n",
    "canebiere"
   ]
  },
  {
   "cell_type": "code",
   "execution_count": 178,
   "metadata": {},
   "outputs": [
    {
     "data": {
      "text/plain": [
       "95"
      ]
     },
     "execution_count": 178,
     "metadata": {},
     "output_type": "execute_result"
    }
   ],
   "source": [
    "u=re.compile('(canebi.re)')\n",
    "canebiere=0\n",
    "for com in df[df['Ville']=='Marseille 13']['Endroit_le_plus_apprecie'] :\n",
    "    if com==str(com):\n",
    "        yest=u.findall(com.lower())\n",
    "        if yest!=[]:\n",
    "            canebiere+=1\n",
    "        \n",
    "canebiere"
   ]
  },
  {
   "cell_type": "code",
   "execution_count": 179,
   "metadata": {},
   "outputs": [
    {
     "data": {
      "text/plain": [
       "39"
      ]
     },
     "execution_count": 179,
     "metadata": {},
     "output_type": "execute_result"
    }
   ],
   "source": [
    "u=re.compile('(corniche)')\n",
    "canebiere=0\n",
    "for com in df_nlp_marseille_pb :\n",
    "    if com==str(com):\n",
    "        yest=u.findall(com.lower())\n",
    "        if yest!=[]:\n",
    "            canebiere+=1\n",
    "        \n",
    "canebiere"
   ]
  },
  {
   "cell_type": "code",
   "execution_count": 182,
   "metadata": {},
   "outputs": [
    {
     "data": {
      "text/plain": [
       "292"
      ]
     },
     "execution_count": 182,
     "metadata": {},
     "output_type": "execute_result"
    }
   ],
   "source": [
    "u=re.compile('(corniche)')\n",
    "canebiere=0\n",
    "for com in df[df['Ville']=='Marseille 13']['Endroit_le_plus_apprecie'] :\n",
    "    if com==str(com):\n",
    "        yest=u.findall(com.lower())\n",
    "        if yest!=[]:\n",
    "            canebiere+=1\n",
    "        \n",
    "canebiere"
   ]
  },
  {
   "cell_type": "code",
   "execution_count": 172,
   "metadata": {},
   "outputs": [
    {
     "name": "stdout",
     "output_type": "stream",
     "text": [
      "[(55, 'quartier'), (39, 'boulevard longchamp'), (28, 'cours julien'), (27, 'boulevard chave'), (17, 'avenue du prado'), (16, 'rue de la république'), (14, 'quartier du panier'), (9, 'rue paradis'), (8, 'rue de rome'), (8, 'boulevard michelet'), (6, 'rue saint ferreol'), (6, 'boulevard longchamps'), (5, 'rue saint féréol'), (5, 'quai du port'), (4, 'rue saint ferréol'), (4, 'quai de la joliette'), (3, 'rue sainte'), (3, 'quartier du camas'), (3, 'cours lieutaud'), (3, 'cours belsunce'), (3, 'boulevard notre dame'), (3, 'boulevard du prado'), (2, 'rue benoit malon'), (2, 'route urbaine'), (2, 'quartier vauban'), (2, 'quartier roucas'), (2, 'quartier opera'), (2, 'quartier de l’opéra'), (2, 'quai des belges'), (2, 'cours joseph thierry'), (2, \"cours estienne d'orves\"), (2, \"chemin le long de l'huveaun\"), (2, \"chemin de l'huveaune\"), (2, 'boulevard montricher'), (2, 'boulevard lonchamp'), (2, 'boulevard du redon'), (2, 'boulevard baille'), (2, 'avenue longchamp'), (2, 'avenue kennedy'), (2, 'avenue des chutes lavie')]\n"
     ]
    }
   ],
   "source": [
    "liste_bien_mars=chercher_rue(df[df['Ville']=='Marseille 13']['Endroit_le_plus_apprecie'])\n",
    "print(liste_bien_mars)"
   ]
  },
  {
   "cell_type": "code",
   "execution_count": 165,
   "metadata": {},
   "outputs": [
    {
     "name": "stdout",
     "output_type": "stream",
     "text": [
      "[(13, 'quartier'), (9, 'route où'), (9, 'cours lieutaud'), (6, 'rue paradis'), (6, 'cours du combattant'), (4, 'avenue du prado'), (2, 'rue pietonne'), (2, 'boulevard chave')]\n"
     ]
    }
   ],
   "source": [
    "liste_com_mars=chercher_rue(df[df['Ville']=='Marseille 13']['Commentaires'])\n",
    "print(liste_com_mars)"
   ]
  },
  {
   "cell_type": "code",
   "execution_count": 130,
   "metadata": {},
   "outputs": [],
   "source": [
    "liste_paris=chercher_rue(df[df['Ville']=='Paris 75']['Endroit_problematique_pieton'])"
   ]
  },
  {
   "cell_type": "code",
   "execution_count": 133,
   "metadata": {},
   "outputs": [
    {
     "data": {
      "text/plain": [
       "204"
      ]
     },
     "execution_count": 133,
     "metadata": {},
     "output_type": "execute_result"
    }
   ],
   "source": [
    "len(liste_paris)"
   ]
  },
  {
   "cell_type": "code",
   "execution_count": 158,
   "metadata": {},
   "outputs": [
    {
     "data": {
      "text/plain": [
       "190"
      ]
     },
     "execution_count": 158,
     "metadata": {},
     "output_type": "execute_result"
    }
   ],
   "source": [
    "liste=[]\n",
    "for i in df_nlp_marseille_appr.dropna() :\n",
    "    for reg in nom_voie :\n",
    "        liste+=reg.findall(i+' ')\n",
    "liste"
   ]
  },
  {
   "cell_type": "code",
   "execution_count": 163,
   "metadata": {},
   "outputs": [
    {
     "data": {
      "text/plain": [
       "['13002',\n",
       " '13009',\n",
       " '13005',\n",
       " '13012',\n",
       " '13013',\n",
       " '13008',\n",
       " '13012',\n",
       " '13008',\n",
       " '13009',\n",
       " '13001',\n",
       " '13012',\n",
       " '13012',\n",
       " '13007',\n",
       " '13007',\n",
       " '13002',\n",
       " '13008',\n",
       " '13008',\n",
       " '13008',\n",
       " '13012',\n",
       " '13009',\n",
       " '13014',\n",
       " '13014',\n",
       " '13015',\n",
       " '13011',\n",
       " '13013',\n",
       " '13012',\n",
       " '13009']"
      ]
     },
     "execution_count": 163,
     "metadata": {},
     "output_type": "execute_result"
    }
   ],
   "source": [
    "code=re.compile(r'13\\d{3,3}')\n",
    "liste=[]\n",
    "for i in df_nlp_marseille_appr.dropna() :\n",
    "    liste+=code.findall(i)"
   ]
  },
  {
   "cell_type": "code",
   "execution_count": 165,
   "metadata": {},
   "outputs": [
    {
     "data": {
      "text/plain": [
       "[' 2ème arrondisse',\n",
       " ' 6ème arrondisse',\n",
       " ' du 8ieme arrondisse',\n",
       " ' du 7ème arrondisse',\n",
       " ' quartier (5ème arrondisse',\n",
       " ' 12e arrondisse',\n",
       " ' 7ème arrondisse',\n",
       " ' et 10èmes arrondisse',\n",
       " ' mairie 12 arrondisse',\n",
       " ' le cinquième arrondisse',\n",
       " ' dans le 10ème arrondisse',\n",
       " ' dans le 7ème arrondisse',\n",
       " ' du 7ème arrondisse']"
      ]
     },
     "execution_count": 165,
     "metadata": {},
     "output_type": "execute_result"
    }
   ],
   "source": [
    "arrond=re.compile(r'\\d{0,2} .{0,15}arrondisse')\n",
    "liste=[]\n",
    "for i in df_nlp_marseille_appr.dropna() :\n",
    "    liste+=arrond.findall(i)\n",
    "liste"
   ]
  },
  {
   "cell_type": "code",
   "execution_count": 149,
   "metadata": {},
   "outputs": [
    {
     "data": {
      "text/plain": [
       "['rond-point du Prado doit être r', 'rond-point Pierre Paraf ']"
      ]
     },
     "execution_count": 149,
     "metadata": {},
     "output_type": "execute_result"
    }
   ],
   "source": [
    "liste=[]\n",
    "reg_rond=re.compile(r'(rond-point\\s[^,.;!\\n:\\(\\)/-]{0,20})')\n",
    "for i in df_nlp_marseille_pb.dropna() :\n",
    "    liste+=reg_rond.findall(i+' ')\n",
    "liste"
   ]
  },
  {
   "cell_type": "code",
   "execution_count": 77,
   "metadata": {},
   "outputs": [
    {
     "data": {
      "text/plain": [
       "\"11582                                          rue ferrari\\n11584    Dans cet arrondissement où les rues sont étroi...\\n11585                                     Il y en a trop. \\n11586                     le carrefour Canebière/garibaldi\\n11587    Hors Prado, Corniche, Vieux Por, toutes les ru...\\n                               ...                        \\n12949    L'ensemble de la ville est une catastrophe pou...\\n12950    aux abords des écoles, grande dangerosité pour...\\n12951    Toute la moitié nord de la ville est dangereus...\\n12952    Toutes les petites rues du centre ville avec d...\\n12954                                      Le centre-ville\\nName: Endroit_problematique_pieton, Length: 997, dtype: object\""
      ]
     },
     "execution_count": 77,
     "metadata": {},
     "output_type": "execute_result"
    }
   ],
   "source": [
    "str(df_nlp_marseille_pb.dropna())"
   ]
  },
  {
   "cell_type": "code",
   "execution_count": null,
   "metadata": {},
   "outputs": [],
   "source": []
  }
 ],
 "metadata": {
  "kernelspec": {
   "display_name": "Python 3",
   "language": "python",
   "name": "python3"
  },
  "language_info": {
   "codemirror_mode": {
    "name": "ipython",
    "version": 3
   },
   "file_extension": ".py",
   "mimetype": "text/x-python",
   "name": "python",
   "nbconvert_exporter": "python",
   "pygments_lexer": "ipython3",
   "version": "3.8.5"
  }
 },
 "nbformat": 4,
 "nbformat_minor": 4
}
