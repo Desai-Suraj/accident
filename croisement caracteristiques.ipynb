{
 "cells": [
  {
   "cell_type": "code",
   "execution_count": 1,
   "metadata": {},
   "outputs": [],
   "source": [
    "import pandas as pd\n",
    "import numpy as np\n",
    "import re\n",
    "from matplotlib import pyplot as plt"
   ]
  },
  {
   "cell_type": "code",
   "execution_count": 2,
   "metadata": {},
   "outputs": [
    {
     "name": "stderr",
     "output_type": "stream",
     "text": [
      "C:\\Users\\sylva\\anaconda3\\lib\\site-packages\\IPython\\core\\interactiveshell.py:3146: DtypeWarning: Columns (1,3,68,70) have mixed types.Specify dtype option on import or set low_memory=False.\n",
      "  has_raised = await self.run_ast_nodes(code_ast.body, cell_name,\n"
     ]
    }
   ],
   "source": [
    "df=pd.read_csv(\"C:/Users/sylva/OneDrive/Bureau/barometre/donnees_brutes_2021.csv\", sep=\";\")"
   ]
  },
  {
   "cell_type": "code",
   "execution_count": 3,
   "metadata": {},
   "outputs": [],
   "source": [
    "var_note =['Agencement_voirie', 'conflits_pietons', 'Conducteurs_respectent',\n",
    "       'Circulation_vehicules_motorises', 'Deplacements_pied_commune',\n",
    "       'Marche_securite', 'Securite_rues_services',\n",
    "       'Securite_rues_residentielles', 'Securite_rejoindre_communes_voisines',\n",
    "       'Acces_pietons', 'Marche_separe_circulation',\n",
    "       'Marche_separe_autres_mobilites', 'Traverse_carrefour',\n",
    "       'Deplacements_enfants_personnes_agees', 'Deplacements_enfants_ecole',\n",
    "       'Pistes_cyclables', 'Espaces_pietons',\n",
    "       'Espaces_pietons_libres_empietements', 'Espaces_pietons_entretenus',\n",
    "       'Espaces_pietons_travaux', 'Signaletique_specifique',\n",
    "       'Amenagements_confort_marcheurs', 'Trottoirs_eclaires',\n",
    "       'Commune_ecoute_pietons', 'Commune_effort_marche', 'Situation_pietons',\n",
    "       'Promotion_deplacement', 'Stationnement_espaces_pietons',\n",
    "       'Acces_transport_commun', 'Signaletique', 'Information']"
   ]
  },
  {
   "cell_type": "code",
   "execution_count": 4,
   "metadata": {},
   "outputs": [],
   "source": [
    "var_indicateur=['Indicateur_ressenti_global', 'Indicateur_securite',\n",
    "       'Indicateur_confort', 'Indicateur_effort_ville',\n",
    "       'Indicateur_amenagements_services', 'Indicateur_global']"
   ]
  },
  {
   "cell_type": "code",
   "execution_count": 5,
   "metadata": {},
   "outputs": [],
   "source": [
    "p=re.compile('(\\D*) \\(([0-9]{2,2})[0-9]{3,3}\\)')\n",
    "def yo_ville(x):\n",
    "    m=p.match(x)\n",
    "    return m.group(1)+' ' +m.group(2)\n",
    "df['Ville']=df['Commune'].apply(yo_ville)"
   ]
  },
  {
   "cell_type": "code",
   "execution_count": 6,
   "metadata": {},
   "outputs": [],
   "source": [
    "def yo_float(x):\n",
    "    return float(str(x).replace(',','.'))\n",
    "\n",
    "def indicateurs_nombres(df1, liste_indicateur=var_indicateur):\n",
    "    for indicateur in var_indicateur :\n",
    "        if indicateur in df1.columns:\n",
    "            df1[indicateur]=df1[indicateur].apply(yo_float)\n",
    "    return df1\n",
    "df=indicateurs_nombres(df)\n"
   ]
  },
  {
   "cell_type": "code",
   "execution_count": 16,
   "metadata": {},
   "outputs": [],
   "source": [
    "def valeur_age(df1):\n",
    "    liste=[]\n",
    "    for i in df1['Age_repondant'] :\n",
    "        if i=='De 45 à 54 ans':\n",
    "            liste.append('entre 45 et 65 ans')\n",
    "        elif i=='De 65 à 74 ans':\n",
    "            liste.append('plus de 65 ans')\n",
    "        elif i=='De 35 à 44 ans':\n",
    "            liste.append('entre 25 et 45 ans')\n",
    "        elif i=='De 26 à 34 ans':\n",
    "            liste.append('entre 25 et 45 ans')\n",
    "        elif i=='75 ans et plus':\n",
    "            liste.append('plus de 65 ans')\n",
    "        elif i=='De 55 à 64 ans':\n",
    "            liste.append('entre 45 et 65 ans')\n",
    "        elif i=='De 18 à 25 ans':\n",
    "            liste.append('moins de 25 ans')\n",
    "        elif i=='Moins de 18 ans':\n",
    "            liste.append('moins de 25 ans')\n",
    "        else :\n",
    "            liste.append(np.nan)\n",
    "    df1['Age']=np.array(liste)\n",
    "valeur_age(df)"
   ]
  },
  {
   "cell_type": "code",
   "execution_count": 31,
   "metadata": {},
   "outputs": [
    {
     "data": {
      "text/plain": [
       "[('entre 45 et 65 ans', 'Femme', 3.297901364113326),\n",
       " ('entre 45 et 65 ans', 'Homme', 3.5227167002636066),\n",
       " ('entre 45 et 65 ans', 'Ne souhaite pas répondre', 3.116279069767442),\n",
       " ('plus de 65 ans', 'Femme', 3.4113511659807956),\n",
       " ('plus de 65 ans', 'Homme', 3.6306277230918185),\n",
       " ('plus de 65 ans', 'Ne souhaite pas répondre', 3.2613636363636362),\n",
       " ('entre 25 et 45 ans', 'Femme', 3.4532581798185316),\n",
       " ('entre 25 et 45 ans', 'Homme', 3.763695987654321),\n",
       " ('entre 25 et 45 ans', 'Ne souhaite pas répondre', 3.4881889763779528),\n",
       " ('moins de 25 ans', 'Femme', 3.6884848484848485),\n",
       " ('moins de 25 ans', 'Homme', 3.9274924471299095),\n",
       " ('moins de 25 ans', 'Ne souhaite pas répondre', 3.7777777777777777)]"
      ]
     },
     "execution_count": 31,
     "metadata": {},
     "output_type": "execute_result"
    }
   ],
   "source": [
    "def doublecar(car1, car2, quest) :\n",
    "    liste_moyenne=[]\n",
    "    for carac1 in df[car1].dropna().unique():\n",
    "        df_carac1=df[df[car1]==carac1]\n",
    "        for carac2 in df[car2].dropna().unique():\n",
    "            df_carac2=df_carac1[df_carac1[car2]==carac2]\n",
    "            liste_moyenne.append((carac1, carac2, np.mean(df_carac2[quest])))\n",
    "    return liste_moyenne\n",
    "doublecar('Age', 'Sexe_repondant', 'Trottoirs_eclaires')"
   ]
  },
  {
   "cell_type": "code",
   "execution_count": 32,
   "metadata": {},
   "outputs": [
    {
     "data": {
      "text/plain": [
       "[('Non', 'Femme', 3.22583765880901),\n",
       " ('Non', 'Homme', 3.1935036813507134),\n",
       " ('Non', 'Ne souhaite pas répondre', 2.9550854461198472),\n",
       " ('Oui', 'Femme', 3.535221911347927),\n",
       " ('Oui', 'Homme', 3.6120214197624696),\n",
       " ('Oui', 'Ne souhaite pas répondre', 3.3741210104086035)]"
      ]
     },
     "execution_count": 32,
     "metadata": {},
     "output_type": "execute_result"
    }
   ],
   "source": [
    "doublecar('Membre_association_marche', 'Sexe_repondant', 'Indicateur_global')"
   ]
  },
  {
   "cell_type": "code",
   "execution_count": 34,
   "metadata": {},
   "outputs": [
    {
     "data": {
      "text/plain": [
       "[('Non', 'entre 45 et 65 ans', 3.199094569708946),\n",
       " ('Non', 'plus de 65 ans', 3.243008488850837),\n",
       " ('Non', 'entre 25 et 45 ans', 3.157186073830499),\n",
       " ('Non', 'moins de 25 ans', 3.568192876597412),\n",
       " ('Oui', 'entre 45 et 65 ans', 3.4994291456288407),\n",
       " ('Oui', 'plus de 65 ans', 3.6327000471354984),\n",
       " ('Oui', 'entre 25 et 45 ans', 3.2581801225731417),\n",
       " ('Oui', 'moins de 25 ans', 3.2058903769375005)]"
      ]
     },
     "execution_count": 34,
     "metadata": {},
     "output_type": "execute_result"
    }
   ],
   "source": [
    "doublecar('Membre_association_marche', 'Age', 'Indicateur_global')\n"
   ]
  },
  {
   "cell_type": "code",
   "execution_count": 35,
   "metadata": {},
   "outputs": [
    {
     "data": {
      "text/plain": [
       "Index(['Commune', 'Code_INSEE', 'Commune_cp', 'Dep', 'Cp', 'Nom_dep',\n",
       "       'Nom_region', 'Malvoyant', 'Taille_commune_2', 'Pratique de la marche',\n",
       "       'Deplacement_a_pied_vie_courante', 'Deplacement_a_pied_loisir',\n",
       "       'Lieu_marche', 'Deplacement_a_pied', 'Agencement_voirie',\n",
       "       'conflits_pietons', 'Conducteurs_respectent',\n",
       "       'Circulation_vehicules_motorises', 'Deplacements_pied_commune',\n",
       "       'Marche_securite', 'Securite_rues_services',\n",
       "       'Securite_rues_residentielles', 'Securite_rejoindre_communes_voisines',\n",
       "       'Acces_pietons', 'Marche_separe_circulation',\n",
       "       'Marche_separe_autres_mobilites', 'Traverse_carrefour',\n",
       "       'Deplacements_enfants_personnes_agees', 'Deplacements_enfants_ecole',\n",
       "       'Pistes_cyclables', 'Espaces_pietons',\n",
       "       'Espaces_pietons_libres_empietements', 'Espaces_pietons_entretenus',\n",
       "       'Espaces_pietons_travaux', 'Signaletique_specifique',\n",
       "       'Amenagements_confort_marcheurs', 'Trottoirs_eclaires',\n",
       "       'Commune_ecoute_pietons', 'Commune_effort_marche', 'Situation_pietons',\n",
       "       'Promotion_deplacement', 'Stationnement_espaces_pietons',\n",
       "       'Acces_transport_commun', 'Signaletique', 'Information',\n",
       "       'Resume_condition_marche', 'Endroit_problematique_pieton',\n",
       "       'Endroit_le_plus_apprecie', 'Criteres_importants', 'Commentaires',\n",
       "       'Buts_frequents_deplacements', 'Buts_frequents_deplacements_Autre',\n",
       "       'Lors_de_vos_deplacements', 'Principal_moyen_transport',\n",
       "       'Raisons_pas_deplacement_pied', 'Permis_de_conduire', 'Possedez-vous',\n",
       "       'Abonnement_transport_commun', 'Membre_association_marche',\n",
       "       'Membre_association_defense_pietons', 'Sexe_repondant', 'Age_repondant',\n",
       "       'Reception_resultats', 'Reception_info_promoteurs_baro',\n",
       "       'Recuperation_email', 'Email_contact', 'Email_contact_malvoyant',\n",
       "       'CommuneResidence_OK', 'Code_INSEE_residence_OK',\n",
       "       'Commune_cp_residence_OK', 'Dep_residence_OK', 'Cp_residence_OK',\n",
       "       'Nom_dep_residence_OK', 'Nom_region_residence_OK',\n",
       "       'Indicateur_ressenti_global', 'Indicateur_securite',\n",
       "       'Indicateur_confort', 'Indicateur_effort_ville',\n",
       "       'Indicateur_amenagements_services', 'Indicateur_global',\n",
       "       'Indicateur_global_declare', 'Ville', 'Age'],\n",
       "      dtype='object')"
      ]
     },
     "execution_count": 35,
     "metadata": {},
     "output_type": "execute_result"
    }
   ],
   "source": [
    "df.columns"
   ]
  },
  {
   "cell_type": "code",
   "execution_count": 36,
   "metadata": {},
   "outputs": [
    {
     "data": {
      "text/plain": [
       "[('entre 45 et 65 ans', 'Femme', 3.1239244491080798),\n",
       " ('entre 45 et 65 ans', 'Homme', 3.133798449612403),\n",
       " ('entre 45 et 65 ans', 'Ne souhaite pas répondre', 2.7209302325581395),\n",
       " ('plus de 65 ans', 'Femme', 3.352366255144033),\n",
       " ('plus de 65 ans', 'Homme', 3.463934161691141),\n",
       " ('plus de 65 ans', 'Ne souhaite pas répondre', 3.397727272727273),\n",
       " ('entre 25 et 45 ans', 'Femme', 2.8780588397030518),\n",
       " ('entre 25 et 45 ans', 'Homme', 2.7309027777777777),\n",
       " ('entre 25 et 45 ans', 'Ne souhaite pas répondre', 2.65748031496063),\n",
       " ('moins de 25 ans', 'Femme', 3.4703030303030302),\n",
       " ('moins de 25 ans', 'Homme', 3.308157099697885),\n",
       " ('moins de 25 ans', 'Ne souhaite pas répondre', 3.311111111111111)]"
      ]
     },
     "execution_count": 36,
     "metadata": {},
     "output_type": "execute_result"
    }
   ],
   "source": [
    "doublecar('Age', 'Sexe_repondant', 'Deplacements_enfants_ecole')"
   ]
  },
  {
   "cell_type": "code",
   "execution_count": 38,
   "metadata": {},
   "outputs": [
    {
     "data": {
      "text/plain": [
       "[('entre 45 et 65 ans', 'Femme', 3.304931794333683),\n",
       " ('entre 45 et 65 ans', 'Homme', 3.257519379844961),\n",
       " ('entre 45 et 65 ans', 'Ne souhaite pas répondre', 2.916279069767442),\n",
       " ('plus de 65 ans', 'Femme', 3.5123456790123457),\n",
       " ('plus de 65 ans', 'Homme', 3.5931902533483946),\n",
       " ('plus de 65 ans', 'Ne souhaite pas répondre', 3.5681818181818183),\n",
       " ('entre 25 et 45 ans', 'Femme', 3.1594720923838326),\n",
       " ('entre 25 et 45 ans', 'Homme', 3.0189043209876543),\n",
       " ('entre 25 et 45 ans', 'Ne souhaite pas répondre', 2.9291338582677167),\n",
       " ('moins de 25 ans', 'Femme', 3.473939393939394),\n",
       " ('moins de 25 ans', 'Homme', 3.36404833836858),\n",
       " ('moins de 25 ans', 'Ne souhaite pas répondre', 3.0)]"
      ]
     },
     "execution_count": 38,
     "metadata": {},
     "output_type": "execute_result"
    }
   ],
   "source": [
    "doublecar('Age', 'Sexe_repondant', 'Traverse_carrefour')"
   ]
  },
  {
   "cell_type": "code",
   "execution_count": null,
   "metadata": {},
   "outputs": [],
   "source": []
  }
 ],
 "metadata": {
  "kernelspec": {
   "display_name": "Python 3",
   "language": "python",
   "name": "python3"
  },
  "language_info": {
   "codemirror_mode": {
    "name": "ipython",
    "version": 3
   },
   "file_extension": ".py",
   "mimetype": "text/x-python",
   "name": "python",
   "nbconvert_exporter": "python",
   "pygments_lexer": "ipython3",
   "version": "3.8.5"
  }
 },
 "nbformat": 4,
 "nbformat_minor": 4
}
