{
 "cells": [
  {
   "cell_type": "code",
   "execution_count": 10,
   "metadata": {},
   "outputs": [
    {
     "name": "stderr",
     "output_type": "stream",
     "text": [
      "C:\\Users\\sylva\\anaconda3\\lib\\site-packages\\IPython\\core\\interactiveshell.py:3146: DtypeWarning: Columns (1,3,68,70) have mixed types.Specify dtype option on import or set low_memory=False.\n",
      "  has_raised = await self.run_ast_nodes(code_ast.body, cell_name,\n"
     ]
    }
   ],
   "source": [
    "import pandas as pd\n",
    "import numpy as np\n",
    "import re\n",
    "import matplotlib.pyplot as plt\n",
    "df=pd.read_csv(\"C:/Users/sylva/OneDrive/Bureau/barometre/donnees_brutes_2021.csv\", sep=\";\")"
   ]
  },
  {
   "cell_type": "code",
   "execution_count": 3,
   "metadata": {},
   "outputs": [],
   "source": [
    "var_indicateur=['Indicateur_ressenti_global', 'Indicateur_securite',\n",
    "       'Indicateur_confort', 'Indicateur_effort_ville',\n",
    "       'Indicateur_amenagements_services', 'Indicateur_global', 'Indicateur_global_declare']"
   ]
  },
  {
   "cell_type": "code",
   "execution_count": 4,
   "metadata": {},
   "outputs": [],
   "source": [
    "def yo_float(x):\n",
    "    return float(str(x).replace(',','.'))\n",
    "p=re.compile('(\\D*) \\(([0-9]{2,2})[0-9]{3,3}\\)')\n",
    "def yo_ville(x):\n",
    "    m=p.match(x)\n",
    "    return m.group(1)+' ' +m.group(2)\n",
    "df['Ville']=df['Commune'].apply(yo_ville)\n",
    "\n",
    "def indicateurs_nombres(df1, liste_indicateur=var_indicateur):\n",
    "    for indicateur in var_indicateur :\n",
    "        if indicateur in df1.columns:\n",
    "            df1[indicateur]=df1[indicateur].apply(yo_float)\n",
    "    return df1\n",
    "df=indicateurs_nombres(df)"
   ]
  },
  {
   "cell_type": "code",
   "execution_count": 5,
   "metadata": {},
   "outputs": [],
   "source": [
    "df_Marseille= df[df['Ville']=='Marseille 13']"
   ]
  },
  {
   "cell_type": "code",
   "execution_count": 12,
   "metadata": {},
   "outputs": [
    {
     "data": {
      "text/plain": [
       "Index(['Commune', 'Code_INSEE', 'Commune_cp', 'Dep', 'Cp', 'Nom_dep',\n",
       "       'Nom_region', 'Malvoyant', 'Taille_commune_2', 'Pratique de la marche',\n",
       "       'Deplacement_a_pied_vie_courante', 'Deplacement_a_pied_loisir',\n",
       "       'Lieu_marche', 'Deplacement_a_pied', 'Agencement_voirie',\n",
       "       'conflits_pietons', 'Conducteurs_respectent',\n",
       "       'Circulation_vehicules_motorises', 'Deplacements_pied_commune',\n",
       "       'Marche_securite', 'Securite_rues_services',\n",
       "       'Securite_rues_residentielles', 'Securite_rejoindre_communes_voisines',\n",
       "       'Acces_pietons', 'Marche_separe_circulation',\n",
       "       'Marche_separe_autres_mobilites', 'Traverse_carrefour',\n",
       "       'Deplacements_enfants_personnes_agees', 'Deplacements_enfants_ecole',\n",
       "       'Pistes_cyclables', 'Espaces_pietons',\n",
       "       'Espaces_pietons_libres_empietements', 'Espaces_pietons_entretenus',\n",
       "       'Espaces_pietons_travaux', 'Signaletique_specifique',\n",
       "       'Amenagements_confort_marcheurs', 'Trottoirs_eclaires',\n",
       "       'Commune_ecoute_pietons', 'Commune_effort_marche', 'Situation_pietons',\n",
       "       'Promotion_deplacement', 'Stationnement_espaces_pietons',\n",
       "       'Acces_transport_commun', 'Signaletique', 'Information',\n",
       "       'Resume_condition_marche', 'Endroit_problematique_pieton',\n",
       "       'Endroit_le_plus_apprecie', 'Criteres_importants', 'Commentaires',\n",
       "       'Buts_frequents_deplacements', 'Buts_frequents_deplacements_Autre',\n",
       "       'Lors_de_vos_deplacements', 'Principal_moyen_transport',\n",
       "       'Raisons_pas_deplacement_pied', 'Permis_de_conduire', 'Possedez-vous',\n",
       "       'Abonnement_transport_commun', 'Membre_association_marche',\n",
       "       'Membre_association_defense_pietons', 'Sexe_repondant', 'Age_repondant',\n",
       "       'Reception_resultats', 'Reception_info_promoteurs_baro',\n",
       "       'Recuperation_email', 'Email_contact', 'Email_contact_malvoyant',\n",
       "       'CommuneResidence_OK', 'Code_INSEE_residence_OK',\n",
       "       'Commune_cp_residence_OK', 'Dep_residence_OK', 'Cp_residence_OK',\n",
       "       'Nom_dep_residence_OK', 'Nom_region_residence_OK',\n",
       "       'Indicateur_ressenti_global', 'Indicateur_securite',\n",
       "       'Indicateur_confort', 'Indicateur_effort_ville',\n",
       "       'Indicateur_amenagements_services', 'Indicateur_global',\n",
       "       'Indicateur_global_declare'],\n",
       "      dtype='object')"
      ]
     },
     "execution_count": 12,
     "metadata": {},
     "output_type": "execute_result"
    }
   ],
   "source": [
    "df.columns"
   ]
  },
  {
   "cell_type": "code",
   "execution_count": 33,
   "metadata": {},
   "outputs": [
    {
     "name": "stdout",
     "output_type": "stream",
     "text": [
      "249 De 26 à 34 ans\n",
      "277 De 65 à 74 ans\n",
      "253 De 35 à 44 ans\n",
      "50 De 18 à 25 ans\n",
      "239 De 55 à 64 ans\n",
      "249 De 45 à 54 ans\n",
      "56 75 ans et plus\n"
     ]
    }
   ],
   "source": [
    "for i in pd.unique(df_Marseille['Age_repondant']) :\n",
    "    print( sum(df_Marseille['Age_repondant']==i),i)"
   ]
  },
  {
   "cell_type": "code",
   "execution_count": 32,
   "metadata": {},
   "outputs": [
    {
     "name": "stdout",
     "output_type": "stream",
     "text": [
      "259 Oui\n",
      "1102 Non\n",
      "0 nan\n"
     ]
    }
   ],
   "source": [
    "for i in pd.unique(df_Marseille['Membre_association_marche']) :\n",
    "    print( sum(df_Marseille['Membre_association_marche']==i),i)"
   ]
  },
  {
   "cell_type": "code",
   "execution_count": 31,
   "metadata": {},
   "outputs": [
    {
     "name": "stdout",
     "output_type": "stream",
     "text": [
      "1346 Non\n",
      "15 Oui\n",
      "0 nan\n"
     ]
    }
   ],
   "source": [
    "for i in pd.unique(df_Marseille['Membre_association_defense_pietons']) :\n",
    "    print( sum(df_Marseille['Membre_association_defense_pietons']==i),i)"
   ]
  },
  {
   "cell_type": "code",
   "execution_count": 30,
   "metadata": {},
   "outputs": [
    {
     "name": "stdout",
     "output_type": "stream",
     "text": [
      "185 Un utilisateur des transports en commun\n",
      "750 Un marcheur, un piéton\n",
      "165 Un utilisateur de véhicule motorisé (moto et autres deux roues, voitures à moteur à essence, gasoil...)\n",
      "202 Un cycliste ou un utilisateur d'engin de déplacement personnel (vélo, trottinette, skate, roller…)\n",
      "16 Une personne a mobilité réduite\n",
      "43 Un utilisateur d'engin de déplacement personnel à assistance électrique (vélo, trottinette, skate électrique...)\n",
      "0 nan\n"
     ]
    }
   ],
   "source": [
    "for i in pd.unique(df_Marseille['Lors_de_vos_deplacements']) :\n",
    "    print( sum(df_Marseille['Lors_de_vos_deplacements']==i),i)"
   ]
  },
  {
   "cell_type": "code",
   "execution_count": 29,
   "metadata": {},
   "outputs": [
    {
     "name": "stdout",
     "output_type": "stream",
     "text": [
      "1206 Dans les espaces urbanisés*\n",
      "167 Hors des espaces urbanisés\n"
     ]
    }
   ],
   "source": [
    "for i in pd.unique(df_Marseille['Lieu_marche']) :\n",
    "    print( sum(df_Marseille['Lieu_marche']==i),i)"
   ]
  },
  {
   "cell_type": "code",
   "execution_count": 34,
   "metadata": {},
   "outputs": [
    {
     "name": "stdout",
     "output_type": "stream",
     "text": [
      "781 Femme\n",
      "567 Homme\n",
      "25 Ne souhaite pas répondre\n"
     ]
    }
   ],
   "source": [
    "for i in pd.unique(df_Marseille['Sexe_repondant']) :\n",
    "    print( sum(df_Marseille['Sexe_repondant']==i),i)"
   ]
  },
  {
   "cell_type": "code",
   "execution_count": 35,
   "metadata": {},
   "outputs": [
    {
     "name": "stdout",
     "output_type": "stream",
     "text": [
      "746 Oui\n",
      "627 Non\n"
     ]
    }
   ],
   "source": [
    "for i in pd.unique(df_Marseille['Abonnement_transport_commun']) :\n",
    "    print( sum(df_Marseille['Abonnement_transport_commun']==i),i)"
   ]
  },
  {
   "cell_type": "code",
   "execution_count": 16,
   "metadata": {},
   "outputs": [
    {
     "name": "stdout",
     "output_type": "stream",
     "text": [
      "Deplacement_a_pied 6.380602498163116\n",
      "Agencement_voirie 4.420279206465834\n",
      "conflits_pietons 4.737692872887583\n",
      "Conducteurs_respectent 3.7648787656135196\n",
      "Circulation_vehicules_motorises 3.8001469507714916\n",
      "Deplacements_pied_commune 8.041146216017633\n",
      "Marche_securite 7.238795003673769\n",
      "Securite_rues_services 8.878765613519471\n",
      "Securite_rues_residentielles 8.96105804555474\n",
      "Securite_rejoindre_communes_voisines 4.3703159441587065\n",
      "Acces_pietons 7.990769230769231\n",
      "Marche_separe_circulation 16.32623071271124\n",
      "Marche_separe_autres_mobilites 14.609845701689935\n",
      "Traverse_carrefour 5.322556943423953\n",
      "Deplacements_enfants_personnes_agees 2.9360764144011755\n",
      "Deplacements_enfants_ecole 3.600293901542983\n",
      "Pistes_cyclables 5.396032329169728\n",
      "Espaces_pietons 3.224099926524614\n",
      "Espaces_pietons_libres_empietements 2.1719324026451137\n",
      "Espaces_pietons_entretenus 4.129316678912565\n",
      "Espaces_pietons_travaux 4.890521675238795\n",
      "Signaletique_specifique 4.008817046289493\n",
      "Amenagements_confort_marcheurs 3.3034533431300512\n",
      "Trottoirs_eclaires 6.986039676708303\n",
      "Commune_ecoute_pietons 3.3798677443056575\n",
      "Commune_effort_marche 4.323291697281411\n",
      "Situation_pietons 6.592211609110948\n",
      "Promotion_deplacement 3.59147685525349\n",
      "Stationnement_espaces_pietons 1.328434974283615\n",
      "Acces_transport_commun 10.184848484848485\n",
      "Signaletique 5.4313005143277\n",
      "Information 4.631888317413666\n",
      "Resume_condition_marche 4.099926524614254\n"
     ]
    }
   ],
   "source": [
    "notes=['Deplacement_a_pied', 'Agencement_voirie',\n",
    "       'conflits_pietons', 'Conducteurs_respectent',\n",
    "       'Circulation_vehicules_motorises', 'Deplacements_pied_commune',\n",
    "       'Marche_securite', 'Securite_rues_services',\n",
    "       'Securite_rues_residentielles', 'Securite_rejoindre_communes_voisines',\n",
    "       'Acces_pietons', 'Marche_separe_circulation',\n",
    "       'Marche_separe_autres_mobilites', 'Traverse_carrefour',\n",
    "       'Deplacements_enfants_personnes_agees', 'Deplacements_enfants_ecole',\n",
    "       'Pistes_cyclables', 'Espaces_pietons',\n",
    "       'Espaces_pietons_libres_empietements', 'Espaces_pietons_entretenus',\n",
    "       'Espaces_pietons_travaux', 'Signaletique_specifique',\n",
    "       'Amenagements_confort_marcheurs', 'Trottoirs_eclaires',\n",
    "       'Commune_ecoute_pietons', 'Commune_effort_marche', 'Situation_pietons',\n",
    "       'Promotion_deplacement', 'Stationnement_espaces_pietons',\n",
    "       'Acces_transport_commun', 'Signaletique', 'Information',\n",
    "       'Resume_condition_marche']\n",
    "for note in notes:\n",
    "    print(note, np.mean((df_Marseille[note]-1)*4))"
   ]
  },
  {
   "cell_type": "code",
   "execution_count": 27,
   "metadata": {},
   "outputs": [
    {
     "name": "stdout",
     "output_type": "stream",
     "text": [
      "103 Non\n",
      "60 Oui\n",
      "0 nan\n"
     ]
    }
   ],
   "source": [
    "df_Mars_hors=df_Marseille[df_Marseille['Lieu_marche']=='Hors des espaces urbanisés']\n",
    "for i in pd.unique(df_Mars_hors['Membre_association_marche']):\n",
    "    print( sum(df_Mars_hors['Membre_association_marche']==i),i)"
   ]
  },
  {
   "cell_type": "code",
   "execution_count": null,
   "metadata": {},
   "outputs": [],
   "source": []
  },
  {
   "cell_type": "code",
   "execution_count": 25,
   "metadata": {},
   "outputs": [
    {
     "name": "stdout",
     "output_type": "stream",
     "text": [
      "Deplacement_a_pied 1.1776797104258412\n",
      "Agencement_voirie 0.9048741677672956\n",
      "conflits_pietons 0.6856200105479999\n",
      "Conducteurs_respectent 0.7749985349999777\n",
      "Circulation_vehicules_motorises 0.8624297363450726\n",
      "Deplacements_pied_commune -0.875502044238492\n",
      "Marche_securite 0.5648859779213229\n",
      "Securite_rues_services 0.593627024517339\n",
      "Securite_rues_residentielles 1.5665493164084499\n",
      "Securite_rejoindre_communes_voisines 0.7339785343689007\n",
      "Acces_pietons 0.29681246857717536\n",
      "Marche_separe_circulation -0.3998503446130801\n",
      "Marche_separe_autres_mobilites -0.5730358857390137\n",
      "Traverse_carrefour 0.22345532651469746\n",
      "Deplacements_enfants_personnes_agees 0.7449051806908491\n",
      "Deplacements_enfants_ecole 0.8905036444692866\n",
      "Pistes_cyclables 0.17451981806953576\n",
      "Espaces_pietons 0.8004399507759992\n",
      "Espaces_pietons_libres_empietements 0.969171891833414\n",
      "Espaces_pietons_entretenus 0.16516184869479744\n",
      "Espaces_pietons_travaux 0.7781899812029227\n",
      "Signaletique_specifique 0.5801400089252313\n",
      "Amenagements_confort_marcheurs 0.3284484973607462\n",
      "Trottoirs_eclaires -0.18849366443836413\n",
      "Commune_ecoute_pietons 0.7673715194980235\n",
      "Commune_effort_marche 0.7073831493443565\n",
      "Situation_pietons -0.04006436984714412\n",
      "Promotion_deplacement 0.4576028993477368\n",
      "Stationnement_espaces_pietons 0.46297606866117036\n",
      "Acces_transport_commun 0.12284382284382289\n",
      "Signaletique 0.7282086881262879\n",
      "Information 1.036823339028052\n",
      "Resume_condition_marche 0.8816685674102853\n"
     ]
    }
   ],
   "source": [
    "for note in notes:\n",
    "    print(note, np.mean((df_Marseille[df_Marseille['Lieu_marche']=='Hors des espaces urbanisés'][note]-1)*4)-np.mean((df_Marseille[note]-1)*4))"
   ]
  },
  {
   "cell_type": "code",
   "execution_count": 17,
   "metadata": {},
   "outputs": [
    {
     "name": "stdout",
     "output_type": "stream",
     "text": [
      "Deplacement_a_pied -4.640404128088118\n",
      "Agencement_voirie -5.155452735824687\n",
      "conflits_pietons -5.787237809945258\n",
      "Conducteurs_respectent -5.584902709079841\n",
      "Circulation_vehicules_motorises -4.905337329504837\n",
      "Deplacements_pied_commune -1.5815804158729634\n",
      "Marche_securite -4.087771094357152\n",
      "Securite_rues_services -3.630656821745344\n",
      "Securite_rues_residentielles -3.472420971316353\n",
      "Securite_rejoindre_communes_voisines -4.011938861048305\n",
      "Acces_pietons -3.6406319459577245\n",
      "Marche_separe_circulation 0.07452715521323583\n",
      "Marche_separe_autres_mobilites 0.28492441779501476\n",
      "Traverse_carrefour -3.911899562990822\n",
      "Deplacements_enfants_personnes_agees -5.117967478638911\n",
      "Deplacements_enfants_ecole -4.887135018988996\n",
      "Pistes_cyclables -3.8991717500651806\n",
      "Espaces_pietons -4.833610908355665\n",
      "Espaces_pietons_libres_empietements -4.952159991085647\n",
      "Espaces_pietons_entretenus -6.227804358754565\n",
      "Espaces_pietons_travaux -4.502527646846878\n",
      "Signaletique_specifique -3.699809031676529\n",
      "Amenagements_confort_marcheurs -4.037289660371135\n",
      "Trottoirs_eclaires -3.00282232014298\n",
      "Commune_ecoute_pietons -3.9501602181916993\n",
      "Commune_effort_marche -3.8060407274665753\n",
      "Situation_pietons -1.3461299093231522\n",
      "Promotion_deplacement -3.2807180832995093\n",
      "Stationnement_espaces_pietons -5.957886899908645\n",
      "Acces_transport_commun -3.738962610676447\n",
      "Signaletique -3.7715098341461113\n",
      "Information -3.4407671799193222\n",
      "Resume_condition_marche -5.489095257936208\n"
     ]
    }
   ],
   "source": [
    "for note in notes:\n",
    "    print(note, np.mean((df_Marseille[note]-1)*4)-np.mean((df[note]-1)*4))"
   ]
  },
  {
   "cell_type": "code",
   "execution_count": 11,
   "metadata": {},
   "outputs": [
    {
     "name": "stdout",
     "output_type": "stream",
     "text": [
      "Indicateur_ressenti_global\n"
     ]
    },
    {
     "data": {
      "image/png": "[encoded data removed]",
      "text/plain": [
       "<Figure size 432x288 with 1 Axes>"
      ]
     },
     "metadata": {
      "needs_background": "light"
     },
     "output_type": "display_data"
    },
    {
     "name": "stdout",
     "output_type": "stream",
     "text": [
      "Indicateur_securite\n"
     ]
    },
    {
     "data": {
      "image/png": "[encoded data removed]",
      "text/plain": [
       "<Figure size 432x288 with 1 Axes>"
      ]
     },
     "metadata": {
      "needs_background": "light"
     },
     "output_type": "display_data"
    },
    {
     "name": "stdout",
     "output_type": "stream",
     "text": [
      "Indicateur_confort\n"
     ]
    },
    {
     "data": {
      "image/png": "[encoded data removed]",
      "text/plain": [
       "<Figure size 432x288 with 1 Axes>"
      ]
     },
     "metadata": {
      "needs_background": "light"
     },
     "output_type": "display_data"
    },
    {
     "name": "stdout",
     "output_type": "stream",
     "text": [
      "Indicateur_effort_ville\n"
     ]
    },
    {
     "data": {
      "image/png": "[encoded data removed]",
      "text/plain": [
       "<Figure size 432x288 with 1 Axes>"
      ]
     },
     "metadata": {
      "needs_background": "light"
     },
     "output_type": "display_data"
    },
    {
     "name": "stdout",
     "output_type": "stream",
     "text": [
      "Indicateur_amenagements_services\n"
     ]
    },
    {
     "data": {
      "image/png": "[encoded data removed]",
      "text/plain": [
       "<Figure size 432x288 with 1 Axes>"
      ]
     },
     "metadata": {
      "needs_background": "light"
     },
     "output_type": "display_data"
    },
    {
     "name": "stdout",
     "output_type": "stream",
     "text": [
      "Indicateur_global\n"
     ]
    },
    {
     "data": {
      "image/png": "[encoded data removed]",
      "text/plain": [
       "<Figure size 432x288 with 1 Axes>"
      ]
     },
     "metadata": {
      "needs_background": "light"
     },
     "output_type": "display_data"
    },
    {
     "name": "stdout",
     "output_type": "stream",
     "text": [
      "Indicateur_global_declare\n"
     ]
    },
    {
     "data": {
      "image/png": "[encoded data removed]",
      "text/plain": [
       "<Figure size 432x288 with 1 Axes>"
      ]
     },
     "metadata": {
      "needs_background": "light"
     },
     "output_type": "display_data"
    }
   ],
   "source": [
    "for i in var_indicateur :\n",
    "    print(i)\n",
    "    df_Marseille[i].hist()\n",
    "    plt.show()"
   ]
  },
  {
   "cell_type": "code",
   "execution_count": 13,
   "metadata": {},
   "outputs": [],
   "source": [
    "questions=['Deplacement_a_pied', 'Agencement_voirie',\n",
    "       'conflits_pietons', 'Conducteurs_respectent',\n",
    "       'Circulation_vehicules_motorises', 'Deplacements_pied_commune',\n",
    "       'Marche_securite', 'Securite_rues_services',\n",
    "       'Securite_rues_residentielles', 'Securite_rejoindre_communes_voisines',\n",
    "       'Acces_pietons', 'Marche_separe_circulation',\n",
    "       'Marche_separe_autres_mobilites', 'Traverse_carrefour',\n",
    "       'Deplacements_enfants_personnes_agees', 'Deplacements_enfants_ecole',\n",
    "       'Pistes_cyclables', 'Espaces_pietons',\n",
    "       'Espaces_pietons_libres_empietements', 'Espaces_pietons_entretenus',\n",
    "       'Espaces_pietons_travaux', 'Signaletique_specifique',\n",
    "       'Amenagements_confort_marcheurs', 'Trottoirs_eclaires',\n",
    "       'Commune_ecoute_pietons', 'Commune_effort_marche', 'Situation_pietons',\n",
    "       'Promotion_deplacement', 'Stationnement_espaces_pietons',\n",
    "       'Acces_transport_commun', 'Signaletique', 'Information',\n",
    "       'Resume_condition_marche']"
   ]
  },
  {
   "cell_type": "code",
   "execution_count": 14,
   "metadata": {},
   "outputs": [
    {
     "name": "stdout",
     "output_type": "stream",
     "text": [
      "Deplacement_a_pied\n"
     ]
    },
    {
     "data": {
      "image/png": "[encoded data removed]",
      "text/plain": [
       "<Figure size 432x288 with 1 Axes>"
      ]
     },
     "metadata": {
      "needs_background": "light"
     },
     "output_type": "display_data"
    },
    {
     "name": "stdout",
     "output_type": "stream",
     "text": [
      "Agencement_voirie\n"
     ]
    },
    {
     "data": {
      "image/png": "[encoded data removed]",
      "text/plain": [
       "<Figure size 432x288 with 1 Axes>"
      ]
     },
     "metadata": {
      "needs_background": "light"
     },
     "output_type": "display_data"
    },
    {
     "name": "stdout",
     "output_type": "stream",
     "text": [
      "conflits_pietons\n"
     ]
    },
    {
     "data": {
      "image/png": "[encoded data removed]",
      "text/plain": [
       "<Figure size 432x288 with 1 Axes>"
      ]
     },
     "metadata": {
      "needs_background": "light"
     },
     "output_type": "display_data"
    },
    {
     "name": "stdout",
     "output_type": "stream",
     "text": [
      "Conducteurs_respectent\n"
     ]
    },
    {
     "data": {
      "image/png": "[encoded data removed]",
      "text/plain": [
       "<Figure size 432x288 with 1 Axes>"
      ]
     },
     "metadata": {
      "needs_background": "light"
     },
     "output_type": "display_data"
    },
    {
     "name": "stdout",
     "output_type": "stream",
     "text": [
      "Circulation_vehicules_motorises\n"
     ]
    },
    {
     "data": {
      "image/png": "[encoded data removed]",
      "text/plain": [
       "<Figure size 432x288 with 1 Axes>"
      ]
     },
     "metadata": {
      "needs_background": "light"
     },
     "output_type": "display_data"
    },
    {
     "name": "stdout",
     "output_type": "stream",
     "text": [
      "Deplacements_pied_commune\n"
     ]
    },
    {
     "data": {
      "image/png": "[encoded data removed]",
      "text/plain": [
       "<Figure size 432x288 with 1 Axes>"
      ]
     },
     "metadata": {
      "needs_background": "light"
     },
     "output_type": "display_data"
    },
    {
     "name": "stdout",
     "output_type": "stream",
     "text": [
      "Marche_securite\n"
     ]
    },
    {
     "data": {
      "image/png": "[encoded data removed]",
      "text/plain": [
       "<Figure size 432x288 with 1 Axes>"
      ]
     },
     "metadata": {
      "needs_background": "light"
     },
     "output_type": "display_data"
    },
    {
     "name": "stdout",
     "output_type": "stream",
     "text": [
      "Securite_rues_services\n"
     ]
    },
    {
     "data": {
      "image/png": "[encoded data removed]",
      "text/plain": [
       "<Figure size 432x288 with 1 Axes>"
      ]
     },
     "metadata": {
      "needs_background": "light"
     },
     "output_type": "display_data"
    },
    {
     "name": "stdout",
     "output_type": "stream",
     "text": [
      "Securite_rues_residentielles\n"
     ]
    },
    {
     "data": {
      "image/png": "[encoded data removed]",
      "text/plain": [
       "<Figure size 432x288 with 1 Axes>"
      ]
     },
     "metadata": {
      "needs_background": "light"
     },
     "output_type": "display_data"
    },
    {
     "name": "stdout",
     "output_type": "stream",
     "text": [
      "Securite_rejoindre_communes_voisines\n"
     ]
    },
    {
     "data": {
      "image/png": "[encoded data removed]",
      "text/plain": [
       "<Figure size 432x288 with 1 Axes>"
      ]
     },
     "metadata": {
      "needs_background": "light"
     },
     "output_type": "display_data"
    },
    {
     "name": "stdout",
     "output_type": "stream",
     "text": [
      "Acces_pietons\n"
     ]
    },
    {
     "data": {
      "image/png": "[encoded data removed]",
      "text/plain": [
       "<Figure size 432x288 with 1 Axes>"
      ]
     },
     "metadata": {
      "needs_background": "light"
     },
     "output_type": "display_data"
    },
    {
     "name": "stdout",
     "output_type": "stream",
     "text": [
      "Marche_separe_circulation\n"
     ]
    },
    {
     "data": {
      "image/png": "[encoded data removed]",
      "text/plain": [
       "<Figure size 432x288 with 1 Axes>"
      ]
     },
     "metadata": {
      "needs_background": "light"
     },
     "output_type": "display_data"
    },
    {
     "name": "stdout",
     "output_type": "stream",
     "text": [
      "Marche_separe_autres_mobilites\n"
     ]
    },
    {
     "data": {
      "image/png": "[encoded data removed]",
      "text/plain": [
       "<Figure size 432x288 with 1 Axes>"
      ]
     },
     "metadata": {
      "needs_background": "light"
     },
     "output_type": "display_data"
    },
    {
     "name": "stdout",
     "output_type": "stream",
     "text": [
      "Traverse_carrefour\n"
     ]
    },
    {
     "data": {
      "image/png": "[encoded data removed]",
      "text/plain": [
       "<Figure size 432x288 with 1 Axes>"
      ]
     },
     "metadata": {
      "needs_background": "light"
     },
     "output_type": "display_data"
    },
    {
     "name": "stdout",
     "output_type": "stream",
     "text": [
      "Deplacements_enfants_personnes_agees\n"
     ]
    },
    {
     "data": {
      "image/png": "[encoded data removed]",
      "text/plain": [
       "<Figure size 432x288 with 1 Axes>"
      ]
     },
     "metadata": {
      "needs_background": "light"
     },
     "output_type": "display_data"
    },
    {
     "name": "stdout",
     "output_type": "stream",
     "text": [
      "Deplacements_enfants_ecole\n"
     ]
    },
    {
     "data": {
      "image/png": "[encoded data removed]",
      "text/plain": [
       "<Figure size 432x288 with 1 Axes>"
      ]
     },
     "metadata": {
      "needs_background": "light"
     },
     "output_type": "display_data"
    },
    {
     "name": "stdout",
     "output_type": "stream",
     "text": [
      "Pistes_cyclables\n"
     ]
    },
    {
     "data": {
      "image/png": "[encoded data removed]",
      "text/plain": [
       "<Figure size 432x288 with 1 Axes>"
      ]
     },
     "metadata": {
      "needs_background": "light"
     },
     "output_type": "display_data"
    },
    {
     "name": "stdout",
     "output_type": "stream",
     "text": [
      "Espaces_pietons\n"
     ]
    },
    {
     "data": {
      "image/png": "[encoded data removed]",
      "text/plain": [
       "<Figure size 432x288 with 1 Axes>"
      ]
     },
     "metadata": {
      "needs_background": "light"
     },
     "output_type": "display_data"
    },
    {
     "name": "stdout",
     "output_type": "stream",
     "text": [
      "Espaces_pietons_libres_empietements\n"
     ]
    },
    {
     "data": {
      "image/png": "[encoded data removed]",
      "text/plain": [
       "<Figure size 432x288 with 1 Axes>"
      ]
     },
     "metadata": {
      "needs_background": "light"
     },
     "output_type": "display_data"
    },
    {
     "name": "stdout",
     "output_type": "stream",
     "text": [
      "Espaces_pietons_entretenus\n"
     ]
    },
    {
     "data": {
      "image/png": "[encoded data removed]",
      "text/plain": [
       "<Figure size 432x288 with 1 Axes>"
      ]
     },
     "metadata": {
      "needs_background": "light"
     },
     "output_type": "display_data"
    },
    {
     "name": "stdout",
     "output_type": "stream",
     "text": [
      "Espaces_pietons_travaux\n"
     ]
    },
    {
     "data": {
      "image/png": "[encoded data removed]",
      "text/plain": [
       "<Figure size 432x288 with 1 Axes>"
      ]
     },
     "metadata": {
      "needs_background": "light"
     },
     "output_type": "display_data"
    },
    {
     "name": "stdout",
     "output_type": "stream",
     "text": [
      "Signaletique_specifique\n"
     ]
    },
    {
     "data": {
      "image/png": "[encoded data removed]",
      "text/plain": [
       "<Figure size 432x288 with 1 Axes>"
      ]
     },
     "metadata": {
      "needs_background": "light"
     },
     "output_type": "display_data"
    },
    {
     "name": "stdout",
     "output_type": "stream",
     "text": [
      "Amenagements_confort_marcheurs\n"
     ]
    },
    {
     "data": {
      "image/png": "[encoded data removed]",
      "text/plain": [
       "<Figure size 432x288 with 1 Axes>"
      ]
     },
     "metadata": {
      "needs_background": "light"
     },
     "output_type": "display_data"
    },
    {
     "name": "stdout",
     "output_type": "stream",
     "text": [
      "Trottoirs_eclaires\n"
     ]
    },
    {
     "data": {
      "image/png": "[encoded data removed]",
      "text/plain": [
       "<Figure size 432x288 with 1 Axes>"
      ]
     },
     "metadata": {
      "needs_background": "light"
     },
     "output_type": "display_data"
    },
    {
     "name": "stdout",
     "output_type": "stream",
     "text": [
      "Commune_ecoute_pietons\n"
     ]
    },
    {
     "data": {
      "image/png": "[encoded data removed]",
      "text/plain": [
       "<Figure size 432x288 with 1 Axes>"
      ]
     },
     "metadata": {
      "needs_background": "light"
     },
     "output_type": "display_data"
    },
    {
     "name": "stdout",
     "output_type": "stream",
     "text": [
      "Commune_effort_marche\n"
     ]
    },
    {
     "data": {
      "image/png": "[encoded data removed]",
      "text/plain": [
       "<Figure size 432x288 with 1 Axes>"
      ]
     },
     "metadata": {
      "needs_background": "light"
     },
     "output_type": "display_data"
    },
    {
     "name": "stdout",
     "output_type": "stream",
     "text": [
      "Situation_pietons\n"
     ]
    },
    {
     "data": {
      "image/png": "[encoded data removed]",
      "text/plain": [
       "<Figure size 432x288 with 1 Axes>"
      ]
     },
     "metadata": {
      "needs_background": "light"
     },
     "output_type": "display_data"
    },
    {
     "name": "stdout",
     "output_type": "stream",
     "text": [
      "Promotion_deplacement\n"
     ]
    },
    {
     "data": {
      "image/png": "[encoded data removed]",
      "text/plain": [
       "<Figure size 432x288 with 1 Axes>"
      ]
     },
     "metadata": {
      "needs_background": "light"
     },
     "output_type": "display_data"
    },
    {
     "name": "stdout",
     "output_type": "stream",
     "text": [
      "Stationnement_espaces_pietons\n"
     ]
    },
    {
     "data": {
      "image/png": "[encoded data removed]",
      "text/plain": [
       "<Figure size 432x288 with 1 Axes>"
      ]
     },
     "metadata": {
      "needs_background": "light"
     },
     "output_type": "display_data"
    },
    {
     "name": "stdout",
     "output_type": "stream",
     "text": [
      "Acces_transport_commun\n"
     ]
    },
    {
     "data": {
      "image/png": "[encoded data removed]",
      "text/plain": [
       "<Figure size 432x288 with 1 Axes>"
      ]
     },
     "metadata": {
      "needs_background": "light"
     },
     "output_type": "display_data"
    },
    {
     "name": "stdout",
     "output_type": "stream",
     "text": [
      "Signaletique\n"
     ]
    },
    {
     "data": {
      "image/png": "[encoded data removed]",
      "text/plain": [
       "<Figure size 432x288 with 1 Axes>"
      ]
     },
     "metadata": {
      "needs_background": "light"
     },
     "output_type": "display_data"
    },
    {
     "name": "stdout",
     "output_type": "stream",
     "text": [
      "Information\n"
     ]
    },
    {
     "data": {
      "image/png": "[encoded data removed]",
      "text/plain": [
       "<Figure size 432x288 with 1 Axes>"
      ]
     },
     "metadata": {
      "needs_background": "light"
     },
     "output_type": "display_data"
    },
    {
     "name": "stdout",
     "output_type": "stream",
     "text": [
      "Resume_condition_marche\n"
     ]
    },
    {
     "data": {
      "image/png": "[encoded data removed]",
      "text/plain": [
       "<Figure size 432x288 with 1 Axes>"
      ]
     },
     "metadata": {
      "needs_background": "light"
     },
     "output_type": "display_data"
    }
   ],
   "source": [
    "for i in questions :\n",
    "    print(i)\n",
    "    df_Marseille[i].hist()\n",
    "    plt.show()"
   ]
  },
  {
   "cell_type": "markdown",
   "metadata": {},
   "source": [
    "Stationnement espace piéton = énorme point noir ! "
   ]
  },
  {
   "cell_type": "code",
   "execution_count": null,
   "metadata": {},
   "outputs": [],
   "source": []
  },
  {
   "cell_type": "code",
   "execution_count": 40,
   "metadata": {},
   "outputs": [],
   "source": [
    "possibilite=[\"Verbaliser davantage le stationnement sur les passages piétons et les trottoirs\", \n",
    "                 \"Réserver l'usage des trottoirs aux déplacements à pied\", \"Modérer la vitesse des véhicules motorisés dans les lieux fréquentés par les piétons\",\n",
    "                \"Constituer un réseau complet de cheminements piétons dans la ville\", \"Davantage de lieux où les piétons sont prioritaires\",\n",
    "                \"plus larges, bien entretenus, sécurisés et désencombrés\",\n",
    "                 \"Des actions de communication pour développer le gout et le plaisir de la marche\",\n",
    "                \"Faciliter l'accès à pied des transports publics et lieux accueillant du public \",\n",
    "                \"Une signalétique adaptée aux piétons\", \"Des circulations piétonnes éloignées ou protégées  des zones bruyantes\",\n",
    "                \"Une meilleure qualité de l'air\", \"Un meilleur accès aux transports en commun pour faciliter leur usage par les piétons\",\n",
    "                \"Un environnement des cheminements piétons plus agréables : végétation, paysage...\",\n",
    "                \"Rendre la marche plus agréable pour les piétons : banc de repos, toilettes, eau potable…\",\n",
    "                \"Traiter les points noirs et les coupures urbaines ...\"]\n",
    "nom_col=['Verbaliser','Reserver', 'Vitesse', 'Compléter', 'Priorite','Trottoir', 'Communication', 'Acces', 'Signaletique',\n",
    "            'Bruit', 'Air', 'Transport', 'Environnement', 'Agreable', 'Point_noir']\n",
    "def proposition(df1):\n",
    "    for nombre in range(len(possibilite)):\n",
    "        p=re.compile(possibilite[nombre])\n",
    "        liste=[]\n",
    "        for i in df1['Criteres_importants']:\n",
    "            m=p.search(str(i))\n",
    "            if m==None:\n",
    "                liste.append(0)\n",
    "            else:\n",
    "                liste.append(1)\n",
    "        df1[nom_col[nombre]]=np.array(liste)\n",
    "proposition(df_Marseille)"
   ]
  },
  {
   "cell_type": "code",
   "execution_count": 55,
   "metadata": {},
   "outputs": [
    {
     "data": {
      "text/html": [
       "<div>\n",
       "<style scoped>\n",
       "    .dataframe tbody tr th:only-of-type {\n",
       "        vertical-align: middle;\n",
       "    }\n",
       "\n",
       "    .dataframe tbody tr th {\n",
       "        vertical-align: top;\n",
       "    }\n",
       "\n",
       "    .dataframe thead th {\n",
       "        text-align: right;\n",
       "    }\n",
       "</style>\n",
       "<table border=\"1\" class=\"dataframe\">\n",
       "  <thead>\n",
       "    <tr style=\"text-align: right;\">\n",
       "      <th></th>\n",
       "      <th>0</th>\n",
       "      <th>nombre</th>\n",
       "    </tr>\n",
       "  </thead>\n",
       "  <tbody>\n",
       "    <tr>\n",
       "      <th>5</th>\n",
       "      <td>Trottoir</td>\n",
       "      <td>747</td>\n",
       "    </tr>\n",
       "    <tr>\n",
       "      <th>0</th>\n",
       "      <td>Verbaliser</td>\n",
       "      <td>629</td>\n",
       "    </tr>\n",
       "    <tr>\n",
       "      <th>1</th>\n",
       "      <td>Reserver</td>\n",
       "      <td>511</td>\n",
       "    </tr>\n",
       "    <tr>\n",
       "      <th>12</th>\n",
       "      <td>Environnement</td>\n",
       "      <td>331</td>\n",
       "    </tr>\n",
       "    <tr>\n",
       "      <th>13</th>\n",
       "      <td>Agreable</td>\n",
       "      <td>268</td>\n",
       "    </tr>\n",
       "    <tr>\n",
       "      <th>2</th>\n",
       "      <td>Vitesse</td>\n",
       "      <td>262</td>\n",
       "    </tr>\n",
       "    <tr>\n",
       "      <th>3</th>\n",
       "      <td>Compléter</td>\n",
       "      <td>250</td>\n",
       "    </tr>\n",
       "    <tr>\n",
       "      <th>14</th>\n",
       "      <td>Point_noir</td>\n",
       "      <td>237</td>\n",
       "    </tr>\n",
       "    <tr>\n",
       "      <th>4</th>\n",
       "      <td>Priorite</td>\n",
       "      <td>205</td>\n",
       "    </tr>\n",
       "    <tr>\n",
       "      <th>10</th>\n",
       "      <td>Air</td>\n",
       "      <td>205</td>\n",
       "    </tr>\n",
       "    <tr>\n",
       "      <th>9</th>\n",
       "      <td>Bruit</td>\n",
       "      <td>153</td>\n",
       "    </tr>\n",
       "    <tr>\n",
       "      <th>11</th>\n",
       "      <td>Transport</td>\n",
       "      <td>138</td>\n",
       "    </tr>\n",
       "    <tr>\n",
       "      <th>7</th>\n",
       "      <td>Acces</td>\n",
       "      <td>57</td>\n",
       "    </tr>\n",
       "    <tr>\n",
       "      <th>6</th>\n",
       "      <td>Communication</td>\n",
       "      <td>51</td>\n",
       "    </tr>\n",
       "    <tr>\n",
       "      <th>8</th>\n",
       "      <td>Signaletique</td>\n",
       "      <td>25</td>\n",
       "    </tr>\n",
       "  </tbody>\n",
       "</table>\n",
       "</div>"
      ],
      "text/plain": [
       "                0  nombre\n",
       "5        Trottoir     747\n",
       "0      Verbaliser     629\n",
       "1        Reserver     511\n",
       "12  Environnement     331\n",
       "13       Agreable     268\n",
       "2         Vitesse     262\n",
       "3       Compléter     250\n",
       "14     Point_noir     237\n",
       "4        Priorite     205\n",
       "10            Air     205\n",
       "9           Bruit     153\n",
       "11      Transport     138\n",
       "7           Acces      57\n",
       "6   Communication      51\n",
       "8    Signaletique      25"
      ]
     },
     "execution_count": 55,
     "metadata": {},
     "output_type": "execute_result"
    }
   ],
   "source": [
    "liste1=[]\n",
    "liste2=[]\n",
    "for i in nom_col :\n",
    "    liste1.append(i)\n",
    "    liste2.append(sum(df_Marseille[i]))\n",
    "conseils=pd.DataFrame(liste1)\n",
    "conseils['nombre']=np.array(liste2)\n",
    "conseils.sort_values('nombre', ascending=False)"
   ]
  },
  {
   "cell_type": "code",
   "execution_count": 57,
   "metadata": {},
   "outputs": [],
   "source": [
    "df_Mars_jamais=df_Marseille[df_Marseille['Pratique de la marche']=='Presque jamais/Presque jamais']"
   ]
  },
  {
   "cell_type": "code",
   "execution_count": 59,
   "metadata": {},
   "outputs": [
    {
     "name": "stderr",
     "output_type": "stream",
     "text": [
      "<ipython-input-59-ebc37ad656ef>:19: SettingWithCopyWarning: \n",
      "A value is trying to be set on a copy of a slice from a DataFrame.\n",
      "Try using .loc[row_indexer,col_indexer] = value instead\n",
      "\n",
      "See the caveats in the documentation: https://pandas.pydata.org/pandas-docs/stable/user_guide/indexing.html#returning-a-view-versus-a-copy\n",
      "  df1[nom_col[nombre]]=np.array(liste)\n"
     ]
    }
   ],
   "source": [
    "possibilite=[\"Trop de véhicules motorisés\", \"Pas assez d'aménagements piétons et marcheurs\", \"Trop de pollutions\",\n",
    "            \"Je préfère utiliser ma voiture\", \"Vitesse des véhicules motorisés trop élévée\", \"Je ne me sens pas en sécurité à pied\",\n",
    "            \"Les cheminements n'offrent pas assez d'agrément\", \"Espaces piétons trop encombrés\", \"Trop de bruit\",\n",
    "             \"Espaces piétons trop utilisés par d'autres mobilités actives\", \"Je préfère utiliser une autre mobilité active\",\n",
    "            \"J'habite trop loin de mes lieux de destination\", \"Pour des raisons de santé, parce que j'ai du mal a me déplacer à pied\",\n",
    "            \"Parce que c'est trop lent\", \"Je ne sais pas\", \"Je n'aime pas la marche\", \"En raison des risques météo\"]\n",
    "nom_col=['Trop_voitures', 'Pas_amenagement', 'Pollution', 'Voiture', 'Voitures_trop_rapides', 'Pas_securite', 'Pas_agreable',\n",
    "        'Encombrement', 'Bruit', 'Velo_embetant', 'Velo', 'Loin', 'Sante', 'Lent', 'NSP', 'Desamour', 'Meteo']\n",
    "def pourquoi_pas(df1):\n",
    "    for nombre in range(len(possibilite)):\n",
    "        p=re.compile(possibilite[nombre])\n",
    "        liste=[]\n",
    "        for i in df1['Raisons_pas_deplacement_pied']:\n",
    "            m=p.search(str(i))\n",
    "            if m==None:\n",
    "                liste.append(0)\n",
    "            else:\n",
    "                liste.append(1)\n",
    "        df1[nom_col[nombre]]=np.array(liste)\n",
    "pourquoi_pas(df_Mars_jamais)"
   ]
  },
  {
   "cell_type": "code",
   "execution_count": 60,
   "metadata": {},
   "outputs": [
    {
     "data": {
      "text/html": [
       "<div>\n",
       "<style scoped>\n",
       "    .dataframe tbody tr th:only-of-type {\n",
       "        vertical-align: middle;\n",
       "    }\n",
       "\n",
       "    .dataframe tbody tr th {\n",
       "        vertical-align: top;\n",
       "    }\n",
       "\n",
       "    .dataframe thead th {\n",
       "        text-align: right;\n",
       "    }\n",
       "</style>\n",
       "<table border=\"1\" class=\"dataframe\">\n",
       "  <thead>\n",
       "    <tr style=\"text-align: right;\">\n",
       "      <th></th>\n",
       "      <th>0</th>\n",
       "      <th>nombre</th>\n",
       "    </tr>\n",
       "  </thead>\n",
       "  <tbody>\n",
       "    <tr>\n",
       "      <th>11</th>\n",
       "      <td>Loin</td>\n",
       "      <td>7</td>\n",
       "    </tr>\n",
       "    <tr>\n",
       "      <th>1</th>\n",
       "      <td>Pas_amenagement</td>\n",
       "      <td>4</td>\n",
       "    </tr>\n",
       "    <tr>\n",
       "      <th>2</th>\n",
       "      <td>Pollution</td>\n",
       "      <td>3</td>\n",
       "    </tr>\n",
       "    <tr>\n",
       "      <th>0</th>\n",
       "      <td>Trop_voitures</td>\n",
       "      <td>2</td>\n",
       "    </tr>\n",
       "    <tr>\n",
       "      <th>3</th>\n",
       "      <td>Voiture</td>\n",
       "      <td>2</td>\n",
       "    </tr>\n",
       "    <tr>\n",
       "      <th>5</th>\n",
       "      <td>Pas_securite</td>\n",
       "      <td>2</td>\n",
       "    </tr>\n",
       "    <tr>\n",
       "      <th>6</th>\n",
       "      <td>Pas_agreable</td>\n",
       "      <td>2</td>\n",
       "    </tr>\n",
       "    <tr>\n",
       "      <th>7</th>\n",
       "      <td>Encombrement</td>\n",
       "      <td>2</td>\n",
       "    </tr>\n",
       "    <tr>\n",
       "      <th>13</th>\n",
       "      <td>Lent</td>\n",
       "      <td>1</td>\n",
       "    </tr>\n",
       "    <tr>\n",
       "      <th>12</th>\n",
       "      <td>Sante</td>\n",
       "      <td>1</td>\n",
       "    </tr>\n",
       "    <tr>\n",
       "      <th>8</th>\n",
       "      <td>Bruit</td>\n",
       "      <td>1</td>\n",
       "    </tr>\n",
       "    <tr>\n",
       "      <th>9</th>\n",
       "      <td>Velo_embetant</td>\n",
       "      <td>1</td>\n",
       "    </tr>\n",
       "    <tr>\n",
       "      <th>10</th>\n",
       "      <td>Velo</td>\n",
       "      <td>0</td>\n",
       "    </tr>\n",
       "    <tr>\n",
       "      <th>4</th>\n",
       "      <td>Voitures_trop_rapides</td>\n",
       "      <td>0</td>\n",
       "    </tr>\n",
       "    <tr>\n",
       "      <th>14</th>\n",
       "      <td>NSP</td>\n",
       "      <td>0</td>\n",
       "    </tr>\n",
       "    <tr>\n",
       "      <th>15</th>\n",
       "      <td>Desamour</td>\n",
       "      <td>0</td>\n",
       "    </tr>\n",
       "    <tr>\n",
       "      <th>16</th>\n",
       "      <td>Meteo</td>\n",
       "      <td>0</td>\n",
       "    </tr>\n",
       "  </tbody>\n",
       "</table>\n",
       "</div>"
      ],
      "text/plain": [
       "                        0  nombre\n",
       "11                   Loin       7\n",
       "1         Pas_amenagement       4\n",
       "2               Pollution       3\n",
       "0           Trop_voitures       2\n",
       "3                 Voiture       2\n",
       "5            Pas_securite       2\n",
       "6            Pas_agreable       2\n",
       "7            Encombrement       2\n",
       "13                   Lent       1\n",
       "12                  Sante       1\n",
       "8                   Bruit       1\n",
       "9           Velo_embetant       1\n",
       "10                   Velo       0\n",
       "4   Voitures_trop_rapides       0\n",
       "14                    NSP       0\n",
       "15               Desamour       0\n",
       "16                  Meteo       0"
      ]
     },
     "execution_count": 60,
     "metadata": {},
     "output_type": "execute_result"
    }
   ],
   "source": [
    "liste1=[]\n",
    "liste2=[]\n",
    "for i in nom_col :\n",
    "    liste1.append(i)\n",
    "    liste2.append(sum(df_Mars_jamais[i]))\n",
    "conseils=pd.DataFrame(liste1)\n",
    "conseils['nombre']=np.array(liste2)\n",
    "conseils.sort_values('nombre', ascending=False)"
   ]
  },
  {
   "cell_type": "markdown",
   "metadata": {},
   "source": [
    "### Commentaires"
   ]
  },
  {
   "cell_type": "code",
   "execution_count": 61,
   "metadata": {},
   "outputs": [],
   "source": [
    "df_Marseille[['Endroit_problematique_pieton','Commentaires', 'Endroit_le_plus_apprecie']].to_csv(r'C:\\Users\\sylva\\OneDrive\\Bureau\\verbatims demandes\\marseille.csv', index=False, sep=';')"
   ]
  },
  {
   "cell_type": "code",
   "execution_count": null,
   "metadata": {},
   "outputs": [],
   "source": [
    "df_comment_marseille=df_Marseille['Commentaires']"
   ]
  },
  {
   "cell_type": "code",
   "execution_count": null,
   "metadata": {},
   "outputs": [],
   "source": []
  },
  {
   "cell_type": "code",
   "execution_count": null,
   "metadata": {},
   "outputs": [],
   "source": []
  }
 ],
 "metadata": {
  "kernelspec": {
   "display_name": "Python 3",
   "language": "python",
   "name": "python3"
  },
  "language_info": {
   "codemirror_mode": {
    "name": "ipython",
    "version": 3
   },
   "file_extension": ".py",
   "mimetype": "text/x-python",
   "name": "python",
   "nbconvert_exporter": "python",
   "pygments_lexer": "ipython3",
   "version": "3.8.5"
  }
 },
 "nbformat": 4,
 "nbformat_minor": 4
}
