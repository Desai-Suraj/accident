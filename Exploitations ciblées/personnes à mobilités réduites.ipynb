{
 "cells": [
  {
   "cell_type": "code",
   "execution_count": 1,
   "metadata": {},
   "outputs": [],
   "source": [
    "import pandas as pd\n",
    "import numpy as np\n",
    "import re\n",
    "from matplotlib import pyplot as plt"
   ]
  },
  {
   "cell_type": "code",
   "execution_count": 2,
   "metadata": {},
   "outputs": [
    {
     "name": "stderr",
     "output_type": "stream",
     "text": [
      "C:\\Users\\sylva\\anaconda3\\lib\\site-packages\\IPython\\core\\interactiveshell.py:3146: DtypeWarning: Columns (1,3,68,70) have mixed types.Specify dtype option on import or set low_memory=False.\n",
      "  has_raised = await self.run_ast_nodes(code_ast.body, cell_name,\n"
     ]
    }
   ],
   "source": [
    "df=pd.read_csv(\"C:/Users/sylva/OneDrive/Bureau/barometre/donnees_brutes_2021.csv\", sep=\";\")"
   ]
  },
  {
   "cell_type": "code",
   "execution_count": 3,
   "metadata": {},
   "outputs": [],
   "source": [
    "var_note =['Agencement_voirie', 'conflits_pietons', 'Conducteurs_respectent',\n",
    "       'Circulation_vehicules_motorises', 'Deplacements_pied_commune',\n",
    "       'Marche_securite', 'Securite_rues_services',\n",
    "       'Securite_rues_residentielles', 'Securite_rejoindre_communes_voisines',\n",
    "       'Acces_pietons', 'Marche_separe_circulation',\n",
    "       'Marche_separe_autres_mobilites', 'Traverse_carrefour',\n",
    "       'Deplacements_enfants_personnes_agees', 'Deplacements_enfants_ecole',\n",
    "       'Pistes_cyclables', 'Espaces_pietons',\n",
    "       'Espaces_pietons_libres_empietements', 'Espaces_pietons_entretenus',\n",
    "       'Espaces_pietons_travaux', 'Signaletique_specifique',\n",
    "       'Amenagements_confort_marcheurs', 'Trottoirs_eclaires',\n",
    "       'Commune_ecoute_pietons', 'Commune_effort_marche', 'Situation_pietons',\n",
    "       'Promotion_deplacement', 'Stationnement_espaces_pietons',\n",
    "       'Acces_transport_commun', 'Signaletique', 'Information']"
   ]
  },
  {
   "cell_type": "code",
   "execution_count": 4,
   "metadata": {},
   "outputs": [],
   "source": [
    "var_indicateur=['Indicateur_ressenti_global', 'Indicateur_securite',\n",
    "       'Indicateur_confort', 'Indicateur_effort_ville',\n",
    "       'Indicateur_amenagements_services', 'Indicateur_global']"
   ]
  },
  {
   "cell_type": "code",
   "execution_count": 5,
   "metadata": {},
   "outputs": [],
   "source": [
    "p=re.compile('(\\D*) \\(([0-9]{2,2})[0-9]{3,3}\\)')\n",
    "def yo_ville(x):\n",
    "    m=p.match(x)\n",
    "    return m.group(1)+' ' +m.group(2)\n",
    "df['Ville']=df['Commune'].apply(yo_ville)"
   ]
  },
  {
   "cell_type": "code",
   "execution_count": 6,
   "metadata": {},
   "outputs": [],
   "source": [
    "def yo_float(x):\n",
    "    return float(str(x).replace(',','.'))\n",
    "\n",
    "def indicateurs_nombres(df1, liste_indicateur=var_indicateur):\n",
    "    for indicateur in var_indicateur :\n",
    "        if indicateur in df1.columns:\n",
    "            df1[indicateur]=df1[indicateur].apply(yo_float)\n",
    "    return df1\n",
    "df=indicateurs_nombres(df)"
   ]
  },
  {
   "cell_type": "code",
   "execution_count": 7,
   "metadata": {},
   "outputs": [],
   "source": [
    "df_car=df[['Commune', 'Malvoyant', 'Taille_commune_2', 'Pratique de la marche',\n",
    "       'Deplacement_a_pied_vie_courante', 'Deplacement_a_pied_loisir',\n",
    "       'Lieu_marche', 'Deplacement_a_pied', 'Agencement_voirie',\n",
    "       'conflits_pietons', 'Conducteurs_respectent',\n",
    "       'Circulation_vehicules_motorises', 'Deplacements_pied_commune',\n",
    "       'Marche_securite', 'Securite_rues_services',\n",
    "       'Securite_rues_residentielles', 'Securite_rejoindre_communes_voisines',\n",
    "       'Acces_pietons', 'Marche_separe_circulation',\n",
    "       'Marche_separe_autres_mobilites', 'Traverse_carrefour',\n",
    "       'Deplacements_enfants_personnes_agees', 'Deplacements_enfants_ecole',\n",
    "       'Pistes_cyclables', 'Espaces_pietons',\n",
    "       'Espaces_pietons_libres_empietements', 'Espaces_pietons_entretenus',\n",
    "       'Espaces_pietons_travaux', 'Signaletique_specifique',\n",
    "       'Amenagements_confort_marcheurs', 'Trottoirs_eclaires',\n",
    "       'Commune_ecoute_pietons', 'Commune_effort_marche', 'Situation_pietons',\n",
    "       'Promotion_deplacement', 'Stationnement_espaces_pietons',\n",
    "       'Acces_transport_commun', 'Signaletique', 'Information',\n",
    "       'Resume_condition_marche',\n",
    "       'Membre_association_marche',\n",
    "       'Membre_association_defense_pietons', 'Sexe_repondant', 'Age_repondant',\n",
    "       'Indicateur_ressenti_global', 'Indicateur_securite',\n",
    "       'Indicateur_confort', 'Indicateur_effort_ville',\n",
    "       'Indicateur_amenagements_services', 'Indicateur_global',\n",
    "       'Indicateur_global_declare', 'Ville']]"
   ]
  },
  {
   "cell_type": "code",
   "execution_count": 8,
   "metadata": {},
   "outputs": [],
   "source": [
    "df_mal=df[df['Malvoyant']=='Oui']"
   ]
  },
  {
   "cell_type": "code",
   "execution_count": 9,
   "metadata": {},
   "outputs": [],
   "source": [
    "df_mal=df_mal[['Dep', 'Cp', 'Malvoyant', 'Taille_commune_2', 'Pratique de la marche',\n",
    "       'Deplacement_a_pied_vie_courante', 'Deplacement_a_pied_loisir',\n",
    "       'Lieu_marche', 'Deplacement_a_pied', 'Agencement_voirie',\n",
    "       'conflits_pietons', 'Conducteurs_respectent',\n",
    "       'Circulation_vehicules_motorises', 'Deplacements_pied_commune',\n",
    "       'Marche_securite', 'Securite_rues_services',\n",
    "       'Securite_rues_residentielles', 'Securite_rejoindre_communes_voisines',\n",
    "       'Acces_pietons', 'Marche_separe_circulation',\n",
    "       'Marche_separe_autres_mobilites', 'Traverse_carrefour',\n",
    "       'Deplacements_enfants_personnes_agees', 'Deplacements_enfants_ecole',\n",
    "       'Pistes_cyclables', 'Espaces_pietons',\n",
    "       'Espaces_pietons_libres_empietements', 'Espaces_pietons_entretenus',\n",
    "       'Espaces_pietons_travaux', 'Signaletique_specifique',\n",
    "       'Amenagements_confort_marcheurs', 'Trottoirs_eclaires',\n",
    "       'Commune_ecoute_pietons', 'Commune_effort_marche', 'Situation_pietons',\n",
    "       'Promotion_deplacement', 'Stationnement_espaces_pietons',\n",
    "       'Acces_transport_commun', 'Signaletique', 'Information',\n",
    "       'Resume_condition_marche', 'Endroit_problematique_pieton',\n",
    "       'Endroit_le_plus_apprecie', 'Criteres_importants', 'Commentaires',\n",
    "       'Buts_frequents_deplacements', 'Buts_frequents_deplacements_Autre',\n",
    "       'Lors_de_vos_deplacements', 'Principal_moyen_transport',\n",
    "       'Raisons_pas_deplacement_pied', 'Permis_de_conduire', 'Possedez-vous',\n",
    "       'Abonnement_transport_commun', 'Membre_association_marche',\n",
    "       'Membre_association_defense_pietons', 'Sexe_repondant', 'Age_repondant',\n",
    "       'Indicateur_ressenti_global', 'Indicateur_securite',\n",
    "       'Indicateur_confort', 'Indicateur_effort_ville',\n",
    "       'Indicateur_amenagements_services', 'Indicateur_global',\n",
    "       'Indicateur_global_declare', 'Ville']]"
   ]
  },
  {
   "cell_type": "code",
   "execution_count": 10,
   "metadata": {},
   "outputs": [
    {
     "name": "stdout",
     "output_type": "stream",
     "text": [
      "70\n"
     ]
    },
    {
     "data": {
      "text/plain": [
       "567"
      ]
     },
     "execution_count": 10,
     "metadata": {},
     "output_type": "execute_result"
    }
   ],
   "source": [
    "print(sum(df_mal['Lors_de_vos_deplacements']=='Une personne a mobilité réduite'))\n",
    "df_mal['Lors_de_vos_deplacements'].count()"
   ]
  },
  {
   "cell_type": "code",
   "execution_count": 11,
   "metadata": {},
   "outputs": [],
   "source": [
    "df_reduite=df[df['Lors_de_vos_deplacements']=='Une personne a mobilité réduite']"
   ]
  },
  {
   "cell_type": "code",
   "execution_count": 12,
   "metadata": {},
   "outputs": [
    {
     "name": "stdout",
     "output_type": "stream",
     "text": [
      "moyenne Agencement_voirie malvoyant 3.178130511463845 reduite 2.650112866817156 -0.21580247410878517 -0.7438201187554743\n",
      "moyenne conflits_pietons malvoyant 3.3333333333333335 reduite 3.0022573363431153 -0.2978993373748766 -0.6289753343650948\n",
      "moyenne Conducteurs_respectent malvoyant 3.291005291005291 reduite 2.9774266365688487 -0.04644007766804892 -0.3600187321044914\n",
      "moyenne Circulation_vehicules_motorises malvoyant 3.17989417989418 reduite 2.9729119638826185 0.0035231098250978476 -0.20345910618646368\n",
      "moyenne Deplacements_pied_commune malvoyant 3.506172839506173 reduite 3.4243792325056432 0.10049118153352365 0.018697574532994032\n",
      "moyenne Marche_securite malvoyant 3.4779541446208113 reduite 3.106094808126411 -0.3536873798869191 -0.7255467163813196\n",
      "moyenne Securite_rues_services malvoyant 3.7742504409171076 reduite 3.386004514672686 -0.35310516789909574 -0.7413510941435173\n",
      "moyenne Securite_rues_residentielles malvoyant 3.857142857142857 reduite 3.440180586907449 -0.2512268970749161 -0.6681891673103242\n",
      "moyenne Securite_rejoindre_communes_voisines malvoyant 3.0793650793650795 reduite 2.860045146726862 -0.01619862193667343 -0.2355185545748908\n",
      "moyenne Acces_pietons malvoyant 3.6288032454361057 reduite 3.4601063829787235 -0.27904704874563313 -0.44774391120301527\n",
      "moyenne Marche_separe_circulation malvoyant 4.932980599647267 reduite 4.905191873589165 -0.1299452897272344 -0.1577340157853362\n",
      "moyenne Marche_separe_autres_mobilites malvoyant 4.7477954144620815 reduite 4.762979683972912 0.16656509348835158 0.18174936299918176\n",
      "moyenne Traverse_carrefour malvoyant 3.0388007054673722 reduite 2.7539503386004514 -0.26981342113632145 -0.5546637880032423\n",
      "moyenne Deplacements_enfants_personnes_agees malvoyant 2.9365079365079363 reduite 2.399548532731377 -0.07700303675208531 -0.6139624405286446\n",
      "moyenne Deplacements_enfants_ecole malvoyant 3.0776014109347445 reduite 2.7426636568848757 -0.04425581919825028 -0.3791935732481191\n",
      "moyenne Pistes_cyclables malvoyant 3.0987654320987654 reduite 2.783295711060948 -0.22503558770996168 -0.5405053087477789\n",
      "moyenne Espaces_pietons malvoyant 2.8818342151675487 reduite 2.435665914221219 -0.13259349355252104 -0.5787617944988508\n",
      "moyenne Espaces_pietons_libres_empietements malvoyant 2.5908289241622575 reduite 2.2031602708803613 -0.19019417427043273 -0.577862827552329\n",
      "moyenne Espaces_pietons_entretenus malvoyant 3.3403880070546736 reduite 2.9232505643340856 -0.24889225236210866 -0.6660296950826967\n",
      "moyenne Espaces_pietons_travaux malvoyant 3.232804232804233 reduite 2.7900677200902932 -0.11545809771718529 -0.5581946104311251\n",
      "moyenne Signaletique_specifique malvoyant 2.9611992945326278 reduite 2.5553047404063207 0.0340427750411223 -0.37185177908518474\n",
      "moyenne Amenagements_confort_marcheurs malvoyant 2.767195767195767 reduite 2.3431151241534987 -0.06798998367952969 -0.492070626721798\n",
      "moyenne Trottoirs_eclaires malvoyant 3.2433862433862433 reduite 2.930022573363431 -0.25382925582657734 -0.5671929258493895\n",
      "moyenne Commune_ecoute_pietons malvoyant 2.7848324514991183 reduite 2.4176072234762978 -0.04767453912522068 -0.4148997671480412\n",
      "moyenne Commune_effort_marche malvoyant 2.9523809523809526 reduite 2.55079006772009 -0.07995215380604392 -0.4815430384669064\n",
      "moyenne Situation_pietons malvoyant 2.8483245149911816 reduite 2.5530474040632054 -0.13626086461734355 -0.4315379755453197\n",
      "moyenne Promotion_deplacement malvoyant 2.765432098765432 reduite 2.485327313769752 0.04738336412718214 -0.232721420868498\n",
      "moyenne Stationnement_espaces_pietons malvoyant 2.7142857142857144 reduite 2.36568848758465 -0.10729475426235036 -0.45589198096341477\n",
      "moyenne Acces_transport_commun malvoyant 4.249492900608519 reduite 4.016042780748663 -0.23145987327271378 -0.4649099931325704\n",
      "moyenne Signaletique malvoyant 3.246913580246914 reduite 2.9345372460496613 -0.05378900687153898 -0.3661653410687915\n",
      "moyenne Information malvoyant 3.035273368606702 reduite 2.7358916478555306 0.017109494273455095 -0.28227222647771644\n"
     ]
    }
   ],
   "source": [
    "for note in var_note :\n",
    "    print('moyenne',note, 'malvoyant', np.mean(df_mal[note]), 'reduite',  np.mean(df_reduite[note]),   \n",
    "          np.mean(df_mal[note])-np.mean(df[note]), np.mean(df_reduite[note])-np.mean(df[note]))"
   ]
  },
  {
   "cell_type": "code",
   "execution_count": 13,
   "metadata": {},
   "outputs": [
    {
     "name": "stdout",
     "output_type": "stream",
     "text": [
      "mal De 5000 et 19 999 habitants 0.23488773747841105\n",
      "tout De 5000 et 19 999 habitants 0.23031409619340376\n",
      "reduite De 5000 et 19 999 habitants 0.23476297968397292\n",
      "mal De 100 000 et 199 999 habitants 0.18307426597582038\n",
      "tout De 100 000 et 199 999 habitants 0.14692490812859685\n",
      "reduite De 100 000 et 199 999 habitants 0.17607223476297967\n",
      "mal De 20 000 et 49 999 habitants 0.19170984455958548\n",
      "tout De 20 000 et 49 999 habitants 0.17967504102433726\n",
      "reduite De 20 000 et 49 999 habitants 0.18284424379232506\n",
      "mal De 50 000 et 99 999 habitants 0.07599309153713299\n",
      "tout De 50 000 et 99 999 habitants 0.09046155268449396\n",
      "reduite De 50 000 et 99 999 habitants 0.09255079006772009\n",
      "mal 200 000 habitants ou plus 0.2003454231433506\n",
      "tout 200 000 habitants ou plus 0.2097210345066679\n",
      "reduite 200 000 habitants ou plus 0.20090293453724606\n",
      "mal Moins de 5000 habitants 0.11398963730569948\n",
      "tout Moins de 5000 habitants 0.1429033674625003\n",
      "reduite Moins de 5000 habitants 0.11286681715575621\n"
     ]
    }
   ],
   "source": [
    "total_mal=df_mal['Taille_commune_2'].count()\n",
    "total=df['Taille_commune_2'].count()\n",
    "total_reduite=df_reduite['Taille_commune_2'].count()\n",
    "for i in df['Taille_commune_2'].unique():\n",
    "    print('mal', i, df_mal[df_mal['Taille_commune_2']==i]['Taille_commune_2'].count()/total_mal)\n",
    "    print('tout', i, df[df['Taille_commune_2']==i]['Taille_commune_2'].count()/total)\n",
    "    print('reduite', i, df_reduite[df_reduite['Taille_commune_2']==i]['Taille_commune_2'].count()/total_reduite)"
   ]
  },
  {
   "cell_type": "markdown",
   "metadata": {},
   "source": [
    "les personnes en situation de handicap sont un peu moins présentes dans les villages, le reste est plutôt similaire"
   ]
  },
  {
   "cell_type": "code",
   "execution_count": 14,
   "metadata": {},
   "outputs": [
    {
     "name": "stdout",
     "output_type": "stream",
     "text": [
      "mal Femme 0.48877374784110533\n",
      "tout Femme 0.5508378597018375\n",
      "reduite Femme 0.6312217194570136\n",
      "mal Homme 0.48186528497409326\n",
      "tout Homme 0.43487807696752573\n",
      "reduite Homme 0.334841628959276\n",
      "mal Ne souhaite pas répondre 0.02936096718480138\n",
      "tout Ne souhaite pas répondre 0.014284063330636773\n",
      "reduite Ne souhaite pas répondre 0.033936651583710405\n",
      "mal nan 0.0\n",
      "tout nan 0.0\n",
      "reduite nan 0.0\n"
     ]
    }
   ],
   "source": [
    "total_mal=df_mal['Sexe_repondant'].count()\n",
    "total=df['Sexe_repondant'].count()\n",
    "total_reduite=df_reduite['Sexe_repondant'].count()\n",
    "for i in df['Sexe_repondant'].unique():\n",
    "    print('mal', i, df_mal[df_mal['Sexe_repondant']==i]['Sexe_repondant'].count()/total_mal)\n",
    "    print('tout', i, df[df['Sexe_repondant']==i]['Sexe_repondant'].count()/total)\n",
    "    print('reduite', i, df_reduite[df_reduite['Sexe_repondant']==i]['Taille_commune_2'].count()/total_reduite)"
   ]
  },
  {
   "cell_type": "markdown",
   "metadata": {},
   "source": [
    "de petites différences de sexe"
   ]
  },
  {
   "cell_type": "code",
   "execution_count": 15,
   "metadata": {},
   "outputs": [
    {
     "name": "stdout",
     "output_type": "stream",
     "text": [
      "mal De 45 à 54 ans 0.13989637305699482\n",
      "tout De 45 à 54 ans 0.16444403355906348\n",
      "reduite De 45 à 54 ans 0.1580135440180587\n",
      "mal De 65 à 74 ans 0.2538860103626943\n",
      "tout De 65 à 74 ans 0.2402754986479303\n",
      "reduite De 65 à 74 ans 0.23927765237020315\n",
      "mal De 35 à 44 ans 0.11398963730569948\n",
      "tout De 35 à 44 ans 0.18408949083597198\n",
      "reduite De 35 à 44 ans 0.12866817155756208\n",
      "mal De 26 à 34 ans 0.07772020725388601\n",
      "tout De 26 à 34 ans 0.11412855062749902\n",
      "reduite De 26 à 34 ans 0.045146726862302484\n",
      "mal 75 ans et plus 0.10189982728842832\n",
      "tout 75 ans et plus 0.043913375089560176\n",
      "reduite 75 ans et plus 0.12866817155756208\n",
      "mal De 55 à 64 ans 0.2538860103626943\n",
      "tout De 55 à 64 ans 0.21707074675849955\n",
      "reduite De 55 à 64 ans 0.2708803611738149\n",
      "mal De 18 à 25 ans 0.04835924006908463\n",
      "tout De 18 à 25 ans 0.03242656065823838\n",
      "reduite De 18 à 25 ans 0.022573363431151242\n",
      "mal Moins de 18 ans 0.010362694300518135\n",
      "tout Moins de 18 ans 0.003651743823237109\n",
      "reduite Moins de 18 ans 0.006772009029345372\n"
     ]
    }
   ],
   "source": [
    "total_mal=df_mal['Age_repondant'].count()\n",
    "total=df['Age_repondant'].count()\n",
    "total_reduite=df_reduite['Age_repondant'].count()\n",
    "for i in df['Age_repondant'].unique():\n",
    "    print('mal', i, df_mal[df_mal['Age_repondant']==i]['Age_repondant'].count()/total_mal)\n",
    "    print('tout', i, df[df['Age_repondant']==i]['Age_repondant'].count()/total)\n",
    "    print('reduite', i, df_reduite[df_reduite['Age_repondant']==i]['Taille_commune_2'].count()/total_reduite)"
   ]
  },
  {
   "cell_type": "markdown",
   "metadata": {},
   "source": [
    "un peu plus âgés, sans rien d'incroyable"
   ]
  },
  {
   "cell_type": "markdown",
   "metadata": {},
   "source": [
    "Un résultat particulier : l'importance de marcher séparé de la circulation et des autres mobilités"
   ]
  },
  {
   "cell_type": "code",
   "execution_count": 16,
   "metadata": {},
   "outputs": [
    {
     "data": {
      "image/png": "[encoded data removed]",
      "text/plain": [
       "<Figure size 432x288 with 3 Axes>"
      ]
     },
     "metadata": {
      "needs_background": "light"
     },
     "output_type": "display_data"
    }
   ],
   "source": [
    "def plot_handicap(col):\n",
    "    plt.subplot(2,2,1)\n",
    "    plt.title('population générale')\n",
    "    df[col].hist()\n",
    "    plt.subplot(2,2,2)\n",
    "    plt.title('malvoyants')\n",
    "    df_mal[col].hist()\n",
    "    plt.subplot(2,2,3)\n",
    "    plt.title('mobilité réduite')\n",
    "    df_reduite[col].hist()\n",
    "    plt.show()\n",
    "plot_handicap('Marche_separe_autres_mobilites')"
   ]
  },
  {
   "cell_type": "markdown",
   "metadata": {},
   "source": [
    "Les personnes en situation de handicap trouvent qu'il est vraiment important d'être séparé des autres mobilités comparé à la population générale..."
   ]
  },
  {
   "cell_type": "code",
   "execution_count": 17,
   "metadata": {},
   "outputs": [
    {
     "data": {
      "image/png": "[encoded data removed]",
      "text/plain": [
       "<Figure size 432x288 with 3 Axes>"
      ]
     },
     "metadata": {
      "needs_background": "light"
     },
     "output_type": "display_data"
    }
   ],
   "source": [
    "plot_handicap('Marche_separe_circulation')\n"
   ]
  },
  {
   "cell_type": "markdown",
   "metadata": {},
   "source": [
    "Mais c'est beaucoup moins le cas pour la séparation avec la circulation !"
   ]
  },
  {
   "cell_type": "code",
   "execution_count": 18,
   "metadata": {},
   "outputs": [
    {
     "data": {
      "image/png": "[encoded data removed]",
      "text/plain": [
       "<Figure size 432x288 with 3 Axes>"
      ]
     },
     "metadata": {
      "needs_background": "light"
     },
     "output_type": "display_data"
    }
   ],
   "source": [
    "plot_handicap('Commune_ecoute_pietons')"
   ]
  },
  {
   "cell_type": "code",
   "execution_count": null,
   "metadata": {},
   "outputs": [],
   "source": []
  },
  {
   "cell_type": "code",
   "execution_count": 19,
   "metadata": {},
   "outputs": [
    {
     "data": {
      "image/png": "[encoded data removed]",
      "text/plain": [
       "<Figure size 432x288 with 3 Axes>"
      ]
     },
     "metadata": {
      "needs_background": "light"
     },
     "output_type": "display_data"
    }
   ],
   "source": [
    " plot_handicap('Commune_effort_marche')"
   ]
  },
  {
   "cell_type": "code",
   "execution_count": 20,
   "metadata": {},
   "outputs": [
    {
     "data": {
      "image/png": "[encoded data removed]",
      "text/plain": [
       "<Figure size 432x288 with 3 Axes>"
      ]
     },
     "metadata": {
      "needs_background": "light"
     },
     "output_type": "display_data"
    }
   ],
   "source": [
    "plot_handicap('Indicateur_effort_ville')"
   ]
  },
  {
   "cell_type": "code",
   "execution_count": 21,
   "metadata": {},
   "outputs": [
    {
     "data": {
      "image/png": "[encoded data removed]",
      "text/plain": [
       "<Figure size 432x288 with 3 Axes>"
      ]
     },
     "metadata": {
      "needs_background": "light"
     },
     "output_type": "display_data"
    }
   ],
   "source": [
    "plot_handicap('Deplacements_enfants_personnes_agees')"
   ]
  },
  {
   "cell_type": "code",
   "execution_count": 22,
   "metadata": {},
   "outputs": [
    {
     "data": {
      "image/png": "[encoded data removed]",
      "text/plain": [
       "<Figure size 432x288 with 3 Axes>"
      ]
     },
     "metadata": {
      "needs_background": "light"
     },
     "output_type": "display_data"
    }
   ],
   "source": [
    "plot_handicap('Indicateur_ressenti_global')"
   ]
  },
  {
   "cell_type": "code",
   "execution_count": 23,
   "metadata": {},
   "outputs": [
    {
     "data": {
      "image/png": "[encoded data removed]",
      "text/plain": [
       "<Figure size 432x288 with 3 Axes>"
      ]
     },
     "metadata": {
      "needs_background": "light"
     },
     "output_type": "display_data"
    }
   ],
   "source": [
    "plot_handicap('Indicateur_confort')"
   ]
  },
  {
   "cell_type": "code",
   "execution_count": 24,
   "metadata": {},
   "outputs": [
    {
     "data": {
      "image/png": "[encoded data removed]",
      "text/plain": [
       "<Figure size 432x288 with 3 Axes>"
      ]
     },
     "metadata": {
      "needs_background": "light"
     },
     "output_type": "display_data"
    }
   ],
   "source": [
    "plot_handicap('Indicateur_global')"
   ]
  },
  {
   "cell_type": "code",
   "execution_count": 25,
   "metadata": {},
   "outputs": [
    {
     "data": {
      "image/png": "[encoded data removed]",
      "text/plain": [
       "<Figure size 432x288 with 3 Axes>"
      ]
     },
     "metadata": {
      "needs_background": "light"
     },
     "output_type": "display_data"
    }
   ],
   "source": [
    "plot_handicap('Indicateur_global_declare')"
   ]
  },
  {
   "cell_type": "markdown",
   "metadata": {},
   "source": [
    "### Séparation selon l'âge"
   ]
  },
  {
   "cell_type": "code",
   "execution_count": 20,
   "metadata": {},
   "outputs": [
    {
     "data": {
      "text/plain": [
       "array(['De 45 à 54 ans', 'De 65 à 74 ans', 'De 35 à 44 ans',\n",
       "       'De 26 à 34 ans', '75 ans et plus', 'De 55 à 64 ans',\n",
       "       'De 18 à 25 ans', 'Moins de 18 ans'], dtype=object)"
      ]
     },
     "execution_count": 20,
     "metadata": {},
     "output_type": "execute_result"
    }
   ],
   "source": [
    "df['Age_repondant'].unique()"
   ]
  },
  {
   "cell_type": "code",
   "execution_count": 21,
   "metadata": {},
   "outputs": [],
   "source": [
    "df_jeune=pd.concat([df[df['Age_repondant']=='Moins de 18 ans'],df[df['Age_repondant']=='De 18 à 25 ans']])"
   ]
  },
  {
   "cell_type": "code",
   "execution_count": 22,
   "metadata": {},
   "outputs": [],
   "source": [
    "df_moyen=pd.concat([df[df['Age_repondant']=='De 26 à 34 ans'],df[df['Age_repondant']=='De 35 à 44 ans']])\n",
    "df_age=pd.concat([df[df['Age_repondant']=='De 45 à 54 ans'],df[df['Age_repondant']=='De 65 à 74 ans'],df[df['Age_repondant']=='De 55 à 64 ans']])\n",
    "df_vieux=df[df['Age_repondant']=='75 ans et plus']"
   ]
  },
  {
   "cell_type": "code",
   "execution_count": 24,
   "metadata": {},
   "outputs": [
    {
     "data": {
      "image/png": "[encoded data removed]",
      "text/plain": [
       "<Figure size 432x288 with 4 Axes>"
      ]
     },
     "metadata": {
      "needs_background": "light"
     },
     "output_type": "display_data"
    }
   ],
   "source": [
    "def plot_age(col):\n",
    "    plt.subplot(2,2,1)\n",
    "    plt.title('jeunes')\n",
    "    df_jeune[col].hist()\n",
    "    plt.subplot(2,2,2)\n",
    "    plt.title('26-44')\n",
    "    df_moyen[col].hist()\n",
    "    plt.subplot(2,2,3)\n",
    "    plt.title('45-74')\n",
    "    df_age[col].hist()\n",
    "    plt.subplot(2,2,4)\n",
    "    plt.title('75+')\n",
    "    df_vieux[col].hist()\n",
    "    plt.show()\n",
    "plot_age('Indicateur_global')"
   ]
  },
  {
   "cell_type": "code",
   "execution_count": 25,
   "metadata": {},
   "outputs": [
    {
     "name": "stdout",
     "output_type": "stream",
     "text": [
      "Agencement_voirie\n"
     ]
    },
    {
     "data": {
      "image/png": "[encoded data removed]",
      "text/plain": [
       "<Figure size 432x288 with 4 Axes>"
      ]
     },
     "metadata": {
      "needs_background": "light"
     },
     "output_type": "display_data"
    },
    {
     "name": "stdout",
     "output_type": "stream",
     "text": [
      "conflits_pietons\n"
     ]
    },
    {
     "data": {
      "image/png": "[encoded data removed]",
      "text/plain": [
       "<Figure size 432x288 with 4 Axes>"
      ]
     },
     "metadata": {
      "needs_background": "light"
     },
     "output_type": "display_data"
    },
    {
     "name": "stdout",
     "output_type": "stream",
     "text": [
      "Conducteurs_respectent\n"
     ]
    },
    {
     "data": {
      "image/png": "[encoded data removed]",
      "text/plain": [
       "<Figure size 432x288 with 4 Axes>"
      ]
     },
     "metadata": {
      "needs_background": "light"
     },
     "output_type": "display_data"
    },
    {
     "name": "stdout",
     "output_type": "stream",
     "text": [
      "Circulation_vehicules_motorises\n"
     ]
    },
    {
     "data": {
      "image/png": "[encoded data removed]",
      "text/plain": [
       "<Figure size 432x288 with 4 Axes>"
      ]
     },
     "metadata": {
      "needs_background": "light"
     },
     "output_type": "display_data"
    },
    {
     "name": "stdout",
     "output_type": "stream",
     "text": [
      "Deplacements_pied_commune\n"
     ]
    },
    {
     "data": {
      "image/png": "[encoded data removed]",
      "text/plain": [
       "<Figure size 432x288 with 4 Axes>"
      ]
     },
     "metadata": {
      "needs_background": "light"
     },
     "output_type": "display_data"
    },
    {
     "name": "stdout",
     "output_type": "stream",
     "text": [
      "Marche_securite\n"
     ]
    },
    {
     "data": {
      "image/png": "[encoded data removed]",
      "text/plain": [
       "<Figure size 432x288 with 4 Axes>"
      ]
     },
     "metadata": {
      "needs_background": "light"
     },
     "output_type": "display_data"
    },
    {
     "name": "stdout",
     "output_type": "stream",
     "text": [
      "Securite_rues_services\n"
     ]
    },
    {
     "data": {
      "image/png": "[encoded data removed]",
      "text/plain": [
       "<Figure size 432x288 with 4 Axes>"
      ]
     },
     "metadata": {
      "needs_background": "light"
     },
     "output_type": "display_data"
    },
    {
     "name": "stdout",
     "output_type": "stream",
     "text": [
      "Securite_rues_residentielles\n"
     ]
    },
    {
     "data": {
      "image/png": "[encoded data removed]",
      "text/plain": [
       "<Figure size 432x288 with 4 Axes>"
      ]
     },
     "metadata": {
      "needs_background": "light"
     },
     "output_type": "display_data"
    },
    {
     "name": "stdout",
     "output_type": "stream",
     "text": [
      "Securite_rejoindre_communes_voisines\n"
     ]
    },
    {
     "data": {
      "image/png": "[encoded data removed]",
      "text/plain": [
       "<Figure size 432x288 with 4 Axes>"
      ]
     },
     "metadata": {
      "needs_background": "light"
     },
     "output_type": "display_data"
    },
    {
     "name": "stdout",
     "output_type": "stream",
     "text": [
      "Acces_pietons\n"
     ]
    },
    {
     "data": {
      "image/png": "[encoded data removed]",
      "text/plain": [
       "<Figure size 432x288 with 4 Axes>"
      ]
     },
     "metadata": {
      "needs_background": "light"
     },
     "output_type": "display_data"
    },
    {
     "name": "stdout",
     "output_type": "stream",
     "text": [
      "Marche_separe_circulation\n"
     ]
    },
    {
     "data": {
      "image/png": "[encoded data removed]",
      "text/plain": [
       "<Figure size 432x288 with 4 Axes>"
      ]
     },
     "metadata": {
      "needs_background": "light"
     },
     "output_type": "display_data"
    },
    {
     "name": "stdout",
     "output_type": "stream",
     "text": [
      "Marche_separe_autres_mobilites\n"
     ]
    },
    {
     "data": {
      "image/png": "[encoded data removed]",
      "text/plain": [
       "<Figure size 432x288 with 4 Axes>"
      ]
     },
     "metadata": {
      "needs_background": "light"
     },
     "output_type": "display_data"
    },
    {
     "name": "stdout",
     "output_type": "stream",
     "text": [
      "Traverse_carrefour\n"
     ]
    },
    {
     "data": {
      "image/png": "[encoded data removed]",
      "text/plain": [
       "<Figure size 432x288 with 4 Axes>"
      ]
     },
     "metadata": {
      "needs_background": "light"
     },
     "output_type": "display_data"
    },
    {
     "name": "stdout",
     "output_type": "stream",
     "text": [
      "Deplacements_enfants_personnes_agees\n"
     ]
    },
    {
     "data": {
      "image/png": "[encoded data removed]",
      "text/plain": [
       "<Figure size 432x288 with 4 Axes>"
      ]
     },
     "metadata": {
      "needs_background": "light"
     },
     "output_type": "display_data"
    },
    {
     "name": "stdout",
     "output_type": "stream",
     "text": [
      "Deplacements_enfants_ecole\n"
     ]
    },
    {
     "data": {
      "image/png": "[encoded data removed]",
      "text/plain": [
       "<Figure size 432x288 with 4 Axes>"
      ]
     },
     "metadata": {
      "needs_background": "light"
     },
     "output_type": "display_data"
    },
    {
     "name": "stdout",
     "output_type": "stream",
     "text": [
      "Pistes_cyclables\n"
     ]
    },
    {
     "data": {
      "image/png": "[encoded data removed]",
      "text/plain": [
       "<Figure size 432x288 with 4 Axes>"
      ]
     },
     "metadata": {
      "needs_background": "light"
     },
     "output_type": "display_data"
    },
    {
     "name": "stdout",
     "output_type": "stream",
     "text": [
      "Espaces_pietons\n"
     ]
    },
    {
     "data": {
      "image/png": "[encoded data removed]",
      "text/plain": [
       "<Figure size 432x288 with 4 Axes>"
      ]
     },
     "metadata": {
      "needs_background": "light"
     },
     "output_type": "display_data"
    },
    {
     "name": "stdout",
     "output_type": "stream",
     "text": [
      "Espaces_pietons_libres_empietements\n"
     ]
    },
    {
     "data": {
      "image/png": "[encoded data removed]",
      "text/plain": [
       "<Figure size 432x288 with 4 Axes>"
      ]
     },
     "metadata": {
      "needs_background": "light"
     },
     "output_type": "display_data"
    },
    {
     "name": "stdout",
     "output_type": "stream",
     "text": [
      "Espaces_pietons_entretenus\n"
     ]
    },
    {
     "data": {
      "image/png": "[encoded data removed]",
      "text/plain": [
       "<Figure size 432x288 with 4 Axes>"
      ]
     },
     "metadata": {
      "needs_background": "light"
     },
     "output_type": "display_data"
    },
    {
     "name": "stdout",
     "output_type": "stream",
     "text": [
      "Espaces_pietons_travaux\n"
     ]
    },
    {
     "data": {
      "image/png": "[encoded data removed]",
      "text/plain": [
       "<Figure size 432x288 with 4 Axes>"
      ]
     },
     "metadata": {
      "needs_background": "light"
     },
     "output_type": "display_data"
    },
    {
     "name": "stdout",
     "output_type": "stream",
     "text": [
      "Signaletique_specifique\n"
     ]
    },
    {
     "data": {
      "image/png": "[encoded data removed]",
      "text/plain": [
       "<Figure size 432x288 with 4 Axes>"
      ]
     },
     "metadata": {
      "needs_background": "light"
     },
     "output_type": "display_data"
    },
    {
     "name": "stdout",
     "output_type": "stream",
     "text": [
      "Amenagements_confort_marcheurs\n"
     ]
    },
    {
     "data": {
      "image/png": "[encoded data removed]",
      "text/plain": [
       "<Figure size 432x288 with 4 Axes>"
      ]
     },
     "metadata": {
      "needs_background": "light"
     },
     "output_type": "display_data"
    },
    {
     "name": "stdout",
     "output_type": "stream",
     "text": [
      "Trottoirs_eclaires\n"
     ]
    },
    {
     "data": {
      "image/png": "[encoded data removed]",
      "text/plain": [
       "<Figure size 432x288 with 4 Axes>"
      ]
     },
     "metadata": {
      "needs_background": "light"
     },
     "output_type": "display_data"
    },
    {
     "name": "stdout",
     "output_type": "stream",
     "text": [
      "Commune_ecoute_pietons\n"
     ]
    },
    {
     "data": {
      "image/png": "[encoded data removed]",
      "text/plain": [
       "<Figure size 432x288 with 4 Axes>"
      ]
     },
     "metadata": {
      "needs_background": "light"
     },
     "output_type": "display_data"
    },
    {
     "name": "stdout",
     "output_type": "stream",
     "text": [
      "Commune_effort_marche\n"
     ]
    },
    {
     "data": {
      "image/png": "[encoded data removed]",
      "text/plain": [
       "<Figure size 432x288 with 4 Axes>"
      ]
     },
     "metadata": {
      "needs_background": "light"
     },
     "output_type": "display_data"
    },
    {
     "name": "stdout",
     "output_type": "stream",
     "text": [
      "Situation_pietons\n"
     ]
    },
    {
     "data": {
      "image/png": "[encoded data removed]",
      "text/plain": [
       "<Figure size 432x288 with 4 Axes>"
      ]
     },
     "metadata": {
      "needs_background": "light"
     },
     "output_type": "display_data"
    },
    {
     "name": "stdout",
     "output_type": "stream",
     "text": [
      "Promotion_deplacement\n"
     ]
    },
    {
     "data": {
      "image/png": "[encoded data removed]",
      "text/plain": [
       "<Figure size 432x288 with 4 Axes>"
      ]
     },
     "metadata": {
      "needs_background": "light"
     },
     "output_type": "display_data"
    },
    {
     "name": "stdout",
     "output_type": "stream",
     "text": [
      "Stationnement_espaces_pietons\n"
     ]
    },
    {
     "data": {
      "image/png": "[encoded data removed]",
      "text/plain": [
       "<Figure size 432x288 with 4 Axes>"
      ]
     },
     "metadata": {
      "needs_background": "light"
     },
     "output_type": "display_data"
    },
    {
     "name": "stdout",
     "output_type": "stream",
     "text": [
      "Acces_transport_commun\n"
     ]
    },
    {
     "data": {
      "image/png": "[encoded data removed]",
      "text/plain": [
       "<Figure size 432x288 with 4 Axes>"
      ]
     },
     "metadata": {
      "needs_background": "light"
     },
     "output_type": "display_data"
    },
    {
     "name": "stdout",
     "output_type": "stream",
     "text": [
      "Signaletique\n"
     ]
    },
    {
     "data": {
      "image/png": "[encoded data removed]",
      "text/plain": [
       "<Figure size 432x288 with 4 Axes>"
      ]
     },
     "metadata": {
      "needs_background": "light"
     },
     "output_type": "display_data"
    },
    {
     "name": "stdout",
     "output_type": "stream",
     "text": [
      "Information\n"
     ]
    },
    {
     "data": {
      "image/png": "[encoded data removed]",
      "text/plain": [
       "<Figure size 432x288 with 4 Axes>"
      ]
     },
     "metadata": {
      "needs_background": "light"
     },
     "output_type": "display_data"
    }
   ],
   "source": [
    "for i in var_note:\n",
    "    print(i)\n",
    "    plot_age(i)"
   ]
  },
  {
   "cell_type": "code",
   "execution_count": 27,
   "metadata": {},
   "outputs": [
    {
     "data": {
      "text/plain": [
       "Commune                             45\n",
       "Code_INSEE                          45\n",
       "Commune_cp                          45\n",
       "Dep                                 45\n",
       "Cp                                  45\n",
       "                                    ..\n",
       "Indicateur_effort_ville             45\n",
       "Indicateur_amenagements_services    45\n",
       "Indicateur_global                   45\n",
       "Indicateur_global_declare           45\n",
       "Ville                               45\n",
       "Length: 82, dtype: int64"
      ]
     },
     "execution_count": 27,
     "metadata": {},
     "output_type": "execute_result"
    }
   ],
   "source": [
    "df[df['Indicateur_global']==6].count()"
   ]
  },
  {
   "cell_type": "code",
   "execution_count": 30,
   "metadata": {},
   "outputs": [
    {
     "data": {
      "text/html": [
       "<div>\n",
       "<style scoped>\n",
       "    .dataframe tbody tr th:only-of-type {\n",
       "        vertical-align: middle;\n",
       "    }\n",
       "\n",
       "    .dataframe tbody tr th {\n",
       "        vertical-align: top;\n",
       "    }\n",
       "\n",
       "    .dataframe thead th {\n",
       "        text-align: right;\n",
       "    }\n",
       "</style>\n",
       "<table border=\"1\" class=\"dataframe\">\n",
       "  <thead>\n",
       "    <tr style=\"text-align: right;\">\n",
       "      <th></th>\n",
       "      <th>Commune</th>\n",
       "      <th>Code_INSEE</th>\n",
       "      <th>Commune_cp</th>\n",
       "      <th>Dep</th>\n",
       "      <th>Cp</th>\n",
       "      <th>Nom_dep</th>\n",
       "      <th>Nom_region</th>\n",
       "      <th>Malvoyant</th>\n",
       "      <th>Taille_commune_2</th>\n",
       "      <th>Pratique de la marche</th>\n",
       "      <th>...</th>\n",
       "      <th>Nom_dep_residence_OK</th>\n",
       "      <th>Nom_region_residence_OK</th>\n",
       "      <th>Indicateur_ressenti_global</th>\n",
       "      <th>Indicateur_securite</th>\n",
       "      <th>Indicateur_confort</th>\n",
       "      <th>Indicateur_effort_ville</th>\n",
       "      <th>Indicateur_amenagements_services</th>\n",
       "      <th>Indicateur_global</th>\n",
       "      <th>Indicateur_global_declare</th>\n",
       "      <th>Ville</th>\n",
       "    </tr>\n",
       "  </thead>\n",
       "  <tbody>\n",
       "    <tr>\n",
       "      <th>548</th>\n",
       "      <td>Alfortville (94140)</td>\n",
       "      <td>94002</td>\n",
       "      <td>Alfortville</td>\n",
       "      <td>94</td>\n",
       "      <td>94140</td>\n",
       "      <td>Val-de-Marne</td>\n",
       "      <td>Île-de-France</td>\n",
       "      <td>Non</td>\n",
       "      <td>De 20 000 et 49 999 habitants</td>\n",
       "      <td>Tous les jours ou presque/1 à 3 fois par semaine</td>\n",
       "      <td>...</td>\n",
       "      <td>Val-de-Marne</td>\n",
       "      <td>Île-de-France</td>\n",
       "      <td>1.0</td>\n",
       "      <td>1.0</td>\n",
       "      <td>1.0</td>\n",
       "      <td>1.0</td>\n",
       "      <td>1.0</td>\n",
       "      <td>1.0</td>\n",
       "      <td>1.0</td>\n",
       "      <td>Alfortville 94</td>\n",
       "    </tr>\n",
       "    <tr>\n",
       "      <th>997</th>\n",
       "      <td>Angers (49000)</td>\n",
       "      <td>49007</td>\n",
       "      <td>Angers</td>\n",
       "      <td>49</td>\n",
       "      <td>49000</td>\n",
       "      <td>Maine-et-Loire</td>\n",
       "      <td>Pays de la Loire</td>\n",
       "      <td>Non</td>\n",
       "      <td>De 100 000 et 199 999 habitants</td>\n",
       "      <td>Tous les jours ou presque/Tous les jours ou pr...</td>\n",
       "      <td>...</td>\n",
       "      <td>Maine-et-Loire</td>\n",
       "      <td>Pays de la Loire</td>\n",
       "      <td>1.0</td>\n",
       "      <td>1.0</td>\n",
       "      <td>1.0</td>\n",
       "      <td>1.0</td>\n",
       "      <td>1.0</td>\n",
       "      <td>1.0</td>\n",
       "      <td>1.0</td>\n",
       "      <td>Angers 49</td>\n",
       "    </tr>\n",
       "    <tr>\n",
       "      <th>1055</th>\n",
       "      <td>Angers (49100)</td>\n",
       "      <td>49007</td>\n",
       "      <td>Angers</td>\n",
       "      <td>49</td>\n",
       "      <td>49100</td>\n",
       "      <td>Maine-et-Loire</td>\n",
       "      <td>Pays de la Loire</td>\n",
       "      <td>Non</td>\n",
       "      <td>De 100 000 et 199 999 habitants</td>\n",
       "      <td>Tous les jours ou presque/Tous les jours ou pr...</td>\n",
       "      <td>...</td>\n",
       "      <td>Maine-et-Loire</td>\n",
       "      <td>Pays de la Loire</td>\n",
       "      <td>1.0</td>\n",
       "      <td>1.0</td>\n",
       "      <td>1.0</td>\n",
       "      <td>1.0</td>\n",
       "      <td>1.0</td>\n",
       "      <td>1.0</td>\n",
       "      <td>1.0</td>\n",
       "      <td>Angers 49</td>\n",
       "    </tr>\n",
       "    <tr>\n",
       "      <th>1102</th>\n",
       "      <td>Angers (49000)</td>\n",
       "      <td>49007</td>\n",
       "      <td>Angers</td>\n",
       "      <td>49</td>\n",
       "      <td>49000</td>\n",
       "      <td>Maine-et-Loire</td>\n",
       "      <td>Pays de la Loire</td>\n",
       "      <td>Non</td>\n",
       "      <td>De 100 000 et 199 999 habitants</td>\n",
       "      <td>Tous les jours ou presque/Tous les jours ou pr...</td>\n",
       "      <td>...</td>\n",
       "      <td>Maine-et-Loire</td>\n",
       "      <td>Pays de la Loire</td>\n",
       "      <td>1.0</td>\n",
       "      <td>1.0</td>\n",
       "      <td>1.0</td>\n",
       "      <td>1.0</td>\n",
       "      <td>1.0</td>\n",
       "      <td>1.0</td>\n",
       "      <td>1.0</td>\n",
       "      <td>Angers 49</td>\n",
       "    </tr>\n",
       "    <tr>\n",
       "      <th>2176</th>\n",
       "      <td>Avon (77210)</td>\n",
       "      <td>77014</td>\n",
       "      <td>Avon</td>\n",
       "      <td>77</td>\n",
       "      <td>77210</td>\n",
       "      <td>Seine-et-Marne</td>\n",
       "      <td>Île-de-France</td>\n",
       "      <td>Non</td>\n",
       "      <td>De 5000 et 19 999 habitants</td>\n",
       "      <td>Tous les jours ou presque/Tous les jours ou pr...</td>\n",
       "      <td>...</td>\n",
       "      <td>Seine-et-Marne</td>\n",
       "      <td>Île-de-France</td>\n",
       "      <td>1.0</td>\n",
       "      <td>1.0</td>\n",
       "      <td>1.0</td>\n",
       "      <td>1.0</td>\n",
       "      <td>1.0</td>\n",
       "      <td>1.0</td>\n",
       "      <td>1.0</td>\n",
       "      <td>Avon 77</td>\n",
       "    </tr>\n",
       "    <tr>\n",
       "      <th>2177</th>\n",
       "      <td>Avon (77210)</td>\n",
       "      <td>77014</td>\n",
       "      <td>Avon</td>\n",
       "      <td>77</td>\n",
       "      <td>77210</td>\n",
       "      <td>Seine-et-Marne</td>\n",
       "      <td>Île-de-France</td>\n",
       "      <td>Non</td>\n",
       "      <td>De 5000 et 19 999 habitants</td>\n",
       "      <td>1 à 3 fois par semaine/Presque jamais</td>\n",
       "      <td>...</td>\n",
       "      <td>Seine-et-Marne</td>\n",
       "      <td>Île-de-France</td>\n",
       "      <td>1.0</td>\n",
       "      <td>1.0</td>\n",
       "      <td>1.0</td>\n",
       "      <td>1.0</td>\n",
       "      <td>1.0</td>\n",
       "      <td>1.0</td>\n",
       "      <td>1.0</td>\n",
       "      <td>Avon 77</td>\n",
       "    </tr>\n",
       "    <tr>\n",
       "      <th>2179</th>\n",
       "      <td>Avon (77210)</td>\n",
       "      <td>77014</td>\n",
       "      <td>Avon</td>\n",
       "      <td>77</td>\n",
       "      <td>77210</td>\n",
       "      <td>Seine-et-Marne</td>\n",
       "      <td>Île-de-France</td>\n",
       "      <td>Non</td>\n",
       "      <td>De 5000 et 19 999 habitants</td>\n",
       "      <td>1 à 3 fois par semaine/Presque jamais</td>\n",
       "      <td>...</td>\n",
       "      <td>Seine-et-Marne</td>\n",
       "      <td>Île-de-France</td>\n",
       "      <td>1.0</td>\n",
       "      <td>1.0</td>\n",
       "      <td>1.0</td>\n",
       "      <td>1.0</td>\n",
       "      <td>1.0</td>\n",
       "      <td>1.0</td>\n",
       "      <td>1.0</td>\n",
       "      <td>Avon 77</td>\n",
       "    </tr>\n",
       "    <tr>\n",
       "      <th>2196</th>\n",
       "      <td>Avon (77210)</td>\n",
       "      <td>77014</td>\n",
       "      <td>Avon</td>\n",
       "      <td>77</td>\n",
       "      <td>77210</td>\n",
       "      <td>Seine-et-Marne</td>\n",
       "      <td>Île-de-France</td>\n",
       "      <td>Non</td>\n",
       "      <td>De 5000 et 19 999 habitants</td>\n",
       "      <td>Tous les jours ou presque/1 à 3 fois par semaine</td>\n",
       "      <td>...</td>\n",
       "      <td>Seine-et-Marne</td>\n",
       "      <td>Île-de-France</td>\n",
       "      <td>1.0</td>\n",
       "      <td>1.0</td>\n",
       "      <td>1.0</td>\n",
       "      <td>1.0</td>\n",
       "      <td>1.0</td>\n",
       "      <td>1.0</td>\n",
       "      <td>1.0</td>\n",
       "      <td>Avon 77</td>\n",
       "    </tr>\n",
       "    <tr>\n",
       "      <th>2201</th>\n",
       "      <td>Avon (77210)</td>\n",
       "      <td>77014</td>\n",
       "      <td>Avon</td>\n",
       "      <td>77</td>\n",
       "      <td>77210</td>\n",
       "      <td>Seine-et-Marne</td>\n",
       "      <td>Île-de-France</td>\n",
       "      <td>Non</td>\n",
       "      <td>De 5000 et 19 999 habitants</td>\n",
       "      <td>Tous les jours ou presque/Tous les jours ou pr...</td>\n",
       "      <td>...</td>\n",
       "      <td>Seine-et-Marne</td>\n",
       "      <td>Île-de-France</td>\n",
       "      <td>1.0</td>\n",
       "      <td>1.0</td>\n",
       "      <td>1.0</td>\n",
       "      <td>1.0</td>\n",
       "      <td>1.0</td>\n",
       "      <td>1.0</td>\n",
       "      <td>1.0</td>\n",
       "      <td>Avon 77</td>\n",
       "    </tr>\n",
       "    <tr>\n",
       "      <th>2202</th>\n",
       "      <td>Avon (77210)</td>\n",
       "      <td>77014</td>\n",
       "      <td>Avon</td>\n",
       "      <td>77</td>\n",
       "      <td>77210</td>\n",
       "      <td>Seine-et-Marne</td>\n",
       "      <td>Île-de-France</td>\n",
       "      <td>Non</td>\n",
       "      <td>De 5000 et 19 999 habitants</td>\n",
       "      <td>Tous les jours ou presque/Tous les jours ou pr...</td>\n",
       "      <td>...</td>\n",
       "      <td>Seine-et-Marne</td>\n",
       "      <td>Île-de-France</td>\n",
       "      <td>1.0</td>\n",
       "      <td>1.0</td>\n",
       "      <td>1.0</td>\n",
       "      <td>1.0</td>\n",
       "      <td>1.0</td>\n",
       "      <td>1.0</td>\n",
       "      <td>1.0</td>\n",
       "      <td>Avon 77</td>\n",
       "    </tr>\n",
       "    <tr>\n",
       "      <th>2204</th>\n",
       "      <td>Avon (77210)</td>\n",
       "      <td>77014</td>\n",
       "      <td>Avon</td>\n",
       "      <td>77</td>\n",
       "      <td>77210</td>\n",
       "      <td>Seine-et-Marne</td>\n",
       "      <td>Île-de-France</td>\n",
       "      <td>Non</td>\n",
       "      <td>De 5000 et 19 999 habitants</td>\n",
       "      <td>Tous les jours ou presque/Tous les jours ou pr...</td>\n",
       "      <td>...</td>\n",
       "      <td>Seine-et-Marne</td>\n",
       "      <td>Île-de-France</td>\n",
       "      <td>1.0</td>\n",
       "      <td>1.0</td>\n",
       "      <td>1.0</td>\n",
       "      <td>1.0</td>\n",
       "      <td>1.0</td>\n",
       "      <td>1.0</td>\n",
       "      <td>1.0</td>\n",
       "      <td>Avon 77</td>\n",
       "    </tr>\n",
       "    <tr>\n",
       "      <th>2491</th>\n",
       "      <td>Bègles (33130)</td>\n",
       "      <td>33039</td>\n",
       "      <td>Bègles</td>\n",
       "      <td>33</td>\n",
       "      <td>33130</td>\n",
       "      <td>Gironde</td>\n",
       "      <td>Nouvelle-Aquitaine</td>\n",
       "      <td>Non</td>\n",
       "      <td>De 20 000 et 49 999 habitants</td>\n",
       "      <td>1 à 3 fois par semaine/1 à 3 fois par mois</td>\n",
       "      <td>...</td>\n",
       "      <td>Gironde</td>\n",
       "      <td>Nouvelle-Aquitaine</td>\n",
       "      <td>1.0</td>\n",
       "      <td>1.0</td>\n",
       "      <td>1.0</td>\n",
       "      <td>1.0</td>\n",
       "      <td>1.0</td>\n",
       "      <td>1.0</td>\n",
       "      <td>1.0</td>\n",
       "      <td>Bègles 33</td>\n",
       "    </tr>\n",
       "    <tr>\n",
       "      <th>6963</th>\n",
       "      <td>Dijon (21000)</td>\n",
       "      <td>21231</td>\n",
       "      <td>Dijon</td>\n",
       "      <td>21</td>\n",
       "      <td>21000</td>\n",
       "      <td>Côte-d'Or</td>\n",
       "      <td>Bourgogne-Franche-Comté</td>\n",
       "      <td>Non</td>\n",
       "      <td>De 100 000 et 199 999 habitants</td>\n",
       "      <td>Tous les jours ou presque/1 à 3 fois par semaine</td>\n",
       "      <td>...</td>\n",
       "      <td>Côte-d'Or</td>\n",
       "      <td>Bourgogne-Franche-Comté</td>\n",
       "      <td>1.0</td>\n",
       "      <td>1.0</td>\n",
       "      <td>1.0</td>\n",
       "      <td>1.0</td>\n",
       "      <td>1.0</td>\n",
       "      <td>1.0</td>\n",
       "      <td>1.0</td>\n",
       "      <td>Dijon 21</td>\n",
       "    </tr>\n",
       "    <tr>\n",
       "      <th>7650</th>\n",
       "      <td>Fuveau (13710)</td>\n",
       "      <td>13040</td>\n",
       "      <td>Fuveau</td>\n",
       "      <td>13</td>\n",
       "      <td>13710</td>\n",
       "      <td>Bouches-du-Rhône</td>\n",
       "      <td>Provence-Alpes-Côte d'Azur</td>\n",
       "      <td>Non</td>\n",
       "      <td>De 5000 et 19 999 habitants</td>\n",
       "      <td>Tous les jours ou presque/Tous les jours ou pr...</td>\n",
       "      <td>...</td>\n",
       "      <td>Bouches-du-Rhône</td>\n",
       "      <td>Provence-Alpes-Côte d'Azur</td>\n",
       "      <td>1.0</td>\n",
       "      <td>1.0</td>\n",
       "      <td>1.0</td>\n",
       "      <td>1.0</td>\n",
       "      <td>1.0</td>\n",
       "      <td>1.0</td>\n",
       "      <td>1.0</td>\n",
       "      <td>Fuveau 13</td>\n",
       "    </tr>\n",
       "    <tr>\n",
       "      <th>7697</th>\n",
       "      <td>Gardanne (13120)</td>\n",
       "      <td>13041</td>\n",
       "      <td>Gardanne</td>\n",
       "      <td>13</td>\n",
       "      <td>13120</td>\n",
       "      <td>Bouches-du-Rhône</td>\n",
       "      <td>Provence-Alpes-Côte d'Azur</td>\n",
       "      <td>Non</td>\n",
       "      <td>De 20 000 et 49 999 habitants</td>\n",
       "      <td>Tous les jours ou presque/Tous les jours ou pr...</td>\n",
       "      <td>...</td>\n",
       "      <td>Bouches-du-Rhône</td>\n",
       "      <td>Provence-Alpes-Côte d'Azur</td>\n",
       "      <td>1.0</td>\n",
       "      <td>1.0</td>\n",
       "      <td>1.0</td>\n",
       "      <td>1.0</td>\n",
       "      <td>1.0</td>\n",
       "      <td>1.0</td>\n",
       "      <td>1.0</td>\n",
       "      <td>Gardanne 13</td>\n",
       "    </tr>\n",
       "    <tr>\n",
       "      <th>11781</th>\n",
       "      <td>Marseille (13000)</td>\n",
       "      <td>13055</td>\n",
       "      <td>Marseille</td>\n",
       "      <td>13</td>\n",
       "      <td>13000</td>\n",
       "      <td>Bouches-du-Rhône</td>\n",
       "      <td>Provence-Alpes-Côte d'Azur</td>\n",
       "      <td>Non</td>\n",
       "      <td>200 000 habitants ou plus</td>\n",
       "      <td>Tous les jours ou presque/1 à 3 fois par semaine</td>\n",
       "      <td>...</td>\n",
       "      <td>Bouches-du-Rhône</td>\n",
       "      <td>Provence-Alpes-Côte d'Azur</td>\n",
       "      <td>1.0</td>\n",
       "      <td>1.0</td>\n",
       "      <td>1.0</td>\n",
       "      <td>1.0</td>\n",
       "      <td>1.0</td>\n",
       "      <td>1.0</td>\n",
       "      <td>1.0</td>\n",
       "      <td>Marseille 13</td>\n",
       "    </tr>\n",
       "    <tr>\n",
       "      <th>12724</th>\n",
       "      <td>Marseille (13000)</td>\n",
       "      <td>13055</td>\n",
       "      <td>Marseille</td>\n",
       "      <td>13</td>\n",
       "      <td>13000</td>\n",
       "      <td>Bouches-du-Rhône</td>\n",
       "      <td>Provence-Alpes-Côte d'Azur</td>\n",
       "      <td>Non</td>\n",
       "      <td>200 000 habitants ou plus</td>\n",
       "      <td>Tous les jours ou presque/Presque jamais</td>\n",
       "      <td>...</td>\n",
       "      <td>Bouches-du-Rhône</td>\n",
       "      <td>Provence-Alpes-Côte d'Azur</td>\n",
       "      <td>1.0</td>\n",
       "      <td>1.0</td>\n",
       "      <td>1.0</td>\n",
       "      <td>1.0</td>\n",
       "      <td>1.0</td>\n",
       "      <td>1.0</td>\n",
       "      <td>1.0</td>\n",
       "      <td>Marseille 13</td>\n",
       "    </tr>\n",
       "    <tr>\n",
       "      <th>12948</th>\n",
       "      <td>Marseille (13000)</td>\n",
       "      <td>13055</td>\n",
       "      <td>Marseille</td>\n",
       "      <td>13</td>\n",
       "      <td>13000</td>\n",
       "      <td>Bouches-du-Rhône</td>\n",
       "      <td>Provence-Alpes-Côte d'Azur</td>\n",
       "      <td>Non</td>\n",
       "      <td>200 000 habitants ou plus</td>\n",
       "      <td>Tous les jours ou presque/Tous les jours ou pr...</td>\n",
       "      <td>...</td>\n",
       "      <td>Bouches-du-Rhône</td>\n",
       "      <td>Provence-Alpes-Côte d'Azur</td>\n",
       "      <td>1.0</td>\n",
       "      <td>1.0</td>\n",
       "      <td>1.0</td>\n",
       "      <td>1.0</td>\n",
       "      <td>1.0</td>\n",
       "      <td>1.0</td>\n",
       "      <td>1.0</td>\n",
       "      <td>Marseille 13</td>\n",
       "    </tr>\n",
       "    <tr>\n",
       "      <th>13276</th>\n",
       "      <td>Mérignac (33700)</td>\n",
       "      <td>33281</td>\n",
       "      <td>Mérignac</td>\n",
       "      <td>33</td>\n",
       "      <td>33700</td>\n",
       "      <td>Gironde</td>\n",
       "      <td>Nouvelle-Aquitaine</td>\n",
       "      <td>Non</td>\n",
       "      <td>De 50 000 et 99 999 habitants</td>\n",
       "      <td>1 à 3 fois par semaine/Presque jamais</td>\n",
       "      <td>...</td>\n",
       "      <td>Gironde</td>\n",
       "      <td>Nouvelle-Aquitaine</td>\n",
       "      <td>1.0</td>\n",
       "      <td>1.0</td>\n",
       "      <td>1.0</td>\n",
       "      <td>1.0</td>\n",
       "      <td>1.0</td>\n",
       "      <td>1.0</td>\n",
       "      <td>1.0</td>\n",
       "      <td>Mérignac 33</td>\n",
       "    </tr>\n",
       "    <tr>\n",
       "      <th>14273</th>\n",
       "      <td>Montreuil (93100)</td>\n",
       "      <td>93048</td>\n",
       "      <td>Montreuil</td>\n",
       "      <td>93</td>\n",
       "      <td>93100</td>\n",
       "      <td>Seine-Saint-Denis</td>\n",
       "      <td>Île-de-France</td>\n",
       "      <td>Non</td>\n",
       "      <td>De 100 000 et 199 999 habitants</td>\n",
       "      <td>Tous les jours ou presque/Presque jamais</td>\n",
       "      <td>...</td>\n",
       "      <td>Seine-Saint-Denis</td>\n",
       "      <td>Île-de-France</td>\n",
       "      <td>1.0</td>\n",
       "      <td>1.0</td>\n",
       "      <td>1.0</td>\n",
       "      <td>1.0</td>\n",
       "      <td>1.0</td>\n",
       "      <td>1.0</td>\n",
       "      <td>1.0</td>\n",
       "      <td>Montreuil 93</td>\n",
       "    </tr>\n",
       "    <tr>\n",
       "      <th>14303</th>\n",
       "      <td>Montreuil (93100)</td>\n",
       "      <td>93048</td>\n",
       "      <td>Montreuil</td>\n",
       "      <td>93</td>\n",
       "      <td>93100</td>\n",
       "      <td>Seine-Saint-Denis</td>\n",
       "      <td>Île-de-France</td>\n",
       "      <td>Non</td>\n",
       "      <td>De 100 000 et 199 999 habitants</td>\n",
       "      <td>Tous les jours ou presque/Tous les jours ou pr...</td>\n",
       "      <td>...</td>\n",
       "      <td>Seine-Saint-Denis</td>\n",
       "      <td>Île-de-France</td>\n",
       "      <td>1.0</td>\n",
       "      <td>1.0</td>\n",
       "      <td>1.0</td>\n",
       "      <td>1.0</td>\n",
       "      <td>1.0</td>\n",
       "      <td>1.0</td>\n",
       "      <td>1.0</td>\n",
       "      <td>Montreuil 93</td>\n",
       "    </tr>\n",
       "    <tr>\n",
       "      <th>14430</th>\n",
       "      <td>Montreuil (93100)</td>\n",
       "      <td>93048</td>\n",
       "      <td>Montreuil</td>\n",
       "      <td>93</td>\n",
       "      <td>93100</td>\n",
       "      <td>Seine-Saint-Denis</td>\n",
       "      <td>Île-de-France</td>\n",
       "      <td>Non</td>\n",
       "      <td>De 100 000 et 199 999 habitants</td>\n",
       "      <td>Tous les jours ou presque/Tous les jours ou pr...</td>\n",
       "      <td>...</td>\n",
       "      <td>Seine-Saint-Denis</td>\n",
       "      <td>Île-de-France</td>\n",
       "      <td>1.0</td>\n",
       "      <td>1.0</td>\n",
       "      <td>1.0</td>\n",
       "      <td>1.0</td>\n",
       "      <td>1.0</td>\n",
       "      <td>1.0</td>\n",
       "      <td>1.0</td>\n",
       "      <td>Montreuil 93</td>\n",
       "    </tr>\n",
       "    <tr>\n",
       "      <th>15810</th>\n",
       "      <td>Noisy-le-Sec (93130)</td>\n",
       "      <td>93053</td>\n",
       "      <td>Noisy-le-Sec</td>\n",
       "      <td>93</td>\n",
       "      <td>93130</td>\n",
       "      <td>Seine-Saint-Denis</td>\n",
       "      <td>Île-de-France</td>\n",
       "      <td>Non</td>\n",
       "      <td>De 20 000 et 49 999 habitants</td>\n",
       "      <td>Tous les jours ou presque/Tous les jours ou pr...</td>\n",
       "      <td>...</td>\n",
       "      <td>Seine-Saint-Denis</td>\n",
       "      <td>Île-de-France</td>\n",
       "      <td>1.0</td>\n",
       "      <td>1.0</td>\n",
       "      <td>1.0</td>\n",
       "      <td>1.0</td>\n",
       "      <td>1.0</td>\n",
       "      <td>1.0</td>\n",
       "      <td>1.0</td>\n",
       "      <td>Noisy-le-Sec 93</td>\n",
       "    </tr>\n",
       "    <tr>\n",
       "      <th>16335</th>\n",
       "      <td>Paris (75000)</td>\n",
       "      <td>75056</td>\n",
       "      <td>Paris</td>\n",
       "      <td>75</td>\n",
       "      <td>75000</td>\n",
       "      <td>Paris</td>\n",
       "      <td>Île-de-France</td>\n",
       "      <td>Non</td>\n",
       "      <td>200 000 habitants ou plus</td>\n",
       "      <td>Tous les jours ou presque/Tous les jours ou pr...</td>\n",
       "      <td>...</td>\n",
       "      <td>Paris</td>\n",
       "      <td>Île-de-France</td>\n",
       "      <td>1.0</td>\n",
       "      <td>1.0</td>\n",
       "      <td>1.0</td>\n",
       "      <td>1.0</td>\n",
       "      <td>1.0</td>\n",
       "      <td>1.0</td>\n",
       "      <td>1.0</td>\n",
       "      <td>Paris 75</td>\n",
       "    </tr>\n",
       "    <tr>\n",
       "      <th>16438</th>\n",
       "      <td>Paris (75000)</td>\n",
       "      <td>75056</td>\n",
       "      <td>Paris</td>\n",
       "      <td>75</td>\n",
       "      <td>75000</td>\n",
       "      <td>Paris</td>\n",
       "      <td>Île-de-France</td>\n",
       "      <td>Non</td>\n",
       "      <td>200 000 habitants ou plus</td>\n",
       "      <td>Tous les jours ou presque/Tous les jours ou pr...</td>\n",
       "      <td>...</td>\n",
       "      <td>Paris</td>\n",
       "      <td>Île-de-France</td>\n",
       "      <td>1.0</td>\n",
       "      <td>1.0</td>\n",
       "      <td>1.0</td>\n",
       "      <td>1.0</td>\n",
       "      <td>1.0</td>\n",
       "      <td>1.0</td>\n",
       "      <td>1.0</td>\n",
       "      <td>Paris 75</td>\n",
       "    </tr>\n",
       "    <tr>\n",
       "      <th>19901</th>\n",
       "      <td>Reims (51100)</td>\n",
       "      <td>51454</td>\n",
       "      <td>Reims</td>\n",
       "      <td>51</td>\n",
       "      <td>51100</td>\n",
       "      <td>Marne</td>\n",
       "      <td>Grand Est</td>\n",
       "      <td>Non</td>\n",
       "      <td>De 100 000 et 199 999 habitants</td>\n",
       "      <td>Tous les jours ou presque/Tous les jours ou pr...</td>\n",
       "      <td>...</td>\n",
       "      <td>Marne</td>\n",
       "      <td>Grand Est</td>\n",
       "      <td>1.0</td>\n",
       "      <td>1.0</td>\n",
       "      <td>1.0</td>\n",
       "      <td>1.0</td>\n",
       "      <td>1.0</td>\n",
       "      <td>1.0</td>\n",
       "      <td>1.0</td>\n",
       "      <td>Reims 51</td>\n",
       "    </tr>\n",
       "    <tr>\n",
       "      <th>21018</th>\n",
       "      <td>Rouen (76000)</td>\n",
       "      <td>76540</td>\n",
       "      <td>Rouen</td>\n",
       "      <td>76</td>\n",
       "      <td>76000</td>\n",
       "      <td>Seine-Maritime</td>\n",
       "      <td>Normandie</td>\n",
       "      <td>Non</td>\n",
       "      <td>De 100 000 et 199 999 habitants</td>\n",
       "      <td>Tous les jours ou presque/Tous les jours ou pr...</td>\n",
       "      <td>...</td>\n",
       "      <td>Seine-Maritime</td>\n",
       "      <td>Normandie</td>\n",
       "      <td>1.0</td>\n",
       "      <td>1.0</td>\n",
       "      <td>1.0</td>\n",
       "      <td>1.0</td>\n",
       "      <td>1.0</td>\n",
       "      <td>1.0</td>\n",
       "      <td>1.0</td>\n",
       "      <td>Rouen 76</td>\n",
       "    </tr>\n",
       "    <tr>\n",
       "      <th>22762</th>\n",
       "      <td>Sète (34200)</td>\n",
       "      <td>34301</td>\n",
       "      <td>Sète</td>\n",
       "      <td>34</td>\n",
       "      <td>34200</td>\n",
       "      <td>Hérault</td>\n",
       "      <td>Occitanie</td>\n",
       "      <td>Non</td>\n",
       "      <td>De 20 000 et 49 999 habitants</td>\n",
       "      <td>Tous les jours ou presque/Tous les jours ou pr...</td>\n",
       "      <td>...</td>\n",
       "      <td>Hérault</td>\n",
       "      <td>Occitanie</td>\n",
       "      <td>1.0</td>\n",
       "      <td>1.0</td>\n",
       "      <td>1.0</td>\n",
       "      <td>1.0</td>\n",
       "      <td>1.0</td>\n",
       "      <td>1.0</td>\n",
       "      <td>1.0</td>\n",
       "      <td>Sète 34</td>\n",
       "    </tr>\n",
       "    <tr>\n",
       "      <th>22793</th>\n",
       "      <td>Sète (34200)</td>\n",
       "      <td>34301</td>\n",
       "      <td>Sète</td>\n",
       "      <td>34</td>\n",
       "      <td>34200</td>\n",
       "      <td>Hérault</td>\n",
       "      <td>Occitanie</td>\n",
       "      <td>Non</td>\n",
       "      <td>De 20 000 et 49 999 habitants</td>\n",
       "      <td>Tous les jours ou presque/Tous les jours ou pr...</td>\n",
       "      <td>...</td>\n",
       "      <td>Hérault</td>\n",
       "      <td>Occitanie</td>\n",
       "      <td>1.0</td>\n",
       "      <td>1.0</td>\n",
       "      <td>1.0</td>\n",
       "      <td>1.0</td>\n",
       "      <td>1.0</td>\n",
       "      <td>1.0</td>\n",
       "      <td>1.0</td>\n",
       "      <td>Sète 34</td>\n",
       "    </tr>\n",
       "    <tr>\n",
       "      <th>26048</th>\n",
       "      <td>Villeurbanne (69100)</td>\n",
       "      <td>69266</td>\n",
       "      <td>Villeurbanne</td>\n",
       "      <td>69</td>\n",
       "      <td>69100</td>\n",
       "      <td>Rhône</td>\n",
       "      <td>Auvergne-Rhône-Alpes</td>\n",
       "      <td>Non</td>\n",
       "      <td>De 100 000 et 199 999 habitants</td>\n",
       "      <td>Tous les jours ou presque/Tous les jours ou pr...</td>\n",
       "      <td>...</td>\n",
       "      <td>Rhône</td>\n",
       "      <td>Auvergne-Rhône-Alpes</td>\n",
       "      <td>1.0</td>\n",
       "      <td>1.0</td>\n",
       "      <td>1.0</td>\n",
       "      <td>1.0</td>\n",
       "      <td>1.0</td>\n",
       "      <td>1.0</td>\n",
       "      <td>1.0</td>\n",
       "      <td>Villeurbanne 69</td>\n",
       "    </tr>\n",
       "    <tr>\n",
       "      <th>26981</th>\n",
       "      <td>Canet (34800)</td>\n",
       "      <td>34051</td>\n",
       "      <td>Canet</td>\n",
       "      <td>34</td>\n",
       "      <td>34800</td>\n",
       "      <td>Hérault</td>\n",
       "      <td>Occitanie</td>\n",
       "      <td>Non</td>\n",
       "      <td>Moins de 5000 habitants</td>\n",
       "      <td>Tous les jours ou presque/1 à 3 fois par semaine</td>\n",
       "      <td>...</td>\n",
       "      <td>Hérault</td>\n",
       "      <td>Occitanie</td>\n",
       "      <td>1.0</td>\n",
       "      <td>1.0</td>\n",
       "      <td>1.0</td>\n",
       "      <td>1.0</td>\n",
       "      <td>1.0</td>\n",
       "      <td>1.0</td>\n",
       "      <td>1.0</td>\n",
       "      <td>Canet 34</td>\n",
       "    </tr>\n",
       "    <tr>\n",
       "      <th>27490</th>\n",
       "      <td>Gréasque (13850)</td>\n",
       "      <td>13046</td>\n",
       "      <td>Gréasque</td>\n",
       "      <td>13</td>\n",
       "      <td>13850</td>\n",
       "      <td>Bouches-du-Rhône</td>\n",
       "      <td>Provence-Alpes-Côte d'Azur</td>\n",
       "      <td>Non</td>\n",
       "      <td>Moins de 5000 habitants</td>\n",
       "      <td>Tous les jours ou presque/Tous les jours ou pr...</td>\n",
       "      <td>...</td>\n",
       "      <td>Bouches-du-Rhône</td>\n",
       "      <td>Provence-Alpes-Côte d'Azur</td>\n",
       "      <td>1.0</td>\n",
       "      <td>1.0</td>\n",
       "      <td>1.0</td>\n",
       "      <td>1.0</td>\n",
       "      <td>1.0</td>\n",
       "      <td>1.0</td>\n",
       "      <td>1.0</td>\n",
       "      <td>Gréasque 13</td>\n",
       "    </tr>\n",
       "    <tr>\n",
       "      <th>30069</th>\n",
       "      <td>Meyreuil (13590)</td>\n",
       "      <td>13060</td>\n",
       "      <td>Meyreuil</td>\n",
       "      <td>13</td>\n",
       "      <td>13590</td>\n",
       "      <td>Bouches-du-Rhône</td>\n",
       "      <td>Provence-Alpes-Côte d'Azur</td>\n",
       "      <td>Non</td>\n",
       "      <td>De 5000 et 19 999 habitants</td>\n",
       "      <td>Tous les jours ou presque/Tous les jours ou pr...</td>\n",
       "      <td>...</td>\n",
       "      <td>Bouches-du-Rhône</td>\n",
       "      <td>Provence-Alpes-Côte d'Azur</td>\n",
       "      <td>1.0</td>\n",
       "      <td>1.0</td>\n",
       "      <td>1.0</td>\n",
       "      <td>1.0</td>\n",
       "      <td>1.0</td>\n",
       "      <td>1.0</td>\n",
       "      <td>1.0</td>\n",
       "      <td>Meyreuil 13</td>\n",
       "    </tr>\n",
       "    <tr>\n",
       "      <th>35353</th>\n",
       "      <td>Berre-l'Étang (13130)</td>\n",
       "      <td>13014</td>\n",
       "      <td>Berre-l'Étang</td>\n",
       "      <td>13</td>\n",
       "      <td>13130</td>\n",
       "      <td>Bouches-du-Rhône</td>\n",
       "      <td>Provence-Alpes-Côte d'Azur</td>\n",
       "      <td>Non</td>\n",
       "      <td>De 5000 et 19 999 habitants</td>\n",
       "      <td>1 à 3 fois par mois/Presque jamais</td>\n",
       "      <td>...</td>\n",
       "      <td>Bouches-du-Rhône</td>\n",
       "      <td>Provence-Alpes-Côte d'Azur</td>\n",
       "      <td>1.0</td>\n",
       "      <td>1.0</td>\n",
       "      <td>1.0</td>\n",
       "      <td>1.0</td>\n",
       "      <td>1.0</td>\n",
       "      <td>1.0</td>\n",
       "      <td>1.0</td>\n",
       "      <td>Berre-l'Étang 13</td>\n",
       "    </tr>\n",
       "    <tr>\n",
       "      <th>36715</th>\n",
       "      <td>Gennevilliers (92230)</td>\n",
       "      <td>92036</td>\n",
       "      <td>Gennevilliers</td>\n",
       "      <td>92</td>\n",
       "      <td>92230</td>\n",
       "      <td>Hauts-de-Seine</td>\n",
       "      <td>Île-de-France</td>\n",
       "      <td>Non</td>\n",
       "      <td>De 20 000 et 49 999 habitants</td>\n",
       "      <td>Tous les jours ou presque/Tous les jours ou pr...</td>\n",
       "      <td>...</td>\n",
       "      <td>Hauts-de-Seine</td>\n",
       "      <td>Île-de-France</td>\n",
       "      <td>1.0</td>\n",
       "      <td>1.0</td>\n",
       "      <td>1.0</td>\n",
       "      <td>1.0</td>\n",
       "      <td>1.0</td>\n",
       "      <td>1.0</td>\n",
       "      <td>1.0</td>\n",
       "      <td>Gennevilliers 92</td>\n",
       "    </tr>\n",
       "    <tr>\n",
       "      <th>39277</th>\n",
       "      <td>Faches-Thumesnil (59155)</td>\n",
       "      <td>59220</td>\n",
       "      <td>Faches-Thumesnil</td>\n",
       "      <td>59</td>\n",
       "      <td>59155</td>\n",
       "      <td>Nord</td>\n",
       "      <td>Hauts-de-France</td>\n",
       "      <td>Non</td>\n",
       "      <td>De 5000 et 19 999 habitants</td>\n",
       "      <td>Tous les jours ou presque/1 à 3 fois par semaine</td>\n",
       "      <td>...</td>\n",
       "      <td>Nord</td>\n",
       "      <td>Hauts-de-France</td>\n",
       "      <td>1.0</td>\n",
       "      <td>1.0</td>\n",
       "      <td>1.0</td>\n",
       "      <td>1.0</td>\n",
       "      <td>1.0</td>\n",
       "      <td>1.0</td>\n",
       "      <td>1.0</td>\n",
       "      <td>Faches-Thumesnil 59</td>\n",
       "    </tr>\n",
       "    <tr>\n",
       "      <th>42392</th>\n",
       "      <td>Chevilly-Larue (94550)</td>\n",
       "      <td>94021</td>\n",
       "      <td>Chevilly-Larue</td>\n",
       "      <td>94</td>\n",
       "      <td>94550</td>\n",
       "      <td>Val-de-Marne</td>\n",
       "      <td>Île-de-France</td>\n",
       "      <td>Non</td>\n",
       "      <td>De 5000 et 19 999 habitants</td>\n",
       "      <td>Tous les jours ou presque/Tous les jours ou pr...</td>\n",
       "      <td>...</td>\n",
       "      <td>Val-de-Marne</td>\n",
       "      <td>Île-de-France</td>\n",
       "      <td>1.0</td>\n",
       "      <td>1.0</td>\n",
       "      <td>1.0</td>\n",
       "      <td>1.0</td>\n",
       "      <td>1.0</td>\n",
       "      <td>1.0</td>\n",
       "      <td>1.0</td>\n",
       "      <td>Chevilly-Larue 94</td>\n",
       "    </tr>\n",
       "  </tbody>\n",
       "</table>\n",
       "<p>37 rows × 82 columns</p>\n",
       "</div>"
      ],
      "text/plain": [
       "                        Commune Code_INSEE        Commune_cp Dep     Cp  \\\n",
       "548         Alfortville (94140)      94002       Alfortville  94  94140   \n",
       "997              Angers (49000)      49007            Angers  49  49000   \n",
       "1055             Angers (49100)      49007            Angers  49  49100   \n",
       "1102             Angers (49000)      49007            Angers  49  49000   \n",
       "2176               Avon (77210)      77014              Avon  77  77210   \n",
       "2177               Avon (77210)      77014              Avon  77  77210   \n",
       "2179               Avon (77210)      77014              Avon  77  77210   \n",
       "2196               Avon (77210)      77014              Avon  77  77210   \n",
       "2201               Avon (77210)      77014              Avon  77  77210   \n",
       "2202               Avon (77210)      77014              Avon  77  77210   \n",
       "2204               Avon (77210)      77014              Avon  77  77210   \n",
       "2491             Bègles (33130)      33039            Bègles  33  33130   \n",
       "6963              Dijon (21000)      21231             Dijon  21  21000   \n",
       "7650             Fuveau (13710)      13040            Fuveau  13  13710   \n",
       "7697           Gardanne (13120)      13041          Gardanne  13  13120   \n",
       "11781         Marseille (13000)      13055         Marseille  13  13000   \n",
       "12724         Marseille (13000)      13055         Marseille  13  13000   \n",
       "12948         Marseille (13000)      13055         Marseille  13  13000   \n",
       "13276          Mérignac (33700)      33281          Mérignac  33  33700   \n",
       "14273         Montreuil (93100)      93048         Montreuil  93  93100   \n",
       "14303         Montreuil (93100)      93048         Montreuil  93  93100   \n",
       "14430         Montreuil (93100)      93048         Montreuil  93  93100   \n",
       "15810      Noisy-le-Sec (93130)      93053      Noisy-le-Sec  93  93130   \n",
       "16335             Paris (75000)      75056             Paris  75  75000   \n",
       "16438             Paris (75000)      75056             Paris  75  75000   \n",
       "19901             Reims (51100)      51454             Reims  51  51100   \n",
       "21018             Rouen (76000)      76540             Rouen  76  76000   \n",
       "22762              Sète (34200)      34301              Sète  34  34200   \n",
       "22793              Sète (34200)      34301              Sète  34  34200   \n",
       "26048      Villeurbanne (69100)      69266      Villeurbanne  69  69100   \n",
       "26981             Canet (34800)      34051             Canet  34  34800   \n",
       "27490          Gréasque (13850)      13046          Gréasque  13  13850   \n",
       "30069          Meyreuil (13590)      13060          Meyreuil  13  13590   \n",
       "35353     Berre-l'Étang (13130)      13014     Berre-l'Étang  13  13130   \n",
       "36715     Gennevilliers (92230)      92036     Gennevilliers  92  92230   \n",
       "39277  Faches-Thumesnil (59155)      59220  Faches-Thumesnil  59  59155   \n",
       "42392    Chevilly-Larue (94550)      94021    Chevilly-Larue  94  94550   \n",
       "\n",
       "                 Nom_dep                  Nom_region Malvoyant  \\\n",
       "548         Val-de-Marne               Île-de-France       Non   \n",
       "997       Maine-et-Loire            Pays de la Loire       Non   \n",
       "1055      Maine-et-Loire            Pays de la Loire       Non   \n",
       "1102      Maine-et-Loire            Pays de la Loire       Non   \n",
       "2176      Seine-et-Marne               Île-de-France       Non   \n",
       "2177      Seine-et-Marne               Île-de-France       Non   \n",
       "2179      Seine-et-Marne               Île-de-France       Non   \n",
       "2196      Seine-et-Marne               Île-de-France       Non   \n",
       "2201      Seine-et-Marne               Île-de-France       Non   \n",
       "2202      Seine-et-Marne               Île-de-France       Non   \n",
       "2204      Seine-et-Marne               Île-de-France       Non   \n",
       "2491             Gironde          Nouvelle-Aquitaine       Non   \n",
       "6963           Côte-d'Or     Bourgogne-Franche-Comté       Non   \n",
       "7650    Bouches-du-Rhône  Provence-Alpes-Côte d'Azur       Non   \n",
       "7697    Bouches-du-Rhône  Provence-Alpes-Côte d'Azur       Non   \n",
       "11781   Bouches-du-Rhône  Provence-Alpes-Côte d'Azur       Non   \n",
       "12724   Bouches-du-Rhône  Provence-Alpes-Côte d'Azur       Non   \n",
       "12948   Bouches-du-Rhône  Provence-Alpes-Côte d'Azur       Non   \n",
       "13276            Gironde          Nouvelle-Aquitaine       Non   \n",
       "14273  Seine-Saint-Denis               Île-de-France       Non   \n",
       "14303  Seine-Saint-Denis               Île-de-France       Non   \n",
       "14430  Seine-Saint-Denis               Île-de-France       Non   \n",
       "15810  Seine-Saint-Denis               Île-de-France       Non   \n",
       "16335              Paris               Île-de-France       Non   \n",
       "16438              Paris               Île-de-France       Non   \n",
       "19901              Marne                   Grand Est       Non   \n",
       "21018     Seine-Maritime                   Normandie       Non   \n",
       "22762            Hérault                   Occitanie       Non   \n",
       "22793            Hérault                   Occitanie       Non   \n",
       "26048              Rhône        Auvergne-Rhône-Alpes       Non   \n",
       "26981            Hérault                   Occitanie       Non   \n",
       "27490   Bouches-du-Rhône  Provence-Alpes-Côte d'Azur       Non   \n",
       "30069   Bouches-du-Rhône  Provence-Alpes-Côte d'Azur       Non   \n",
       "35353   Bouches-du-Rhône  Provence-Alpes-Côte d'Azur       Non   \n",
       "36715     Hauts-de-Seine               Île-de-France       Non   \n",
       "39277               Nord             Hauts-de-France       Non   \n",
       "42392       Val-de-Marne               Île-de-France       Non   \n",
       "\n",
       "                      Taille_commune_2  \\\n",
       "548      De 20 000 et 49 999 habitants   \n",
       "997    De 100 000 et 199 999 habitants   \n",
       "1055   De 100 000 et 199 999 habitants   \n",
       "1102   De 100 000 et 199 999 habitants   \n",
       "2176       De 5000 et 19 999 habitants   \n",
       "2177       De 5000 et 19 999 habitants   \n",
       "2179       De 5000 et 19 999 habitants   \n",
       "2196       De 5000 et 19 999 habitants   \n",
       "2201       De 5000 et 19 999 habitants   \n",
       "2202       De 5000 et 19 999 habitants   \n",
       "2204       De 5000 et 19 999 habitants   \n",
       "2491     De 20 000 et 49 999 habitants   \n",
       "6963   De 100 000 et 199 999 habitants   \n",
       "7650       De 5000 et 19 999 habitants   \n",
       "7697     De 20 000 et 49 999 habitants   \n",
       "11781        200 000 habitants ou plus   \n",
       "12724        200 000 habitants ou plus   \n",
       "12948        200 000 habitants ou plus   \n",
       "13276    De 50 000 et 99 999 habitants   \n",
       "14273  De 100 000 et 199 999 habitants   \n",
       "14303  De 100 000 et 199 999 habitants   \n",
       "14430  De 100 000 et 199 999 habitants   \n",
       "15810    De 20 000 et 49 999 habitants   \n",
       "16335        200 000 habitants ou plus   \n",
       "16438        200 000 habitants ou plus   \n",
       "19901  De 100 000 et 199 999 habitants   \n",
       "21018  De 100 000 et 199 999 habitants   \n",
       "22762    De 20 000 et 49 999 habitants   \n",
       "22793    De 20 000 et 49 999 habitants   \n",
       "26048  De 100 000 et 199 999 habitants   \n",
       "26981          Moins de 5000 habitants   \n",
       "27490          Moins de 5000 habitants   \n",
       "30069      De 5000 et 19 999 habitants   \n",
       "35353      De 5000 et 19 999 habitants   \n",
       "36715    De 20 000 et 49 999 habitants   \n",
       "39277      De 5000 et 19 999 habitants   \n",
       "42392      De 5000 et 19 999 habitants   \n",
       "\n",
       "                                   Pratique de la marche  ...  \\\n",
       "548     Tous les jours ou presque/1 à 3 fois par semaine  ...   \n",
       "997    Tous les jours ou presque/Tous les jours ou pr...  ...   \n",
       "1055   Tous les jours ou presque/Tous les jours ou pr...  ...   \n",
       "1102   Tous les jours ou presque/Tous les jours ou pr...  ...   \n",
       "2176   Tous les jours ou presque/Tous les jours ou pr...  ...   \n",
       "2177               1 à 3 fois par semaine/Presque jamais  ...   \n",
       "2179               1 à 3 fois par semaine/Presque jamais  ...   \n",
       "2196    Tous les jours ou presque/1 à 3 fois par semaine  ...   \n",
       "2201   Tous les jours ou presque/Tous les jours ou pr...  ...   \n",
       "2202   Tous les jours ou presque/Tous les jours ou pr...  ...   \n",
       "2204   Tous les jours ou presque/Tous les jours ou pr...  ...   \n",
       "2491          1 à 3 fois par semaine/1 à 3 fois par mois  ...   \n",
       "6963    Tous les jours ou presque/1 à 3 fois par semaine  ...   \n",
       "7650   Tous les jours ou presque/Tous les jours ou pr...  ...   \n",
       "7697   Tous les jours ou presque/Tous les jours ou pr...  ...   \n",
       "11781   Tous les jours ou presque/1 à 3 fois par semaine  ...   \n",
       "12724           Tous les jours ou presque/Presque jamais  ...   \n",
       "12948  Tous les jours ou presque/Tous les jours ou pr...  ...   \n",
       "13276              1 à 3 fois par semaine/Presque jamais  ...   \n",
       "14273           Tous les jours ou presque/Presque jamais  ...   \n",
       "14303  Tous les jours ou presque/Tous les jours ou pr...  ...   \n",
       "14430  Tous les jours ou presque/Tous les jours ou pr...  ...   \n",
       "15810  Tous les jours ou presque/Tous les jours ou pr...  ...   \n",
       "16335  Tous les jours ou presque/Tous les jours ou pr...  ...   \n",
       "16438  Tous les jours ou presque/Tous les jours ou pr...  ...   \n",
       "19901  Tous les jours ou presque/Tous les jours ou pr...  ...   \n",
       "21018  Tous les jours ou presque/Tous les jours ou pr...  ...   \n",
       "22762  Tous les jours ou presque/Tous les jours ou pr...  ...   \n",
       "22793  Tous les jours ou presque/Tous les jours ou pr...  ...   \n",
       "26048  Tous les jours ou presque/Tous les jours ou pr...  ...   \n",
       "26981   Tous les jours ou presque/1 à 3 fois par semaine  ...   \n",
       "27490  Tous les jours ou presque/Tous les jours ou pr...  ...   \n",
       "30069  Tous les jours ou presque/Tous les jours ou pr...  ...   \n",
       "35353                 1 à 3 fois par mois/Presque jamais  ...   \n",
       "36715  Tous les jours ou presque/Tous les jours ou pr...  ...   \n",
       "39277   Tous les jours ou presque/1 à 3 fois par semaine  ...   \n",
       "42392  Tous les jours ou presque/Tous les jours ou pr...  ...   \n",
       "\n",
       "      Nom_dep_residence_OK     Nom_region_residence_OK  \\\n",
       "548           Val-de-Marne               Île-de-France   \n",
       "997         Maine-et-Loire            Pays de la Loire   \n",
       "1055        Maine-et-Loire            Pays de la Loire   \n",
       "1102        Maine-et-Loire            Pays de la Loire   \n",
       "2176        Seine-et-Marne               Île-de-France   \n",
       "2177        Seine-et-Marne               Île-de-France   \n",
       "2179        Seine-et-Marne               Île-de-France   \n",
       "2196        Seine-et-Marne               Île-de-France   \n",
       "2201        Seine-et-Marne               Île-de-France   \n",
       "2202        Seine-et-Marne               Île-de-France   \n",
       "2204        Seine-et-Marne               Île-de-France   \n",
       "2491               Gironde          Nouvelle-Aquitaine   \n",
       "6963             Côte-d'Or     Bourgogne-Franche-Comté   \n",
       "7650      Bouches-du-Rhône  Provence-Alpes-Côte d'Azur   \n",
       "7697      Bouches-du-Rhône  Provence-Alpes-Côte d'Azur   \n",
       "11781     Bouches-du-Rhône  Provence-Alpes-Côte d'Azur   \n",
       "12724     Bouches-du-Rhône  Provence-Alpes-Côte d'Azur   \n",
       "12948     Bouches-du-Rhône  Provence-Alpes-Côte d'Azur   \n",
       "13276              Gironde          Nouvelle-Aquitaine   \n",
       "14273    Seine-Saint-Denis               Île-de-France   \n",
       "14303    Seine-Saint-Denis               Île-de-France   \n",
       "14430    Seine-Saint-Denis               Île-de-France   \n",
       "15810    Seine-Saint-Denis               Île-de-France   \n",
       "16335                Paris               Île-de-France   \n",
       "16438                Paris               Île-de-France   \n",
       "19901                Marne                   Grand Est   \n",
       "21018       Seine-Maritime                   Normandie   \n",
       "22762              Hérault                   Occitanie   \n",
       "22793              Hérault                   Occitanie   \n",
       "26048                Rhône        Auvergne-Rhône-Alpes   \n",
       "26981              Hérault                   Occitanie   \n",
       "27490     Bouches-du-Rhône  Provence-Alpes-Côte d'Azur   \n",
       "30069     Bouches-du-Rhône  Provence-Alpes-Côte d'Azur   \n",
       "35353     Bouches-du-Rhône  Provence-Alpes-Côte d'Azur   \n",
       "36715       Hauts-de-Seine               Île-de-France   \n",
       "39277                 Nord             Hauts-de-France   \n",
       "42392         Val-de-Marne               Île-de-France   \n",
       "\n",
       "      Indicateur_ressenti_global  Indicateur_securite  Indicateur_confort  \\\n",
       "548                          1.0                  1.0                 1.0   \n",
       "997                          1.0                  1.0                 1.0   \n",
       "1055                         1.0                  1.0                 1.0   \n",
       "1102                         1.0                  1.0                 1.0   \n",
       "2176                         1.0                  1.0                 1.0   \n",
       "2177                         1.0                  1.0                 1.0   \n",
       "2179                         1.0                  1.0                 1.0   \n",
       "2196                         1.0                  1.0                 1.0   \n",
       "2201                         1.0                  1.0                 1.0   \n",
       "2202                         1.0                  1.0                 1.0   \n",
       "2204                         1.0                  1.0                 1.0   \n",
       "2491                         1.0                  1.0                 1.0   \n",
       "6963                         1.0                  1.0                 1.0   \n",
       "7650                         1.0                  1.0                 1.0   \n",
       "7697                         1.0                  1.0                 1.0   \n",
       "11781                        1.0                  1.0                 1.0   \n",
       "12724                        1.0                  1.0                 1.0   \n",
       "12948                        1.0                  1.0                 1.0   \n",
       "13276                        1.0                  1.0                 1.0   \n",
       "14273                        1.0                  1.0                 1.0   \n",
       "14303                        1.0                  1.0                 1.0   \n",
       "14430                        1.0                  1.0                 1.0   \n",
       "15810                        1.0                  1.0                 1.0   \n",
       "16335                        1.0                  1.0                 1.0   \n",
       "16438                        1.0                  1.0                 1.0   \n",
       "19901                        1.0                  1.0                 1.0   \n",
       "21018                        1.0                  1.0                 1.0   \n",
       "22762                        1.0                  1.0                 1.0   \n",
       "22793                        1.0                  1.0                 1.0   \n",
       "26048                        1.0                  1.0                 1.0   \n",
       "26981                        1.0                  1.0                 1.0   \n",
       "27490                        1.0                  1.0                 1.0   \n",
       "30069                        1.0                  1.0                 1.0   \n",
       "35353                        1.0                  1.0                 1.0   \n",
       "36715                        1.0                  1.0                 1.0   \n",
       "39277                        1.0                  1.0                 1.0   \n",
       "42392                        1.0                  1.0                 1.0   \n",
       "\n",
       "       Indicateur_effort_ville  Indicateur_amenagements_services  \\\n",
       "548                        1.0                               1.0   \n",
       "997                        1.0                               1.0   \n",
       "1055                       1.0                               1.0   \n",
       "1102                       1.0                               1.0   \n",
       "2176                       1.0                               1.0   \n",
       "2177                       1.0                               1.0   \n",
       "2179                       1.0                               1.0   \n",
       "2196                       1.0                               1.0   \n",
       "2201                       1.0                               1.0   \n",
       "2202                       1.0                               1.0   \n",
       "2204                       1.0                               1.0   \n",
       "2491                       1.0                               1.0   \n",
       "6963                       1.0                               1.0   \n",
       "7650                       1.0                               1.0   \n",
       "7697                       1.0                               1.0   \n",
       "11781                      1.0                               1.0   \n",
       "12724                      1.0                               1.0   \n",
       "12948                      1.0                               1.0   \n",
       "13276                      1.0                               1.0   \n",
       "14273                      1.0                               1.0   \n",
       "14303                      1.0                               1.0   \n",
       "14430                      1.0                               1.0   \n",
       "15810                      1.0                               1.0   \n",
       "16335                      1.0                               1.0   \n",
       "16438                      1.0                               1.0   \n",
       "19901                      1.0                               1.0   \n",
       "21018                      1.0                               1.0   \n",
       "22762                      1.0                               1.0   \n",
       "22793                      1.0                               1.0   \n",
       "26048                      1.0                               1.0   \n",
       "26981                      1.0                               1.0   \n",
       "27490                      1.0                               1.0   \n",
       "30069                      1.0                               1.0   \n",
       "35353                      1.0                               1.0   \n",
       "36715                      1.0                               1.0   \n",
       "39277                      1.0                               1.0   \n",
       "42392                      1.0                               1.0   \n",
       "\n",
       "       Indicateur_global  Indicateur_global_declare                Ville  \n",
       "548                  1.0                        1.0       Alfortville 94  \n",
       "997                  1.0                        1.0            Angers 49  \n",
       "1055                 1.0                        1.0            Angers 49  \n",
       "1102                 1.0                        1.0            Angers 49  \n",
       "2176                 1.0                        1.0              Avon 77  \n",
       "2177                 1.0                        1.0              Avon 77  \n",
       "2179                 1.0                        1.0              Avon 77  \n",
       "2196                 1.0                        1.0              Avon 77  \n",
       "2201                 1.0                        1.0              Avon 77  \n",
       "2202                 1.0                        1.0              Avon 77  \n",
       "2204                 1.0                        1.0              Avon 77  \n",
       "2491                 1.0                        1.0            Bègles 33  \n",
       "6963                 1.0                        1.0             Dijon 21  \n",
       "7650                 1.0                        1.0            Fuveau 13  \n",
       "7697                 1.0                        1.0          Gardanne 13  \n",
       "11781                1.0                        1.0         Marseille 13  \n",
       "12724                1.0                        1.0         Marseille 13  \n",
       "12948                1.0                        1.0         Marseille 13  \n",
       "13276                1.0                        1.0          Mérignac 33  \n",
       "14273                1.0                        1.0         Montreuil 93  \n",
       "14303                1.0                        1.0         Montreuil 93  \n",
       "14430                1.0                        1.0         Montreuil 93  \n",
       "15810                1.0                        1.0      Noisy-le-Sec 93  \n",
       "16335                1.0                        1.0             Paris 75  \n",
       "16438                1.0                        1.0             Paris 75  \n",
       "19901                1.0                        1.0             Reims 51  \n",
       "21018                1.0                        1.0             Rouen 76  \n",
       "22762                1.0                        1.0              Sète 34  \n",
       "22793                1.0                        1.0              Sète 34  \n",
       "26048                1.0                        1.0      Villeurbanne 69  \n",
       "26981                1.0                        1.0             Canet 34  \n",
       "27490                1.0                        1.0          Gréasque 13  \n",
       "30069                1.0                        1.0          Meyreuil 13  \n",
       "35353                1.0                        1.0     Berre-l'Étang 13  \n",
       "36715                1.0                        1.0     Gennevilliers 92  \n",
       "39277                1.0                        1.0  Faches-Thumesnil 59  \n",
       "42392                1.0                        1.0    Chevilly-Larue 94  \n",
       "\n",
       "[37 rows x 82 columns]"
      ]
     },
     "execution_count": 30,
     "metadata": {},
     "output_type": "execute_result"
    }
   ],
   "source": [
    "df[df['Indicateur_global']==1]"
   ]
  },
  {
   "cell_type": "code",
   "execution_count": 31,
   "metadata": {},
   "outputs": [
    {
     "data": {
      "text/html": [
       "<div>\n",
       "<style scoped>\n",
       "    .dataframe tbody tr th:only-of-type {\n",
       "        vertical-align: middle;\n",
       "    }\n",
       "\n",
       "    .dataframe tbody tr th {\n",
       "        vertical-align: top;\n",
       "    }\n",
       "\n",
       "    .dataframe thead th {\n",
       "        text-align: right;\n",
       "    }\n",
       "</style>\n",
       "<table border=\"1\" class=\"dataframe\">\n",
       "  <thead>\n",
       "    <tr style=\"text-align: right;\">\n",
       "      <th></th>\n",
       "      <th>0</th>\n",
       "      <th>nombre</th>\n",
       "    </tr>\n",
       "  </thead>\n",
       "  <tbody>\n",
       "    <tr>\n",
       "      <th>5</th>\n",
       "      <td>Trottoir</td>\n",
       "      <td>0.433506</td>\n",
       "    </tr>\n",
       "    <tr>\n",
       "      <th>1</th>\n",
       "      <td>Reserver</td>\n",
       "      <td>0.341969</td>\n",
       "    </tr>\n",
       "    <tr>\n",
       "      <th>0</th>\n",
       "      <td>Verbaliser</td>\n",
       "      <td>0.302245</td>\n",
       "    </tr>\n",
       "    <tr>\n",
       "      <th>13</th>\n",
       "      <td>Agreable</td>\n",
       "      <td>0.248705</td>\n",
       "    </tr>\n",
       "    <tr>\n",
       "      <th>2</th>\n",
       "      <td>Vitesse</td>\n",
       "      <td>0.233161</td>\n",
       "    </tr>\n",
       "    <tr>\n",
       "      <th>3</th>\n",
       "      <td>Compléter</td>\n",
       "      <td>0.217617</td>\n",
       "    </tr>\n",
       "    <tr>\n",
       "      <th>14</th>\n",
       "      <td>Point_noir</td>\n",
       "      <td>0.196891</td>\n",
       "    </tr>\n",
       "    <tr>\n",
       "      <th>12</th>\n",
       "      <td>Environnement</td>\n",
       "      <td>0.189983</td>\n",
       "    </tr>\n",
       "    <tr>\n",
       "      <th>4</th>\n",
       "      <td>Priorite</td>\n",
       "      <td>0.148532</td>\n",
       "    </tr>\n",
       "    <tr>\n",
       "      <th>8</th>\n",
       "      <td>Signaletique</td>\n",
       "      <td>0.108808</td>\n",
       "    </tr>\n",
       "    <tr>\n",
       "      <th>6</th>\n",
       "      <td>Communication</td>\n",
       "      <td>0.100173</td>\n",
       "    </tr>\n",
       "    <tr>\n",
       "      <th>9</th>\n",
       "      <td>Bruit</td>\n",
       "      <td>0.098446</td>\n",
       "    </tr>\n",
       "    <tr>\n",
       "      <th>10</th>\n",
       "      <td>Air</td>\n",
       "      <td>0.088083</td>\n",
       "    </tr>\n",
       "    <tr>\n",
       "      <th>7</th>\n",
       "      <td>Acces</td>\n",
       "      <td>0.082902</td>\n",
       "    </tr>\n",
       "    <tr>\n",
       "      <th>11</th>\n",
       "      <td>Transport</td>\n",
       "      <td>0.058722</td>\n",
       "    </tr>\n",
       "  </tbody>\n",
       "</table>\n",
       "</div>"
      ],
      "text/plain": [
       "                0    nombre\n",
       "5        Trottoir  0.433506\n",
       "1        Reserver  0.341969\n",
       "0      Verbaliser  0.302245\n",
       "13       Agreable  0.248705\n",
       "2         Vitesse  0.233161\n",
       "3       Compléter  0.217617\n",
       "14     Point_noir  0.196891\n",
       "12  Environnement  0.189983\n",
       "4        Priorite  0.148532\n",
       "8    Signaletique  0.108808\n",
       "6   Communication  0.100173\n",
       "9           Bruit  0.098446\n",
       "10            Air  0.088083\n",
       "7           Acces  0.082902\n",
       "11      Transport  0.058722"
      ]
     },
     "execution_count": 31,
     "metadata": {},
     "output_type": "execute_result"
    }
   ],
   "source": [
    "possibilite=[\"Verbaliser davantage le stationnement sur les passages piétons et les trottoirs\", \n",
    "                 \"Réserver l'usage des trottoirs aux déplacements à pied\", \"Modérer la vitesse des véhicules motorisés dans les lieux fréquentés par les piétons\",\n",
    "                \"Constituer un réseau complet de cheminements piétons dans la ville\", \"Davantage de lieux où les piétons sont prioritaires\",\n",
    "                \"plus larges, bien entretenus, sécurisés et désencombrés\",\n",
    "                 \"Des actions de communication pour développer le gout et le plaisir de la marche\",\n",
    "                \"Faciliter l'accès à pied des transports publics et lieux accueillant du public \",\n",
    "                \"Une signalétique adaptée aux piétons\", \"Des circulations piétonnes éloignées ou protégées  des zones bruyantes\",\n",
    "                \"Une meilleure qualité de l'air\", \"Un meilleur accès aux transports en commun pour faciliter leur usage par les piétons\",\n",
    "                \"Un environnement des cheminements piétons plus agréables : végétation, paysage...\",\n",
    "                \"Rendre la marche plus agréable pour les piétons : banc de repos, toilettes, eau potable…\",\n",
    "                \"Traiter les points noirs et les coupures urbaines ...\"]\n",
    "nom_col=['Verbaliser','Reserver', 'Vitesse', 'Compléter', 'Priorite','Trottoir', 'Communication', 'Acces', 'Signaletique',\n",
    "            'Bruit', 'Air', 'Transport', 'Environnement', 'Agreable', 'Point_noir']\n",
    "def proposition(df1):\n",
    "    possibilite=[\"Verbaliser davantage le stationnement sur les passages piétons et les trottoirs\", \n",
    "                 \"Réserver l'usage des trottoirs aux déplacements à pied\", \"Modérer la vitesse des véhicules motorisés dans les lieux fréquentés par les piétons\",\n",
    "                \"Constituer un réseau complet de cheminements piétons dans la ville\", \"Davantage de lieux où les piétons sont prioritaires\",\n",
    "                \"plus larges, bien entretenus, sécurisés et désencombrés\",\n",
    "                 \"Des actions de communication pour développer le gout et le plaisir de la marche\",\n",
    "                \"Faciliter l'accès à pied des transports publics et lieux accueillant du public \",\n",
    "                \"Une signalétique adaptée aux piétons\", \"Des circulations piétonnes éloignées ou protégées  des zones bruyantes\",\n",
    "                \"Une meilleure qualité de l'air\", \"Un meilleur accès aux transports en commun pour faciliter leur usage par les piétons\",\n",
    "                \"Un environnement des cheminements piétons plus agréables : végétation, paysage...\",\n",
    "                \"Rendre la marche plus agréable pour les piétons : banc de repos, toilettes, eau potable…\",\n",
    "                \"Traiter les points noirs et les coupures urbaines ...\"]\n",
    "    nom_col=['Verbaliser','Reserver', 'Vitesse', 'Compléter', 'Priorite','Trottoir', 'Communication', 'Acces', 'Signaletique',\n",
    "            'Bruit', 'Air', 'Transport', 'Environnement', 'Agreable', 'Point_noir']\n",
    "    for nombre in range(len(possibilite)):\n",
    "        p=re.compile(possibilite[nombre])\n",
    "        liste=[]\n",
    "        for i in df1['Criteres_importants']:\n",
    "            m=p.search(str(i))\n",
    "            if m==None:\n",
    "                liste.append(0)\n",
    "            else:\n",
    "                liste.append(1)\n",
    "        df1[nom_col[nombre]]=np.array(liste)\n",
    "    liste1=[]\n",
    "    liste2=[]\n",
    "    for i in nom_col :\n",
    "        liste1.append(i)\n",
    "        liste2.append(sum(df1[i]))\n",
    "    conseils=pd.DataFrame(liste1)\n",
    "    conseils['nombre']=np.array(liste2)/len(liste)\n",
    "    conseils.sort_values('nombre', ascending=False)\n",
    "    return conseils.sort_values('nombre', ascending=False)\n",
    "proposition(df_mal)"
   ]
  },
  {
   "cell_type": "code",
   "execution_count": 32,
   "metadata": {},
   "outputs": [
    {
     "name": "stderr",
     "output_type": "stream",
     "text": [
      "<ipython-input-31-3a4dc046ca8e>:37: SettingWithCopyWarning: \n",
      "A value is trying to be set on a copy of a slice from a DataFrame.\n",
      "Try using .loc[row_indexer,col_indexer] = value instead\n",
      "\n",
      "See the caveats in the documentation: https://pandas.pydata.org/pandas-docs/stable/user_guide/indexing.html#returning-a-view-versus-a-copy\n",
      "  df1[nom_col[nombre]]=np.array(liste)\n"
     ]
    },
    {
     "data": {
      "text/html": [
       "<div>\n",
       "<style scoped>\n",
       "    .dataframe tbody tr th:only-of-type {\n",
       "        vertical-align: middle;\n",
       "    }\n",
       "\n",
       "    .dataframe tbody tr th {\n",
       "        vertical-align: top;\n",
       "    }\n",
       "\n",
       "    .dataframe thead th {\n",
       "        text-align: right;\n",
       "    }\n",
       "</style>\n",
       "<table border=\"1\" class=\"dataframe\">\n",
       "  <thead>\n",
       "    <tr style=\"text-align: right;\">\n",
       "      <th></th>\n",
       "      <th>0</th>\n",
       "      <th>nombre</th>\n",
       "    </tr>\n",
       "  </thead>\n",
       "  <tbody>\n",
       "    <tr>\n",
       "      <th>5</th>\n",
       "      <td>Trottoir</td>\n",
       "      <td>0.494357</td>\n",
       "    </tr>\n",
       "    <tr>\n",
       "      <th>0</th>\n",
       "      <td>Verbaliser</td>\n",
       "      <td>0.388262</td>\n",
       "    </tr>\n",
       "    <tr>\n",
       "      <th>1</th>\n",
       "      <td>Reserver</td>\n",
       "      <td>0.379233</td>\n",
       "    </tr>\n",
       "    <tr>\n",
       "      <th>13</th>\n",
       "      <td>Agreable</td>\n",
       "      <td>0.306998</td>\n",
       "    </tr>\n",
       "    <tr>\n",
       "      <th>14</th>\n",
       "      <td>Point_noir</td>\n",
       "      <td>0.225734</td>\n",
       "    </tr>\n",
       "    <tr>\n",
       "      <th>3</th>\n",
       "      <td>Compléter</td>\n",
       "      <td>0.214447</td>\n",
       "    </tr>\n",
       "    <tr>\n",
       "      <th>2</th>\n",
       "      <td>Vitesse</td>\n",
       "      <td>0.189616</td>\n",
       "    </tr>\n",
       "    <tr>\n",
       "      <th>4</th>\n",
       "      <td>Priorite</td>\n",
       "      <td>0.142212</td>\n",
       "    </tr>\n",
       "    <tr>\n",
       "      <th>12</th>\n",
       "      <td>Environnement</td>\n",
       "      <td>0.119639</td>\n",
       "    </tr>\n",
       "    <tr>\n",
       "      <th>11</th>\n",
       "      <td>Transport</td>\n",
       "      <td>0.092551</td>\n",
       "    </tr>\n",
       "    <tr>\n",
       "      <th>8</th>\n",
       "      <td>Signaletique</td>\n",
       "      <td>0.090293</td>\n",
       "    </tr>\n",
       "    <tr>\n",
       "      <th>7</th>\n",
       "      <td>Acces</td>\n",
       "      <td>0.083521</td>\n",
       "    </tr>\n",
       "    <tr>\n",
       "      <th>10</th>\n",
       "      <td>Air</td>\n",
       "      <td>0.074492</td>\n",
       "    </tr>\n",
       "    <tr>\n",
       "      <th>6</th>\n",
       "      <td>Communication</td>\n",
       "      <td>0.060948</td>\n",
       "    </tr>\n",
       "    <tr>\n",
       "      <th>9</th>\n",
       "      <td>Bruit</td>\n",
       "      <td>0.056433</td>\n",
       "    </tr>\n",
       "  </tbody>\n",
       "</table>\n",
       "</div>"
      ],
      "text/plain": [
       "                0    nombre\n",
       "5        Trottoir  0.494357\n",
       "0      Verbaliser  0.388262\n",
       "1        Reserver  0.379233\n",
       "13       Agreable  0.306998\n",
       "14     Point_noir  0.225734\n",
       "3       Compléter  0.214447\n",
       "2         Vitesse  0.189616\n",
       "4        Priorite  0.142212\n",
       "12  Environnement  0.119639\n",
       "11      Transport  0.092551\n",
       "8    Signaletique  0.090293\n",
       "7           Acces  0.083521\n",
       "10            Air  0.074492\n",
       "6   Communication  0.060948\n",
       "9           Bruit  0.056433"
      ]
     },
     "execution_count": 32,
     "metadata": {},
     "output_type": "execute_result"
    }
   ],
   "source": [
    "proposition(df_reduite)"
   ]
  },
  {
   "cell_type": "code",
   "execution_count": null,
   "metadata": {},
   "outputs": [],
   "source": []
  }
 ],
 "metadata": {
  "kernelspec": {
   "display_name": "Python 3",
   "language": "python",
   "name": "python3"
  },
  "language_info": {
   "codemirror_mode": {
    "name": "ipython",
    "version": 3
   },
   "file_extension": ".py",
   "mimetype": "text/x-python",
   "name": "python",
   "nbconvert_exporter": "python",
   "pygments_lexer": "ipython3",
   "version": "3.8.5"
  }
 },
 "nbformat": 4,
 "nbformat_minor": 4
}
