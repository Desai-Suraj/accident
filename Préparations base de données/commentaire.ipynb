{
 "cells": [
  {
   "cell_type": "code",
   "execution_count": 1,
   "metadata": {},
   "outputs": [],
   "source": [
    "import pandas as pd\n",
    "import numpy as np\n",
    "import re"
   ]
  },
  {
   "cell_type": "code",
   "execution_count": 2,
   "metadata": {},
   "outputs": [
    {
     "name": "stderr",
     "output_type": "stream",
     "text": [
      "C:\\Users\\sylva\\anaconda3\\lib\\site-packages\\IPython\\core\\interactiveshell.py:3146: DtypeWarning: Columns (1,3,68,70) have mixed types.Specify dtype option on import or set low_memory=False.\n",
      "  has_raised = await self.run_ast_nodes(code_ast.body, cell_name,\n"
     ]
    }
   ],
   "source": [
    "df=pd.read_csv(\"C:/Users/sylva/OneDrive/Bureau/barometre/donnees_brutes_2021.csv\", sep=\";\")"
   ]
  },
  {
   "cell_type": "code",
   "execution_count": 3,
   "metadata": {},
   "outputs": [],
   "source": [
    "p=re.compile('(\\D*) \\(([0-9]{2,2})[0-9]{3,3}\\)')\n",
    "def ville_dep(x):\n",
    "    m=p.match(x)\n",
    "    return m.group(1)+' ' +m.group(2)\n",
    "df['Ville']=df['Commune'].apply(ville_dep)"
   ]
  },
  {
   "cell_type": "code",
   "execution_count": 4,
   "metadata": {},
   "outputs": [],
   "source": [
    "df_commentaire=df[['Ville', 'Endroit_problematique_pieton',\n",
    "       'Endroit_le_plus_apprecie', 'Commentaires']]"
   ]
  },
  {
   "cell_type": "code",
   "execution_count": 7,
   "metadata": {},
   "outputs": [
    {
     "data": {
      "text/plain": [
       "1"
      ]
     },
     "execution_count": 7,
     "metadata": {},
     "output_type": "execute_result"
    }
   ],
   "source": [
    "True+False"
   ]
  },
  {
   "cell_type": "code",
   "execution_count": 9,
   "metadata": {},
   "outputs": [
    {
     "name": "stderr",
     "output_type": "stream",
     "text": [
      "C:\\Users\\sylva\\anaconda3\\lib\\site-packages\\pandas\\core\\computation\\expressions.py:203: UserWarning: evaluating in Python space because the '+' operator is not supported by numexpr for the bool dtype, use '|' instead\n",
      "  warnings.warn(\n",
      "<ipython-input-9-ed8dfac6262e>:1: SettingWithCopyWarning: \n",
      "A value is trying to be set on a copy of a slice from a DataFrame.\n",
      "Try using .loc[row_indexer,col_indexer] = value instead\n",
      "\n",
      "See the caveats in the documentation: https://pandas.pydata.org/pandas-docs/stable/user_guide/indexing.html#returning-a-view-versus-a-copy\n",
      "  df_commentaire['reponse']=(df_commentaire.notna()['Endroit_problematique_pieton']+df_commentaire.notna()['Endroit_le_plus_apprecie']+df_commentaire.notna()['Commentaires']>0)\n"
     ]
    }
   ],
   "source": [
    "df_commentaire['reponse']=(df_commentaire.notna()['Endroit_problematique_pieton']+df_commentaire.notna()['Endroit_le_plus_apprecie']+df_commentaire.notna()['Commentaires']>0)"
   ]
  },
  {
   "cell_type": "code",
   "execution_count": 16,
   "metadata": {},
   "outputs": [
    {
     "data": {
      "text/plain": [
       "0.8234682321399681"
      ]
     },
     "execution_count": 16,
     "metadata": {},
     "output_type": "execute_result"
    }
   ],
   "source": [
    "sum(df_commentaire['reponse'])/sum(df_commentaire.notna()['Ville'])"
   ]
  },
  {
   "cell_type": "code",
   "execution_count": 17,
   "metadata": {},
   "outputs": [
    {
     "name": "stderr",
     "output_type": "stream",
     "text": [
      "<ipython-input-17-60801de4fda5>:1: SettingWithCopyWarning: \n",
      "A value is trying to be set on a copy of a slice from a DataFrame.\n",
      "Try using .loc[row_indexer,col_indexer] = value instead\n",
      "\n",
      "See the caveats in the documentation: https://pandas.pydata.org/pandas-docs/stable/user_guide/indexing.html#returning-a-view-versus-a-copy\n",
      "  df_commentaire['Toutcomment']=df_commentaire['Endroit_problematique_pieton']+df_commentaire['Endroit_le_plus_apprecie']+df_commentaire['Commentaires']\n"
     ]
    }
   ],
   "source": [
    "df_commentaire['Toutcomment']=df_commentaire['Endroit_problematique_pieton']+df_commentaire['Endroit_le_plus_apprecie']+df_commentaire['Commentaires']"
   ]
  },
  {
   "cell_type": "code",
   "execution_count": 28,
   "metadata": {},
   "outputs": [
    {
     "name": "stderr",
     "output_type": "stream",
     "text": [
      "<ipython-input-28-aeeb8f6c105c>:6: SettingWithCopyWarning: \n",
      "A value is trying to be set on a copy of a slice from a DataFrame.\n",
      "Try using .loc[row_indexer,col_indexer] = value instead\n",
      "\n",
      "See the caveats in the documentation: https://pandas.pydata.org/pandas-docs/stable/user_guide/indexing.html#returning-a-view-versus-a-copy\n",
      "  df_commentaire['nombre_mot_pb']=df_commentaire['Endroit_problematique_pieton'].apply(compter)\n",
      "<ipython-input-28-aeeb8f6c105c>:7: SettingWithCopyWarning: \n",
      "A value is trying to be set on a copy of a slice from a DataFrame.\n",
      "Try using .loc[row_indexer,col_indexer] = value instead\n",
      "\n",
      "See the caveats in the documentation: https://pandas.pydata.org/pandas-docs/stable/user_guide/indexing.html#returning-a-view-versus-a-copy\n",
      "  df_commentaire['nombre_mot_ap']=df_commentaire['Endroit_le_plus_apprecie'].apply(compter)\n",
      "<ipython-input-28-aeeb8f6c105c>:8: SettingWithCopyWarning: \n",
      "A value is trying to be set on a copy of a slice from a DataFrame.\n",
      "Try using .loc[row_indexer,col_indexer] = value instead\n",
      "\n",
      "See the caveats in the documentation: https://pandas.pydata.org/pandas-docs/stable/user_guide/indexing.html#returning-a-view-versus-a-copy\n",
      "  df_commentaire['nombre_mot_com']=df_commentaire['Commentaires'].apply(compter)\n",
      "<ipython-input-28-aeeb8f6c105c>:9: SettingWithCopyWarning: \n",
      "A value is trying to be set on a copy of a slice from a DataFrame.\n",
      "Try using .loc[row_indexer,col_indexer] = value instead\n",
      "\n",
      "See the caveats in the documentation: https://pandas.pydata.org/pandas-docs/stable/user_guide/indexing.html#returning-a-view-versus-a-copy\n",
      "  df_commentaire['mot_Total']=df_commentaire['nombre_mot_pb']+df_commentaire['nombre_mot_ap']+df_commentaire['nombre_mot_com']\n"
     ]
    }
   ],
   "source": [
    "def compter (x):\n",
    "    if x==str(x):\n",
    "        return len(x.split())\n",
    "    else : \n",
    "        return 0\n",
    "df_commentaire['nombre_mot_pb']=df_commentaire['Endroit_problematique_pieton'].apply(compter)\n",
    "df_commentaire['nombre_mot_ap']=df_commentaire['Endroit_le_plus_apprecie'].apply(compter)\n",
    "df_commentaire['nombre_mot_com']=df_commentaire['Commentaires'].apply(compter)\n",
    "df_commentaire['mot_Total']=df_commentaire['nombre_mot_pb']+df_commentaire['nombre_mot_ap']+df_commentaire['nombre_mot_com']"
   ]
  },
  {
   "cell_type": "code",
   "execution_count": 31,
   "metadata": {},
   "outputs": [
    {
     "data": {
      "text/plain": [
       "48.77066434645935"
      ]
     },
     "execution_count": 31,
     "metadata": {},
     "output_type": "execute_result"
    }
   ],
   "source": [
    "sum(df_commentaire['mot_Total'])/sum(df_commentaire['reponse'])"
   ]
  },
  {
   "cell_type": "code",
   "execution_count": 8,
   "metadata": {},
   "outputs": [],
   "source": [
    "df_commentaire.to_csv(r'C:\\Users\\sylva\\OneDrive\\Bureau\\barometre\\commentaire.csv', index=False, sep=';')"
   ]
  },
  {
   "cell_type": "code",
   "execution_count": null,
   "metadata": {},
   "outputs": [],
   "source": []
  }
 ],
 "metadata": {
  "kernelspec": {
   "display_name": "Python 3",
   "language": "python",
   "name": "python3"
  },
  "language_info": {
   "codemirror_mode": {
    "name": "ipython",
    "version": 3
   },
   "file_extension": ".py",
   "mimetype": "text/x-python",
   "name": "python",
   "nbconvert_exporter": "python",
   "pygments_lexer": "ipython3",
   "version": "3.8.5"
  }
 },
 "nbformat": 4,
 "nbformat_minor": 4
}
