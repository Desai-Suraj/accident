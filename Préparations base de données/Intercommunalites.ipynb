{
 "cells": [
  {
   "cell_type": "code",
   "execution_count": 1,
   "metadata": {},
   "outputs": [],
   "source": [
    "#importation des packages\n",
    "import pandas as pd\n",
    "import numpy as np\n",
    "import re\n",
    "from matplotlib import pyplot as plt"
   ]
  },
  {
   "cell_type": "code",
   "execution_count": 2,
   "metadata": {},
   "outputs": [
    {
     "name": "stderr",
     "output_type": "stream",
     "text": [
      "C:\\Users\\sylva\\anaconda3\\lib\\site-packages\\IPython\\core\\interactiveshell.py:3146: DtypeWarning: Columns (1,3,68,70) have mixed types.Specify dtype option on import or set low_memory=False.\n",
      "  has_raised = await self.run_ast_nodes(code_ast.body, cell_name,\n"
     ]
    }
   ],
   "source": [
    "#importation des données du baromètre\n",
    "df=pd.read_csv(\"C:/Users/sylva/OneDrive/Bureau/barometre/donnees_brutes_2021.csv\", sep=\";\")"
   ]
  },
  {
   "cell_type": "code",
   "execution_count": 3,
   "metadata": {},
   "outputs": [],
   "source": [
    "#création d'une variable géographique ville enlevant les problèmes d'homonymie\n",
    "p=re.compile('(\\D*) \\(([0-9]{2,2})[0-9]{3,3}\\)')\n",
    "def yo_ville(x):\n",
    "    m=p.match(x)\n",
    "    return m.group(1)+' ' +m.group(2)\n",
    "df['Ville']=df['Commune'].apply(yo_ville)"
   ]
  },
  {
   "cell_type": "code",
   "execution_count": 13,
   "metadata": {},
   "outputs": [],
   "source": [
    "#la base où sont recensées les intercommunalités\n",
    "df_inter=pd.read_csv(\"C:/Users/sylva/OneDrive/Bureau/barometre/intercommunalite.csv\", sep=\";\", skiprows=5)"
   ]
  },
  {
   "cell_type": "code",
   "execution_count": 18,
   "metadata": {},
   "outputs": [],
   "source": [
    "#on crée une Ville correspondante\n",
    "df_inter['Ville']=df_inter['LIBGEO']+' '+df_inter['DEP']"
   ]
  },
  {
   "cell_type": "code",
   "execution_count": 19,
   "metadata": {},
   "outputs": [],
   "source": [
    "#fusion des bases\n",
    "df_complet=df.merge(df_inter[['Ville', 'LIBEPCI']], how='left')"
   ]
  },
  {
   "cell_type": "code",
   "execution_count": 22,
   "metadata": {},
   "outputs": [],
   "source": [
    "var_note =['Agencement_voirie', 'conflits_pietons', 'Conducteurs_respectent',\n",
    "       'Circulation_vehicules_motorises', 'Deplacements_pied_commune',\n",
    "       'Marche_securite', 'Securite_rues_services',\n",
    "       'Securite_rues_residentielles', 'Securite_rejoindre_communes_voisines',\n",
    "       'Acces_pietons', 'Marche_separe_circulation',\n",
    "       'Marche_separe_autres_mobilites', 'Traverse_carrefour',\n",
    "       'Deplacements_enfants_personnes_agees', 'Deplacements_enfants_ecole',\n",
    "       'Pistes_cyclables', 'Espaces_pietons',\n",
    "       'Espaces_pietons_libres_empietements', 'Espaces_pietons_entretenus',\n",
    "       'Espaces_pietons_travaux', 'Signaletique_specifique',\n",
    "       'Amenagements_confort_marcheurs', 'Trottoirs_eclaires',\n",
    "       'Commune_ecoute_pietons', 'Commune_effort_marche', 'Situation_pietons',\n",
    "       'Promotion_deplacement', 'Stationnement_espaces_pietons',\n",
    "       'Acces_transport_commun', 'Signaletique', 'Information']"
   ]
  },
  {
   "cell_type": "code",
   "execution_count": 24,
   "metadata": {},
   "outputs": [],
   "source": [
    "#on crée des moyennes par intercommunalité\n",
    "df_note=df_complet[var_note+['Commune']+['Ville']+['LIBEPCI']]\n",
    "for col in df_note.columns:\n",
    "    df_note=df_note[df_note[col].notna()]\n",
    "\n",
    "def dataville_(df, commune='Ville', var_note=var_note) :\n",
    "    liste_ville=df[commune].unique()\n",
    "    grosse_ville=[]\n",
    "    for ville in liste_ville :\n",
    "        if df[df[commune]==ville][commune].count()>50 :\n",
    "            grosse_ville+=[ville]#on va se concentrer sur les grandes villes\n",
    "    dataville=pd.DataFrame()\n",
    "    dataville[commune]=np.array(grosse_ville)\n",
    "    for col in var_note:\n",
    "        liste=[]\n",
    "        liste_ecart=[]\n",
    "        for ville in grosse_ville:\n",
    "            moyenne=0\n",
    "            nbre_reponse=0\n",
    "            ecart_type=np.std(df[df[commune]==ville][col])\n",
    "            for note in df[df[commune]==ville][col]:\n",
    "                moyenne+=note\n",
    "                nbre_reponse+=1\n",
    "            liste.append(moyenne/nbre_reponse)\n",
    "            liste_ecart.append(ecart_type)\n",
    "        dataville[col]=np.array(liste)\n",
    "        dataville[col+'std']=np.array(liste_ecart)\n",
    "    return dataville\n",
    "dataville=dataville_(df_note)\n",
    "datainter=dataville_(df_note, commune='LIBEPCI')"
   ]
  },
  {
   "cell_type": "code",
   "execution_count": 26,
   "metadata": {},
   "outputs": [
    {
     "data": {
      "text/plain": [
       "1.3788800899291496"
      ]
     },
     "execution_count": 26,
     "metadata": {},
     "output_type": "execute_result"
    }
   ],
   "source": [
    "np.mean(dataville['conflits_pietonsstd'])"
   ]
  },
  {
   "cell_type": "code",
   "execution_count": 27,
   "metadata": {},
   "outputs": [
    {
     "data": {
      "text/plain": [
       "1.4036501786202298"
      ]
     },
     "execution_count": 27,
     "metadata": {},
     "output_type": "execute_result"
    }
   ],
   "source": [
    "np.mean(datainter['conflits_pietonsstd'])"
   ]
  },
  {
   "cell_type": "code",
   "execution_count": null,
   "metadata": {},
   "outputs": [],
   "source": []
  }
 ],
 "metadata": {
  "kernelspec": {
   "display_name": "Python 3",
   "language": "python",
   "name": "python3"
  },
  "language_info": {
   "codemirror_mode": {
    "name": "ipython",
    "version": 3
   },
   "file_extension": ".py",
   "mimetype": "text/x-python",
   "name": "python",
   "nbconvert_exporter": "python",
   "pygments_lexer": "ipython3",
   "version": "3.8.5"
  }
 },
 "nbformat": 4,
 "nbformat_minor": 4
}
