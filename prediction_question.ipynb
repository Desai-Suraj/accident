{
 "cells": [
  {
   "cell_type": "code",
   "execution_count": 7,
   "metadata": {},
   "outputs": [
    {
     "name": "stderr",
     "output_type": "stream",
     "text": [
      "C:\\Users\\sylva\\anaconda3\\lib\\site-packages\\IPython\\core\\interactiveshell.py:3146: DtypeWarning: Columns (1,3,68,70) have mixed types.Specify dtype option on import or set low_memory=False.\n",
      "  has_raised = await self.run_ast_nodes(code_ast.body, cell_name,\n"
     ]
    }
   ],
   "source": [
    "#importation de la base et des packages\n",
    "import pandas as pd\n",
    "import numpy as np\n",
    "import statsmodels.discrete.discrete_model as discrete_model\n",
    "import re\n",
    "from sklearn.linear_model import LinearRegression\n",
    "df=pd.read_csv(\"C:/Users/sylva/OneDrive/Bureau/barometre/donnees_brutes_2021.csv\", sep=\";\")"
   ]
  },
  {
   "cell_type": "code",
   "execution_count": 70,
   "metadata": {},
   "outputs": [],
   "source": [
    "var_questions=[ 'Deplacement_a_pied', 'Agencement_voirie',\n",
    "       'conflits_pietons', 'Conducteurs_respectent',\n",
    "       'Circulation_vehicules_motorises', 'Deplacements_pied_commune',\n",
    "       'Marche_securite', 'Securite_rues_services',\n",
    "       'Securite_rues_residentielles', 'Securite_rejoindre_communes_voisines',\n",
    "       'Acces_pietons', 'Marche_separe_circulation',\n",
    "       'Marche_separe_autres_mobilites', 'Traverse_carrefour',\n",
    "       'Deplacements_enfants_personnes_agees', 'Deplacements_enfants_ecole',\n",
    "       'Pistes_cyclables', 'Espaces_pietons',\n",
    "       'Espaces_pietons_libres_empietements', 'Espaces_pietons_entretenus',\n",
    "       'Espaces_pietons_travaux', 'Signaletique_specifique',\n",
    "       'Amenagements_confort_marcheurs', 'Troitoirs_eclaires',\n",
    "       'Commune_ecoute_pietons', 'Commune_effort_marche', 'Situation_pietons',\n",
    "       'Promotion_deplacement', 'Stationnement_espaces_pietons',\n",
    "       'Acces_transport_commun', 'Signaletique', 'Information',\n",
    "       'Resume_condition_marche']"
   ]
  },
  {
   "cell_type": "code",
   "execution_count": 11,
   "metadata": {},
   "outputs": [],
   "source": [
    "df_questions=df[var_questions]\n",
    "for i in var_questions:\n",
    "    df_questions=df_questions[df_questions[i].notna()]"
   ]
  },
  {
   "cell_type": "code",
   "execution_count": 22,
   "metadata": {},
   "outputs": [
    {
     "name": "stdout",
     "output_type": "stream",
     "text": [
      "67.99830585863972\n"
     ]
    }
   ],
   "source": [
    "\n",
    "from sklearn.linear_model import LinearRegression\n",
    "#données\n",
    "x = np.array(df_questions[var_questions[1:]])\n",
    "y = np.array(df_questions[var_questions[:1]])\n",
    "#instancier modèle\n",
    "model_linRegMul = LinearRegression()\n",
    "#entrainement du modèle\n",
    "model_linRegMul.fit(x, y)\n",
    "#précision du modèle\n",
    "precision = model_linRegMul.score(x, y)\n",
    "print(precision*100)\n",
    "\n",
    "\n"
   ]
  },
  {
   "cell_type": "code",
   "execution_count": 26,
   "metadata": {},
   "outputs": [],
   "source": [
    "inter=model_linRegMul.intercept_"
   ]
  },
  {
   "cell_type": "code",
   "execution_count": 35,
   "metadata": {},
   "outputs": [
    {
     "data": {
      "text/plain": [
       "array([[ 2.50255548e-01,  1.89282350e-02, -1.99528824e-02,\n",
       "         6.64896363e-02,  2.10341969e-02,  1.89385402e-01,\n",
       "         3.90011101e-02,  4.58604151e-02,  2.60137039e-03,\n",
       "         1.34727558e-02,  1.07678533e-02,  6.76696106e-03,\n",
       "        -2.32837687e-02,  2.27565643e-02,  1.54619921e-02,\n",
       "        -1.76283164e-02,  3.98860953e-03, -2.80919563e-03,\n",
       "         1.50434190e-02, -2.53072833e-02, -2.89800249e-04,\n",
       "         2.74422847e-02, -3.61366772e-02,  1.11630480e-02,\n",
       "        -1.29996549e-02,  8.94023847e-03,  1.38371474e-02,\n",
       "        -2.09994803e-02, -2.65057425e-02,  1.61862842e-02,\n",
       "        -5.77168452e-03,  3.31017893e-01]])"
      ]
     },
     "execution_count": 35,
     "metadata": {},
     "output_type": "execute_result"
    }
   ],
   "source": [
    "coef=model_linRegMul.coef_\n",
    "coef"
   ]
  },
  {
   "cell_type": "code",
   "execution_count": 34,
   "metadata": {},
   "outputs": [
    {
     "data": {
      "text/plain": [
       "array([[1., 6., 2., ..., 2., 2., 3.],\n",
       "       [6., 3., 4., ..., 4., 3., 5.],\n",
       "       [4., 4., 4., ..., 3., 3., 4.],\n",
       "       ...,\n",
       "       [4., 3., 4., ..., 1., 1., 3.],\n",
       "       [5., 5., 5., ..., 5., 5., 5.],\n",
       "       [3., 2., 3., ..., 3., 3., 4.]])"
      ]
     },
     "execution_count": 34,
     "metadata": {},
     "output_type": "execute_result"
    }
   ],
   "source": [
    "x"
   ]
  },
  {
   "cell_type": "code",
   "execution_count": 48,
   "metadata": {},
   "outputs": [
    {
     "data": {
      "text/plain": [
       "array([0.44353139])"
      ]
     },
     "execution_count": 48,
     "metadata": {},
     "output_type": "execute_result"
    }
   ],
   "source": [
    "inter"
   ]
  },
  {
   "cell_type": "code",
   "execution_count": 49,
   "metadata": {},
   "outputs": [
    {
     "data": {
      "text/plain": [
       "array([[3.],\n",
       "       [6.],\n",
       "       [4.],\n",
       "       ...,\n",
       "       [4.],\n",
       "       [5.],\n",
       "       [4.]])"
      ]
     },
     "execution_count": 49,
     "metadata": {},
     "output_type": "execute_result"
    }
   ],
   "source": [
    "y"
   ]
  },
  {
   "cell_type": "code",
   "execution_count": 65,
   "metadata": {},
   "outputs": [
    {
     "name": "stdout",
     "output_type": "stream",
     "text": [
      "[0.61219606]\n"
     ]
    }
   ],
   "source": [
    "print(sum(abs((np.transpose((np.around(np.dot(coef,np.transpose(x)), 0)))-y)))/len(y))"
   ]
  },
  {
   "cell_type": "code",
   "execution_count": 91,
   "metadata": {},
   "outputs": [],
   "source": [
    "def prediction(question):\n",
    "    num_question=var_questions.index(question)\n",
    "    x = np.array(df_questions[var_questions[:num_question]+var_questions[num_question+1:]])\n",
    "    y = np.array(df_questions[question])\n",
    "    model_linRegMul = LinearRegression()\n",
    "    model_linRegMul.fit(x, y)\n",
    "    coef=model_linRegMul.coef_\n",
    "    inter=model_linRegMul.intercept_\n",
    "    print(question, 'erreur=', sum(abs((np.transpose((np.around(np.dot(coef,np.transpose(x)), 0)))-y)))/len(y))\n",
    "    print(question, 'erreur avec moyenne=', sum(abs(y.mean()-y)/len(y)))"
   ]
  },
  {
   "cell_type": "code",
   "execution_count": 89,
   "metadata": {},
   "outputs": [
    {
     "name": "stdout",
     "output_type": "stream",
     "text": [
      "[ 0.01453226  0.05948252  0.01343629  0.00828165  0.00485627 -0.0062039\n",
      "  0.05154745  0.01264835  0.00202899  0.01963836  0.01509939 -0.00791622\n",
      "  0.01612252  0.0834941   0.49479563  0.01161774  0.07054477  0.05402675\n",
      " -0.01339003  0.00301531  0.01567229  0.00878521 -0.00651132  0.00961722\n",
      "  0.00254633  0.0033362  -0.00726798  0.00739317 -0.02028796 -0.01153403\n",
      " -0.00906448  0.100517  ]\n",
      "Deplacements_enfants_personnes_agees erreur= 0.38892664047035186\n"
     ]
    }
   ],
   "source": [
    "question='Deplacements_enfants_personnes_agees'\n",
    "num_question=var_questions.index(question)\n",
    "x = np.array(df_questions[var_questions[:num_question]+var_questions[num_question+1:]])\n",
    "y = np.array(df_questions[question])\n",
    "model_linRegMul = LinearRegression()\n",
    "model_linRegMul.fit(x, y)\n",
    "coef=model_linRegMul.coef_\n",
    "inter=model_linRegMul.intercept_\n",
    "print(coef)\n",
    "print(question, 'erreur=', sum(abs((np.transpose((np.around(np.dot(coef,np.transpose(x)), 0)))-y)))/len(y))\n"
   ]
  },
  {
   "cell_type": "code",
   "execution_count": 90,
   "metadata": {},
   "outputs": [
    {
     "name": "stdout",
     "output_type": "stream",
     "text": [
      "[ 1.08248691e-02  4.27641306e-03 -3.27698382e-03  3.45445522e-02\n",
      "  4.45528768e-02 -9.19187925e-04  7.49930801e-02  3.23885313e-03\n",
      "  3.06079503e-02  2.51448757e-02  3.41200175e-02 -1.70664609e-02\n",
      "  7.17170687e-03  7.88203078e-02  5.42445941e-01  3.46662968e-02\n",
      "  6.43993150e-03  2.15519459e-02 -8.40960629e-04  9.20821072e-03\n",
      "  6.25219176e-03  1.67675762e-03  2.67723963e-04 -2.51969710e-03\n",
      " -2.39103097e-05 -9.04210942e-03  8.80666891e-03  6.29886503e-03\n",
      " -2.63503871e-03  2.63347197e-04 -2.51379670e-04  6.34606497e-02]\n",
      "Deplacements_enfants_ecole erreur= 0.3922061039383106\n"
     ]
    }
   ],
   "source": [
    "question='Deplacements_enfants_ecole'\n",
    "num_question=var_questions.index(question)\n",
    "x = np.array(df_questions[var_questions[:num_question]+var_questions[num_question+1:]])\n",
    "y = np.array(df_questions[question])\n",
    "model_linRegMul = LinearRegression()\n",
    "model_linRegMul.fit(x, y)\n",
    "coef=model_linRegMul.coef_\n",
    "inter=model_linRegMul.intercept_\n",
    "print(coef)\n",
    "print(question, 'erreur=', sum(abs((np.transpose((np.around(np.dot(coef,np.transpose(x)), 0)))-y)))/len(y))"
   ]
  },
  {
   "cell_type": "code",
   "execution_count": 87,
   "metadata": {},
   "outputs": [
    {
     "data": {
      "text/plain": [
       "array([[3.],\n",
       "       [6.],\n",
       "       [4.],\n",
       "       ...,\n",
       "       [4.],\n",
       "       [5.],\n",
       "       [4.]])"
      ]
     },
     "execution_count": 87,
     "metadata": {},
     "output_type": "execute_result"
    }
   ],
   "source": [
    "y"
   ]
  },
  {
   "cell_type": "code",
   "execution_count": null,
   "metadata": {},
   "outputs": [],
   "source": []
  },
  {
   "cell_type": "code",
   "execution_count": 92,
   "metadata": {},
   "outputs": [
    {
     "name": "stdout",
     "output_type": "stream",
     "text": [
      "Deplacement_a_pied erreur= 0.6121960587348952\n",
      "Deplacement_a_pied erreur avec moyenne= 1.074408202524149\n",
      "Agencement_voirie erreur= 0.5439182202263125\n",
      "Agencement_voirie erreur avec moyenne= 1.1897045574586114\n",
      "conflits_pietons erreur= 1.1094336277956687\n",
      "conflits_pietons erreur avec moyenne= 1.3345392649512167\n",
      "Conducteurs_respectent erreur= 0.6511655390433421\n",
      "Conducteurs_respectent erreur avec moyenne= 1.1873785284309\n",
      "Circulation_vehicules_motorises erreur= 0.8123024197122345\n",
      "Circulation_vehicules_motorises erreur avec moyenne= 1.0134110882548644\n",
      "Deplacements_pied_commune erreur= 2.119153839335835\n",
      "Deplacements_pied_commune erreur avec moyenne= 0.9875987776667166\n",
      "Marche_securite erreur= 0.3939196974621089\n",
      "Marche_securite erreur avec moyenne= 0.9912906843917072\n",
      "Securite_rues_services erreur= 0.5990191154312051\n",
      "Securite_rues_services erreur avec moyenne= 1.0912013205949929\n",
      "Securite_rues_residentielles erreur= 0.8181818181818182\n",
      "Securite_rues_residentielles erreur avec moyenne= 1.0566606627737887\n",
      "Securite_rejoindre_communes_voisines erreur= 0.8546990870682778\n",
      "Securite_rejoindre_communes_voisines erreur avec moyenne= 1.2171068219043149\n",
      "Acces_pietons erreur= 0.6220935385706267\n",
      "Acces_pietons erreur avec moyenne= 0.9672886277021002\n",
      "Marche_separe_circulation erreur= 2.2152037108163203\n",
      "Marche_separe_circulation erreur avec moyenne= 0.8459194147606818\n",
      "Marche_separe_autres_mobilites erreur= 1.4336573403846722\n",
      "Marche_separe_autres_mobilites erreur avec moyenne= 1.0810658533453894\n",
      "Traverse_carrefour erreur= 0.6140869205542588\n",
      "Traverse_carrefour erreur avec moyenne= 1.043234200303641\n",
      "Deplacements_enfants_personnes_agees erreur= 0.38892664047035186\n",
      "Deplacements_enfants_personnes_agees erreur avec moyenne= 1.0403506021605042\n",
      "Deplacements_enfants_ecole erreur= 0.3922061039383106\n",
      "Deplacements_enfants_ecole erreur avec moyenne= 1.0564399402564115\n",
      "Pistes_cyclables erreur= 0.8399267291044996\n",
      "Pistes_cyclables erreur avec moyenne= 1.0785174031562372\n",
      "Espaces_pietons erreur= 0.6001122699205247\n",
      "Espaces_pietons erreur avec moyenne= 1.1605915468565984\n",
      "Espaces_pietons_libres_empietements erreur= 0.5255414069193725\n",
      "Espaces_pietons_libres_empietements erreur avec moyenne= 1.1672842162891723\n",
      "Espaces_pietons_entretenus erreur= 0.6774307915029397\n",
      "Espaces_pietons_entretenus erreur avec moyenne= 1.202104937452415\n",
      "Espaces_pietons_travaux erreur= 0.6819215883239282\n",
      "Espaces_pietons_travaux erreur avec moyenne= 1.1505399434099628\n",
      "Signaletique_specifique erreur= 0.6610630188790735\n",
      "Signaletique_specifique erreur avec moyenne= 1.1454560298919458\n",
      "Amenagements_confort_marcheurs erreur= 0.6529973114308506\n",
      "Amenagements_confort_marcheurs erreur avec moyenne= 1.0769867569517626\n",
      "Troitoirs_eclaires erreur= 0.8410789730256744\n",
      "Troitoirs_eclaires erreur avec moyenne= 1.0883847150327282\n",
      "Commune_ecoute_pietons erreur= 0.5086418294088102\n",
      "Commune_ecoute_pietons erreur avec moyenne= 1.1555616879391157\n",
      "Commune_effort_marche erreur= 0.5034715041214879\n",
      "Commune_effort_marche erreur avec moyenne= 1.083005584798013\n",
      "Situation_pietons erreur= 1.0180222767158094\n",
      "Situation_pietons erreur avec moyenne= 0.6356334401107828\n",
      "Promotion_deplacement erreur= 0.5821195379206429\n",
      "Promotion_deplacement erreur avec moyenne= 1.1633465944537384\n",
      "Stationnement_espaces_pietons erreur= 0.7581174107010961\n",
      "Stationnement_espaces_pietons erreur avec moyenne= 1.2774231620934102\n",
      "Acces_transport_commun erreur= 1.3377256477678967\n",
      "Acces_transport_commun erreur avec moyenne= 1.0127231547276931\n",
      "Signaletique erreur= 0.6214730995361479\n",
      "Signaletique erreur avec moyenne= 1.1591773494468882\n",
      "Information erreur= 0.598694123556002\n",
      "Information erreur avec moyenne= 1.0871968650453738\n",
      "Resume_condition_marche erreur= 0.6107188229385174\n",
      "Resume_condition_marche erreur avec moyenne= 1.1021295886585805\n"
     ]
    }
   ],
   "source": [
    "for i in var_questions:\n",
    "    prediction(i)"
   ]
  },
  {
   "cell_type": "code",
   "execution_count": null,
   "metadata": {},
   "outputs": [],
   "source": []
  }
 ],
 "metadata": {
  "kernelspec": {
   "display_name": "Python 3",
   "language": "python",
   "name": "python3"
  },
  "language_info": {
   "codemirror_mode": {
    "name": "ipython",
    "version": 3
   },
   "file_extension": ".py",
   "mimetype": "text/x-python",
   "name": "python",
   "nbconvert_exporter": "python",
   "pygments_lexer": "ipython3",
   "version": "3.8.5"
  }
 },
 "nbformat": 4,
 "nbformat_minor": 4
}
